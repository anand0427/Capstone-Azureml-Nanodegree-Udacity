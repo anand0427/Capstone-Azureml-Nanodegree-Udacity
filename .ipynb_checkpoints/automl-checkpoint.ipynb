{
 "cells": [
  {
   "cell_type": "markdown",
   "metadata": {},
   "source": [
    "# Automated ML\n",
    "\n",
    "TODO: Import Dependencies. In the cell below, import all the dependencies that you will need to complete the project."
   ]
  },
  {
   "cell_type": "code",
   "execution_count": 35,
   "metadata": {
    "collapsed": false,
    "gather": {
     "logged": 1598423888013
    },
    "jupyter": {
     "outputs_hidden": false,
     "source_hidden": false
    },
    "nteract": {
     "transient": {
      "deleting": false
     }
    }
   },
   "outputs": [],
   "source": [
    "from azureml.core.experiment import Experiment\n",
    "from azureml.core.workspace import Workspace\n",
    "from azureml.train.automl import AutoMLConfig\n",
    "\n",
    "from azureml.core.compute import AmlCompute\n",
    "from azureml.core.compute import ComputeTarget\n",
    "from azureml.core.dataset import Dataset\n",
    "\n",
    "# deployment\n",
    "from azureml.core.webservice import AciWebservice\n",
    "from azureml.core.model import Model"
   ]
  },
  {
   "cell_type": "markdown",
   "metadata": {},
   "source": [
    "## Dataset\n",
    "\n",
    "### Overview\n",
    "TODO: In this markdown cell, give an overview of the dataset you are using. Also mention the task you will be performing.\n",
    "\n",
    "\n",
    "TODO: Get data. In the cell below, write code to access the data you will be using in this project. Remember that the dataset needs to be external."
   ]
  },
  {
   "cell_type": "code",
   "execution_count": 26,
   "metadata": {
    "collapsed": false,
    "gather": {
     "logged": 1598423890461
    },
    "jupyter": {
     "outputs_hidden": false,
     "source_hidden": false
    },
    "nteract": {
     "transient": {
      "deleting": false
     }
    }
   },
   "outputs": [
    {
     "data": {
      "text/html": [
       "<table style=\"width:100%\"><tr><th>Name</th><th>Workspace</th><th>Report Page</th><th>Docs Page</th></tr><tr><td>automl-model</td><td>quick-starts-ws-152630</td><td><a href=\"https://ml.azure.com/experiments/id/143c4579-88ba-45f5-b29e-db719ed73486?wsid=/subscriptions/a0a76bad-11a1-4a2d-9887-97a29122c8ed/resourcegroups/aml-quickstarts-152630/workspaces/quick-starts-ws-152630&amp;tid=660b3398-b80e-49d2-bc5b-ac1dc93b5254\" target=\"_blank\" rel=\"noopener\">Link to Azure Machine Learning studio</a></td><td><a href=\"https://docs.microsoft.com/en-us/python/api/azureml-core/azureml.core.experiment.Experiment?view=azure-ml-py\" target=\"_blank\" rel=\"noopener\">Link to Documentation</a></td></tr></table>"
      ],
      "text/plain": [
       "Experiment(Name: automl-model,\n",
       "Workspace: quick-starts-ws-152630)"
      ]
     },
     "execution_count": 26,
     "metadata": {},
     "output_type": "execute_result"
    }
   ],
   "source": [
    "ws = Workspace.from_config()\n",
    "\n",
    "# choose a name for experiment\n",
    "experiment_name = 'automl-model'\n",
    "project_folder = './iris-classification-project-3'\n",
    "experiment=Experiment(ws, experiment_name)\n",
    "experiment"
   ]
  },
  {
   "cell_type": "code",
   "execution_count": 9,
   "metadata": {},
   "outputs": [
    {
     "name": "stdout",
     "output_type": "stream",
     "text": [
      "\n",
      "Running\n"
     ]
    }
   ],
   "source": [
    "# get compute target\n",
    "amlcompute_name = 'notebook152630'\n",
    "\n",
    "compute_target = ComputeTarget(workspace=ws, name=amlcompute_name)\n",
    "compute_target.wait_for_completion(show_output=True)"
   ]
  },
  {
   "cell_type": "code",
   "execution_count": 24,
   "metadata": {},
   "outputs": [
    {
     "data": {
      "text/html": [
       "<div>\n",
       "<style scoped>\n",
       "    .dataframe tbody tr th:only-of-type {\n",
       "        vertical-align: middle;\n",
       "    }\n",
       "\n",
       "    .dataframe tbody tr th {\n",
       "        vertical-align: top;\n",
       "    }\n",
       "\n",
       "    .dataframe thead th {\n",
       "        text-align: right;\n",
       "    }\n",
       "</style>\n",
       "<table border=\"1\" class=\"dataframe\">\n",
       "  <thead>\n",
       "    <tr style=\"text-align: right;\">\n",
       "      <th></th>\n",
       "      <th>Column1</th>\n",
       "      <th>Column2</th>\n",
       "      <th>Column3</th>\n",
       "      <th>Column4</th>\n",
       "      <th>Column5</th>\n",
       "    </tr>\n",
       "  </thead>\n",
       "  <tbody>\n",
       "    <tr>\n",
       "      <th>0</th>\n",
       "      <td>5.1</td>\n",
       "      <td>3.5</td>\n",
       "      <td>1.4</td>\n",
       "      <td>0.2</td>\n",
       "      <td>Iris-setosa</td>\n",
       "    </tr>\n",
       "    <tr>\n",
       "      <th>1</th>\n",
       "      <td>4.9</td>\n",
       "      <td>3.0</td>\n",
       "      <td>1.4</td>\n",
       "      <td>0.2</td>\n",
       "      <td>Iris-setosa</td>\n",
       "    </tr>\n",
       "    <tr>\n",
       "      <th>2</th>\n",
       "      <td>4.7</td>\n",
       "      <td>3.2</td>\n",
       "      <td>1.3</td>\n",
       "      <td>0.2</td>\n",
       "      <td>Iris-setosa</td>\n",
       "    </tr>\n",
       "    <tr>\n",
       "      <th>3</th>\n",
       "      <td>4.6</td>\n",
       "      <td>3.1</td>\n",
       "      <td>1.5</td>\n",
       "      <td>0.2</td>\n",
       "      <td>Iris-setosa</td>\n",
       "    </tr>\n",
       "    <tr>\n",
       "      <th>4</th>\n",
       "      <td>5.0</td>\n",
       "      <td>3.6</td>\n",
       "      <td>1.4</td>\n",
       "      <td>0.2</td>\n",
       "      <td>Iris-setosa</td>\n",
       "    </tr>\n",
       "  </tbody>\n",
       "</table>\n",
       "</div>"
      ],
      "text/plain": [
       "   Column1  Column2  Column3  Column4      Column5\n",
       "0      5.1      3.5      1.4      0.2  Iris-setosa\n",
       "1      4.9      3.0      1.4      0.2  Iris-setosa\n",
       "2      4.7      3.2      1.3      0.2  Iris-setosa\n",
       "3      4.6      3.1      1.5      0.2  Iris-setosa\n",
       "4      5.0      3.6      1.4      0.2  Iris-setosa"
      ]
     },
     "execution_count": 24,
     "metadata": {},
     "output_type": "execute_result"
    }
   ],
   "source": [
    "#get data from kaggle for titanic csv\n",
    "example_data = 'https://archive.ics.uci.edu/ml/machine-learning-databases/iris/iris.data'\n",
    "dataset = Dataset.Tabular.from_delimited_files(example_data, header=False)        \n",
    "#Register Dataset in Workspace\n",
    "dataset = dataset.register(workspace=ws,\n",
    "                                   name=\"Iris Classification\",\n",
    "                                   description=\"Classification problem for iris species\")\n",
    "\n",
    "\n",
    "df = dataset.to_pandas_dataframe()\n",
    "df.head()"
   ]
  },
  {
   "cell_type": "code",
   "execution_count": 25,
   "metadata": {},
   "outputs": [
    {
     "data": {
      "text/plain": [
       "array(['Iris-setosa', 'Iris-versicolor', 'Iris-virginica'], dtype=object)"
      ]
     },
     "execution_count": 25,
     "metadata": {},
     "output_type": "execute_result"
    }
   ],
   "source": [
    "df[\"Column5\"].unique()"
   ]
  },
  {
   "cell_type": "markdown",
   "metadata": {},
   "source": [
    "## AutoML Configuration\n",
    "\n",
    "TODO: Explain why you chose the automl settings and cofiguration you used below."
   ]
  },
  {
   "cell_type": "code",
   "execution_count": 27,
   "metadata": {
    "collapsed": false,
    "gather": {
     "logged": 1598429217746
    },
    "jupyter": {
     "outputs_hidden": false,
     "source_hidden": false
    },
    "nteract": {
     "transient": {
      "deleting": false
     }
    }
   },
   "outputs": [],
   "source": [
    "# TODO: Put your automl settings here\n",
    "automl_settings = {\n",
    "    \"experiment_timeout_minutes\":20,\n",
    "    \"max_concurrent_iterations\":2,\n",
    "    \"primary_metric\":'AUC_weighted'\n",
    "}\n",
    "\n",
    "# TODO: Put your automl config here\n",
    "automl_config = AutoMLConfig(\n",
    "                            compute_target=compute_target,\n",
    "                             task = \"classification\",\n",
    "                             training_data=dataset,\n",
    "                             label_column_name=\"Column5\",   \n",
    "                             path = project_folder,\n",
    "                             enable_early_stopping= True,\n",
    "                             featurization= 'auto',\n",
    "                             debug_log = \"automl_errors.log\",\n",
    "                             **automl_settings\n",
    "    )"
   ]
  },
  {
   "cell_type": "code",
   "execution_count": 28,
   "metadata": {
    "collapsed": false,
    "gather": {
     "logged": 1598431107951
    },
    "jupyter": {
     "outputs_hidden": false,
     "source_hidden": false
    },
    "nteract": {
     "transient": {
      "deleting": false
     }
    }
   },
   "outputs": [
    {
     "name": "stdout",
     "output_type": "stream",
     "text": [
      "Submitting remote run.\n"
     ]
    },
    {
     "data": {
      "text/html": [
       "<table style=\"width:100%\"><tr><th>Experiment</th><th>Id</th><th>Type</th><th>Status</th><th>Details Page</th><th>Docs Page</th></tr><tr><td>automl-model</td><td>AutoML_b4cbf68f-a6f5-44f2-a5bb-459c192249d6</td><td>automl</td><td>NotStarted</td><td><a href=\"https://ml.azure.com/runs/AutoML_b4cbf68f-a6f5-44f2-a5bb-459c192249d6?wsid=/subscriptions/a0a76bad-11a1-4a2d-9887-97a29122c8ed/resourcegroups/aml-quickstarts-152630/workspaces/quick-starts-ws-152630&amp;tid=660b3398-b80e-49d2-bc5b-ac1dc93b5254\" target=\"_blank\" rel=\"noopener\">Link to Azure Machine Learning studio</a></td><td><a href=\"https://docs.microsoft.com/en-us/python/api/overview/azure/ml/intro?view=azure-ml-py\" target=\"_blank\" rel=\"noopener\">Link to Documentation</a></td></tr></table>"
      ],
      "text/plain": [
       "<IPython.core.display.HTML object>"
      ]
     },
     "metadata": {},
     "output_type": "display_data"
    }
   ],
   "source": [
    "# TODO: Submit your experiment\n",
    "remote_run = experiment.submit(automl_config)"
   ]
  },
  {
   "cell_type": "markdown",
   "metadata": {},
   "source": [
    "## Run Details\n",
    "\n",
    "OPTIONAL: Write about the different models trained and their performance. Why do you think some models did better than others?\n",
    "\n",
    "TODO: In the cell below, use the `RunDetails` widget to show the different experiments."
   ]
  },
  {
   "cell_type": "code",
   "execution_count": 29,
   "metadata": {
    "collapsed": false,
    "gather": {
     "logged": 1598431121770
    },
    "jupyter": {
     "outputs_hidden": false,
     "source_hidden": false
    },
    "nteract": {
     "transient": {
      "deleting": false
     }
    }
   },
   "outputs": [
    {
     "data": {
      "application/vnd.jupyter.widget-view+json": {
       "model_id": "009ffe1af86149fe948f74a4eb94d520",
       "version_major": 2,
       "version_minor": 0
      },
      "text/plain": [
       "_AutoMLWidget(widget_settings={'childWidgetDisplay': 'popup', 'send_telemetry': False, 'log_level': 'INFO', 's…"
      ]
     },
     "metadata": {},
     "output_type": "display_data"
    },
    {
     "data": {
      "application/aml.mini.widget.v1": "{\"status\": \"Completed\", \"workbench_run_details_uri\": \"https://ml.azure.com/runs/AutoML_b4cbf68f-a6f5-44f2-a5bb-459c192249d6?wsid=/subscriptions/a0a76bad-11a1-4a2d-9887-97a29122c8ed/resourcegroups/aml-quickstarts-152630/workspaces/quick-starts-ws-152630&tid=660b3398-b80e-49d2-bc5b-ac1dc93b5254\", \"run_id\": \"AutoML_b4cbf68f-a6f5-44f2-a5bb-459c192249d6\", \"run_properties\": {\"run_id\": \"AutoML_b4cbf68f-a6f5-44f2-a5bb-459c192249d6\", \"created_utc\": \"2021-07-26T23:54:38.953589Z\", \"properties\": {\"num_iterations\": \"1000\", \"training_type\": \"TrainFull\", \"acquisition_function\": \"EI\", \"primary_metric\": \"AUC_weighted\", \"train_split\": \"0\", \"acquisition_parameter\": \"0\", \"num_cross_validation\": null, \"target\": \"notebook152630\", \"AMLSettingsJsonString\": \"{\\\"path\\\":null,\\\"name\\\":\\\"automl-model\\\",\\\"subscription_id\\\":\\\"a0a76bad-11a1-4a2d-9887-97a29122c8ed\\\",\\\"resource_group\\\":\\\"aml-quickstarts-152630\\\",\\\"workspace_name\\\":\\\"quick-starts-ws-152630\\\",\\\"region\\\":\\\"southcentralus\\\",\\\"compute_target\\\":\\\"notebook152630\\\",\\\"spark_service\\\":null,\\\"azure_service\\\":\\\"remote\\\",\\\"many_models\\\":false,\\\"pipeline_fetch_max_batch_size\\\":1,\\\"enable_batch_run\\\":false,\\\"enable_run_restructure\\\":false,\\\"start_auxiliary_runs_before_parent_complete\\\":false,\\\"enable_code_generation\\\":false,\\\"iterations\\\":1000,\\\"primary_metric\\\":\\\"AUC_weighted\\\",\\\"task_type\\\":\\\"classification\\\",\\\"data_script\\\":null,\\\"test_size\\\":0.0,\\\"validation_size\\\":0.0,\\\"n_cross_validations\\\":null,\\\"y_min\\\":null,\\\"y_max\\\":null,\\\"num_classes\\\":null,\\\"featurization\\\":\\\"auto\\\",\\\"_ignore_package_version_incompatibilities\\\":false,\\\"is_timeseries\\\":false,\\\"max_cores_per_iteration\\\":1,\\\"max_concurrent_iterations\\\":2,\\\"iteration_timeout_minutes\\\":null,\\\"mem_in_mb\\\":null,\\\"enforce_time_on_windows\\\":false,\\\"experiment_timeout_minutes\\\":20,\\\"experiment_exit_score\\\":null,\\\"whitelist_models\\\":null,\\\"blacklist_algos\\\":[\\\"TensorFlowLinearClassifier\\\",\\\"TensorFlowDNN\\\"],\\\"supported_models\\\":[\\\"LightGBM\\\",\\\"LogisticRegression\\\",\\\"MultinomialNaiveBayes\\\",\\\"BernoulliNaiveBayes\\\",\\\"XGBoostClassifier\\\",\\\"AveragedPerceptronClassifier\\\",\\\"GradientBoosting\\\",\\\"SVM\\\",\\\"DecisionTree\\\",\\\"TensorFlowDNN\\\",\\\"ExtremeRandomTrees\\\",\\\"TensorFlowLinearClassifier\\\",\\\"RandomForest\\\",\\\"KNN\\\",\\\"SGD\\\",\\\"LinearSVM\\\"],\\\"private_models\\\":[],\\\"auto_blacklist\\\":true,\\\"blacklist_samples_reached\\\":false,\\\"exclude_nan_labels\\\":true,\\\"verbosity\\\":20,\\\"_debug_log\\\":\\\"azureml_automl.log\\\",\\\"show_warnings\\\":false,\\\"model_explainability\\\":true,\\\"service_url\\\":null,\\\"sdk_url\\\":null,\\\"sdk_packages\\\":null,\\\"enable_onnx_compatible_models\\\":false,\\\"enable_split_onnx_featurizer_estimator_models\\\":false,\\\"vm_type\\\":\\\"STANDARD_DS3_V2\\\",\\\"telemetry_verbosity\\\":20,\\\"send_telemetry\\\":true,\\\"enable_dnn\\\":false,\\\"scenario\\\":\\\"SDK-1.13.0\\\",\\\"environment_label\\\":null,\\\"save_mlflow\\\":false,\\\"force_text_dnn\\\":false,\\\"enable_feature_sweeping\\\":true,\\\"enable_early_stopping\\\":true,\\\"early_stopping_n_iters\\\":10,\\\"metrics\\\":null,\\\"enable_metric_confidence\\\":false,\\\"enable_ensembling\\\":true,\\\"enable_stack_ensembling\\\":true,\\\"ensemble_iterations\\\":15,\\\"enable_tf\\\":false,\\\"enable_subsampling\\\":null,\\\"subsample_seed\\\":null,\\\"enable_nimbusml\\\":false,\\\"enable_streaming\\\":false,\\\"force_streaming\\\":false,\\\"track_child_runs\\\":true,\\\"allowed_private_models\\\":[],\\\"label_column_name\\\":\\\"Column5\\\",\\\"weight_column_name\\\":null,\\\"cv_split_column_names\\\":null,\\\"enable_local_managed\\\":false,\\\"_local_managed_run_id\\\":null,\\\"cost_mode\\\":1,\\\"lag_length\\\":0,\\\"metric_operation\\\":\\\"maximize\\\",\\\"preprocess\\\":true}\", \"DataPrepJsonString\": \"{\\\\\\\"training_data\\\\\\\": {\\\\\\\"datasetId\\\\\\\": \\\\\\\"f051cd99-2e3c-4fdb-b0dd-65c3712ff666\\\\\\\"}, \\\\\\\"datasets\\\\\\\": 0}\", \"EnableSubsampling\": null, \"runTemplate\": \"AutoML\", \"azureml.runsource\": \"automl\", \"display_task_type\": \"classification\", \"dependencies_versions\": \"{\\\"azureml-widgets\\\": \\\"1.31.0\\\", \\\"azureml-train\\\": \\\"1.31.0\\\", \\\"azureml-train-restclients-hyperdrive\\\": \\\"1.31.0\\\", \\\"azureml-train-core\\\": \\\"1.31.0\\\", \\\"azureml-train-automl\\\": \\\"1.31.0\\\", \\\"azureml-train-automl-runtime\\\": \\\"1.31.0\\\", \\\"azureml-train-automl-client\\\": \\\"1.31.0\\\", \\\"azureml-tensorboard\\\": \\\"1.31.0\\\", \\\"azureml-telemetry\\\": \\\"1.31.0\\\", \\\"azureml-sdk\\\": \\\"1.31.0\\\", \\\"azureml-samples\\\": \\\"0+unknown\\\", \\\"azureml-responsibleai\\\": \\\"1.31.0\\\", \\\"azureml-pipeline\\\": \\\"1.31.0\\\", \\\"azureml-pipeline-steps\\\": \\\"1.31.0\\\", \\\"azureml-pipeline-core\\\": \\\"1.31.0\\\", \\\"azureml-opendatasets\\\": \\\"1.31.0\\\", \\\"azureml-model-management-sdk\\\": \\\"1.0.1b6.post1\\\", \\\"azureml-mlflow\\\": \\\"1.31.0\\\", \\\"azureml-interpret\\\": \\\"1.31.0\\\", \\\"azureml-explain-model\\\": \\\"1.31.0\\\", \\\"azureml-defaults\\\": \\\"1.31.0\\\", \\\"azureml-dataset-runtime\\\": \\\"1.31.0\\\", \\\"azureml-dataprep\\\": \\\"2.18.0\\\", \\\"azureml-dataprep-rslex\\\": \\\"1.16.1\\\", \\\"azureml-dataprep-native\\\": \\\"36.0.0\\\", \\\"azureml-datadrift\\\": \\\"1.31.0\\\", \\\"azureml-core\\\": \\\"1.31.0\\\", \\\"azureml-contrib-services\\\": \\\"1.31.0\\\", \\\"azureml-contrib-server\\\": \\\"1.31.0\\\", \\\"azureml-contrib-reinforcementlearning\\\": \\\"1.31.0\\\", \\\"azureml-contrib-pipeline-steps\\\": \\\"1.31.0\\\", \\\"azureml-contrib-notebook\\\": \\\"1.31.0\\\", \\\"azureml-contrib-fairness\\\": \\\"1.31.0\\\", \\\"azureml-contrib-dataset\\\": \\\"1.31.0\\\", \\\"azureml-cli-common\\\": \\\"1.31.0\\\", \\\"azureml-automl-runtime\\\": \\\"1.31.0\\\", \\\"azureml-automl-dnn-nlp\\\": \\\"1.31.0\\\", \\\"azureml-automl-core\\\": \\\"1.31.0\\\", \\\"azureml-accel-models\\\": \\\"1.31.0\\\"}\", \"_aml_system_scenario_identification\": \"Remote.Parent\", \"ClientType\": \"SDK\", \"environment_cpu_name\": \"AzureML-AutoML\", \"environment_cpu_label\": \"prod\", \"environment_gpu_name\": \"AzureML-AutoML-GPU\", \"environment_gpu_label\": \"prod\", \"root_attribution\": \"automl\", \"attribution\": \"AutoML\", \"Orchestrator\": \"AutoML\", \"CancelUri\": \"https://southcentralus.api.azureml.ms/jasmine/v1.0/subscriptions/a0a76bad-11a1-4a2d-9887-97a29122c8ed/resourceGroups/aml-quickstarts-152630/providers/Microsoft.MachineLearningServices/workspaces/quick-starts-ws-152630/experimentids/143c4579-88ba-45f5-b29e-db719ed73486/cancel/AutoML_b4cbf68f-a6f5-44f2-a5bb-459c192249d6\", \"ClientSdkVersion\": \"1.32.0\", \"snapshotId\": \"00000000-0000-0000-0000-000000000000\", \"SetupRunId\": \"AutoML_b4cbf68f-a6f5-44f2-a5bb-459c192249d6_setup\", \"SetupRunContainerId\": \"dcid.AutoML_b4cbf68f-a6f5-44f2-a5bb-459c192249d6_setup\", \"FeaturizationRunJsonPath\": \"featurizer_container.json\", \"FeaturizationRunId\": \"AutoML_b4cbf68f-a6f5-44f2-a5bb-459c192249d6_featurize\", \"ProblemInfoJsonString\": \"{\\\"dataset_num_categorical\\\": 0, \\\"is_sparse\\\": false, \\\"subsampling\\\": false, \\\"has_extra_col\\\": true, \\\"dataset_classes\\\": 3, \\\"dataset_features\\\": 4, \\\"dataset_samples\\\": 150, \\\"single_frequency_class_detected\\\": false}\", \"ModelExplainRunId\": \"AutoML_b4cbf68f-a6f5-44f2-a5bb-459c192249d6_ModelExplain\"}, \"tags\": {\"model_explain_run\": \"best_run\", \"_aml_system_azureml.automlComponent\": \"AutoML\", \"pipeline_id\": \"\", \"score\": \"\", \"predicted_cost\": \"\", \"fit_time\": \"\", \"training_percent\": \"\", \"iteration\": \"\", \"run_preprocessor\": \"\", \"run_algorithm\": \"\", \"automl_best_child_run_id\": \"AutoML_b4cbf68f-a6f5-44f2-a5bb-459c192249d6_9\", \"model_explain_best_run_child_id\": \"AutoML_b4cbf68f-a6f5-44f2-a5bb-459c192249d6_9\"}, \"end_time_utc\": \"2021-07-27T00:36:10.305951Z\", \"status\": \"Completed\", \"log_files\": {}, \"log_groups\": [], \"run_duration\": \"0:41:31\", \"run_number\": \"1\", \"run_queued_details\": {\"status\": \"Completed\", \"details\": null}}, \"child_runs\": [{\"run_id\": \"AutoML_b4cbf68f-a6f5-44f2-a5bb-459c192249d6_1\", \"run_number\": 5, \"metric\": null, \"status\": \"Completed\", \"run_type\": \"azureml.scriptrun\", \"training_percent\": \"100\", \"start_time\": \"2021-07-27T00:09:36.107838Z\", \"end_time\": \"2021-07-27T00:15:24.987161Z\", \"created_time\": \"2021-07-27T00:09:23.039469Z\", \"created_time_dt\": \"2021-07-27T00:09:23.039469Z\", \"duration\": \"0:06:01\", \"iteration\": \"1\", \"goal\": \"AUC_weighted_max\", \"run_name\": \"MaxAbsScaler, XGBoostClassifier\", \"run_properties\": \"copy=True\", \"primary_metric\": 0.98712121, \"best_metric\": 0.98815488}, {\"run_id\": \"AutoML_b4cbf68f-a6f5-44f2-a5bb-459c192249d6_0\", \"run_number\": 6, \"metric\": null, \"status\": \"Completed\", \"run_type\": \"azureml.scriptrun\", \"training_percent\": \"100\", \"start_time\": \"2021-07-27T00:09:36.072071Z\", \"end_time\": \"2021-07-27T00:15:26.480041Z\", \"created_time\": \"2021-07-27T00:09:23.023154Z\", \"created_time_dt\": \"2021-07-27T00:09:23.023154Z\", \"duration\": \"0:06:03\", \"iteration\": \"0\", \"goal\": \"AUC_weighted_max\", \"run_name\": \"MaxAbsScaler, LightGBM\", \"run_properties\": \"copy=True\", \"primary_metric\": 0.98815488, \"best_metric\": 0.98815488}, {\"run_id\": \"AutoML_b4cbf68f-a6f5-44f2-a5bb-459c192249d6_2\", \"run_number\": 7, \"metric\": null, \"status\": \"Completed\", \"run_type\": \"azureml.scriptrun\", \"training_percent\": \"100\", \"start_time\": \"2021-07-27T00:15:42.349599Z\", \"end_time\": \"2021-07-27T00:21:29.629588Z\", \"created_time\": \"2021-07-27T00:15:26.680156Z\", \"created_time_dt\": \"2021-07-27T00:15:26.680156Z\", \"duration\": \"0:06:02\", \"iteration\": \"2\", \"goal\": \"AUC_weighted_max\", \"run_name\": \"MinMaxScaler, RandomForest\", \"run_properties\": \"copy=True, feature_range=(0, 1\", \"primary_metric\": 0.98707576, \"best_metric\": 0.98815488}, {\"run_id\": \"AutoML_b4cbf68f-a6f5-44f2-a5bb-459c192249d6_3\", \"run_number\": 8, \"metric\": null, \"status\": \"Completed\", \"run_type\": \"azureml.scriptrun\", \"training_percent\": \"100\", \"start_time\": \"2021-07-27T00:15:40.459872Z\", \"end_time\": \"2021-07-27T00:21:31.781551Z\", \"created_time\": \"2021-07-27T00:15:30.115397Z\", \"created_time_dt\": \"2021-07-27T00:15:30.115397Z\", \"duration\": \"0:06:01\", \"iteration\": \"3\", \"goal\": \"AUC_weighted_max\", \"run_name\": \"RobustScaler, ExtremeRandomTrees\", \"run_properties\": \"copy=True, quantile_range=[10, 90], with_centering=False,\\n             with_scaling=False\", \"primary_metric\": 0.99712121, \"best_metric\": 0.99712121}, {\"run_id\": \"AutoML_b4cbf68f-a6f5-44f2-a5bb-459c192249d6_4\", \"run_number\": 9, \"metric\": null, \"status\": \"Completed\", \"run_type\": \"azureml.scriptrun\", \"training_percent\": \"100\", \"start_time\": \"2021-07-27T00:21:42.876527Z\", \"end_time\": \"2021-07-27T00:27:28.011275Z\", \"created_time\": \"2021-07-27T00:21:31.803834Z\", \"created_time_dt\": \"2021-07-27T00:21:31.803834Z\", \"duration\": \"0:05:56\", \"iteration\": \"4\", \"goal\": \"AUC_weighted_max\", \"run_name\": \"MinMaxScaler, RandomForest\", \"run_properties\": \"copy=True, feature_range=(0, 1\", \"primary_metric\": 0.99012121, \"best_metric\": 0.99712121}, {\"run_id\": \"AutoML_b4cbf68f-a6f5-44f2-a5bb-459c192249d6_5\", \"run_number\": 10, \"metric\": null, \"status\": \"Completed\", \"run_type\": \"azureml.scriptrun\", \"training_percent\": \"100\", \"start_time\": \"2021-07-27T00:21:44.800381Z\", \"end_time\": \"2021-07-27T00:27:29.448692Z\", \"created_time\": \"2021-07-27T00:21:36.282147Z\", \"created_time_dt\": \"2021-07-27T00:21:36.282147Z\", \"duration\": \"0:05:53\", \"iteration\": \"5\", \"goal\": \"AUC_weighted_max\", \"run_name\": \"MinMaxScaler, RandomForest\", \"run_properties\": \"copy=True, feature_range=(0, 1\", \"primary_metric\": 0.99533838, \"best_metric\": 0.99712121}, {\"run_id\": \"AutoML_b4cbf68f-a6f5-44f2-a5bb-459c192249d6_6\", \"run_number\": 11, \"metric\": null, \"status\": \"Canceled\", \"run_type\": \"azureml.scriptrun\", \"training_percent\": \"100\", \"start_time\": \"2021-07-27T00:27:47.626128Z\", \"end_time\": \"2021-07-27T00:29:51.481397Z\", \"created_time\": \"2021-07-27T00:27:30.393637Z\", \"created_time_dt\": \"2021-07-27T00:27:30.393637Z\", \"duration\": \"0:02:21\", \"iteration\": \"6\", \"goal\": null, \"run_name\": \"Canceled\", \"run_properties\": null}, {\"run_id\": \"AutoML_b4cbf68f-a6f5-44f2-a5bb-459c192249d6_7\", \"run_number\": 12, \"metric\": null, \"status\": \"Canceled\", \"run_type\": \"azureml.scriptrun\", \"training_percent\": \"100\", \"start_time\": \"2021-07-27T00:27:47.487031Z\", \"end_time\": \"2021-07-27T00:29:50.513668Z\", \"created_time\": \"2021-07-27T00:27:37.099767Z\", \"created_time_dt\": \"2021-07-27T00:27:37.099767Z\", \"duration\": \"0:02:13\", \"iteration\": \"7\", \"goal\": null, \"run_name\": \"Canceled\", \"run_properties\": null}, {\"run_id\": \"AutoML_b4cbf68f-a6f5-44f2-a5bb-459c192249d6_8\", \"run_number\": 13, \"metric\": null, \"status\": \"Completed\", \"run_type\": \"azureml.scriptrun\", \"training_percent\": \"100\", \"start_time\": \"2021-07-27T00:30:08.300322Z\", \"end_time\": \"2021-07-27T00:36:08.675697Z\", \"created_time\": \"2021-07-27T00:29:54.034814Z\", \"created_time_dt\": \"2021-07-27T00:29:54.034814Z\", \"duration\": \"0:06:14\", \"iteration\": \"8\", \"goal\": \"AUC_weighted_max\", \"run_name\": \"VotingEnsemble\", \"run_properties\": \"\\n    estimators=[('3', Pipeline(memory=None,\\n             steps=[('robustscaler',\\n                     RobustScaler(copy=True, quantile_range=[10, 90],\\n                                  with_centering=False, with_scaling=False\", \"primary_metric\": 0.99712121, \"best_metric\": 0.99712121}, {\"run_id\": \"AutoML_b4cbf68f-a6f5-44f2-a5bb-459c192249d6_9\", \"run_number\": 14, \"metric\": null, \"status\": \"Completed\", \"run_type\": \"azureml.scriptrun\", \"training_percent\": \"100\", \"start_time\": \"2021-07-27T00:30:08.064419Z\", \"end_time\": \"2021-07-27T00:36:07.712142Z\", \"created_time\": \"2021-07-27T00:29:54.064398Z\", \"created_time_dt\": \"2021-07-27T00:29:54.064398Z\", \"duration\": \"0:06:13\", \"iteration\": \"9\", \"goal\": \"AUC_weighted_max\", \"run_name\": \"StackEnsemble\", \"run_properties\": \"\\n    base_learners=[('3', Pipeline(memory=None,\\n             steps=[('robustscaler',\\n                     RobustScaler(copy=True, quantile_range=[10, 90],\\n                                  with_centering=False, with_scaling=False\", \"primary_metric\": 0.99722727, \"best_metric\": 0.99722727}], \"children_metrics\": {\"categories\": [0], \"series\": {\"AUC_macro\": [{\"categories\": [\"0\", \"1\", \"2\", \"3\", \"4\", \"5\", \"8\", \"9\"], \"mode\": \"markers\", \"name\": \"AUC_macro\", \"stepped\": false, \"type\": \"scatter\", \"data\": [0.9885966009299342, 0.9872943722943723, 0.9873427128427128, 0.9972943722943723, 0.9902943722943723, 0.9950545935545934, 0.9972943722943723, 0.9973138528138528]}, {\"categories\": [\"0\", \"1\", \"2\", \"3\", \"4\", \"5\", \"8\", \"9\"], \"mode\": \"lines\", \"name\": \"AUC_macro_max\", \"stepped\": true, \"type\": \"scatter\", \"data\": [0.9885966009299342, 0.9885966009299342, 0.9885966009299342, 0.9972943722943723, 0.9972943722943723, 0.9972943722943723, 0.9972943722943723, 0.9973138528138528]}], \"recall_score_weighted\": [{\"categories\": [\"0\", \"1\", \"2\", \"3\", \"4\", \"5\", \"8\", \"9\"], \"mode\": \"markers\", \"name\": \"recall_score_weighted\", \"stepped\": false, \"type\": \"scatter\", \"data\": [0.9400000000000001, 0.9466666666666667, 0.9600000000000002, 0.9533333333333334, 0.9466666666666667, 0.9533333333333334, 0.96, 0.9466666666666667]}, {\"categories\": [\"0\", \"1\", \"2\", \"3\", \"4\", \"5\", \"8\", \"9\"], \"mode\": \"lines\", \"name\": \"recall_score_weighted_max\", \"stepped\": true, \"type\": \"scatter\", \"data\": [0.9400000000000001, 0.9466666666666667, 0.9600000000000002, 0.9600000000000002, 0.9600000000000002, 0.9600000000000002, 0.9600000000000002, 0.9600000000000002]}], \"weighted_accuracy\": [{\"categories\": [\"0\", \"1\", \"2\", \"3\", \"4\", \"5\", \"8\", \"9\"], \"mode\": \"markers\", \"name\": \"weighted_accuracy\", \"stepped\": false, \"type\": \"scatter\", \"data\": [0.9316567709183333, 0.9437942095617962, 0.9609985106370649, 0.9523963600994305, 0.9437942095617962, 0.9523963600994305, 0.9573346317043688, 0.9437942095617962]}, {\"categories\": [\"0\", \"1\", \"2\", \"3\", \"4\", \"5\", \"8\", \"9\"], \"mode\": \"lines\", \"name\": \"weighted_accuracy_max\", \"stepped\": true, \"type\": \"scatter\", \"data\": [0.9316567709183333, 0.9437942095617962, 0.9609985106370649, 0.9609985106370649, 0.9609985106370649, 0.9609985106370649, 0.9609985106370649, 0.9609985106370649]}], \"precision_score_micro\": [{\"categories\": [\"0\", \"1\", \"2\", \"3\", \"4\", \"5\", \"8\", \"9\"], \"mode\": \"markers\", \"name\": \"precision_score_micro\", \"stepped\": false, \"type\": \"scatter\", \"data\": [0.9400000000000001, 0.9466666666666667, 0.9600000000000002, 0.9533333333333334, 0.9466666666666667, 0.9533333333333334, 0.96, 0.9466666666666667]}, {\"categories\": [\"0\", \"1\", \"2\", \"3\", \"4\", \"5\", \"8\", \"9\"], \"mode\": \"lines\", \"name\": \"precision_score_micro_max\", \"stepped\": true, \"type\": \"scatter\", \"data\": [0.9400000000000001, 0.9466666666666667, 0.9600000000000002, 0.9600000000000002, 0.9600000000000002, 0.9600000000000002, 0.9600000000000002, 0.9600000000000002]}], \"matthews_correlation\": [{\"categories\": [\"0\", \"1\", \"2\", \"3\", \"4\", \"5\", \"8\", \"9\"], \"mode\": \"markers\", \"name\": \"matthews_correlation\", \"stepped\": false, \"type\": \"scatter\", \"data\": [0.913154186500714, 0.9221238703798921, 0.9405620278778117, 0.9304029029988256, 0.9221238703798921, 0.9304029029988256, 0.9403661457990085, 0.9221238703798921]}, {\"categories\": [\"0\", \"1\", \"2\", \"3\", \"4\", \"5\", \"8\", \"9\"], \"mode\": \"lines\", \"name\": \"matthews_correlation_max\", \"stepped\": true, \"type\": \"scatter\", \"data\": [0.913154186500714, 0.9221238703798921, 0.9405620278778117, 0.9405620278778117, 0.9405620278778117, 0.9405620278778117, 0.9405620278778117, 0.9405620278778117]}], \"average_precision_score_weighted\": [{\"categories\": [\"0\", \"1\", \"2\", \"3\", \"4\", \"5\", \"8\", \"9\"], \"mode\": \"markers\", \"name\": \"average_precision_score_weighted\", \"stepped\": false, \"type\": \"scatter\", \"data\": [0.9836058201058201, 0.982436507936508, 0.9754920634920634, 0.9959920634920636, 0.9829920634920635, 0.9920396825396824, 0.9959920634920636, 0.9956111111111111]}, {\"categories\": [\"0\", \"1\", \"2\", \"3\", \"4\", \"5\", \"8\", \"9\"], \"mode\": \"lines\", \"name\": \"average_precision_score_weighted_max\", \"stepped\": true, \"type\": \"scatter\", \"data\": [0.9836058201058201, 0.9836058201058201, 0.9836058201058201, 0.9959920634920636, 0.9959920634920636, 0.9959920634920636, 0.9959920634920636, 0.9959920634920636]}], \"AUC_weighted\": [{\"categories\": [\"0\", \"1\", \"2\", \"3\", \"4\", \"5\", \"8\", \"9\"], \"mode\": \"markers\", \"name\": \"AUC_weighted\", \"stepped\": false, \"type\": \"scatter\", \"data\": [0.988154882154882, 0.9871212121212121, 0.9870757575757576, 0.9971212121212121, 0.9901212121212122, 0.9953383838383839, 0.9971212121212121, 0.9972272727272727]}, {\"categories\": [\"0\", \"1\", \"2\", \"3\", \"4\", \"5\", \"8\", \"9\"], \"mode\": \"lines\", \"name\": \"AUC_weighted_max\", \"stepped\": true, \"type\": \"scatter\", \"data\": [0.988154882154882, 0.988154882154882, 0.988154882154882, 0.9971212121212121, 0.9971212121212121, 0.9971212121212121, 0.9971212121212121, 0.9972272727272727]}], \"log_loss\": [{\"categories\": [\"0\", \"1\", \"2\", \"3\", \"4\", \"5\", \"8\", \"9\"], \"mode\": \"markers\", \"name\": \"log_loss\", \"stepped\": false, \"type\": \"scatter\", \"data\": [0.21652783245217494, 0.19158209315260283, 0.5377286250816977, 0.14105236997274345, 0.3231366052343054, 0.12355390686447701, 0.1292349668691473, 0.15644306910017652]}, {\"categories\": [\"0\", \"1\", \"2\", \"3\", \"4\", \"5\", \"8\", \"9\"], \"mode\": \"lines\", \"name\": \"log_loss_min\", \"stepped\": true, \"type\": \"scatter\", \"data\": [0.21652783245217494, 0.19158209315260283, 0.19158209315260283, 0.14105236997274345, 0.14105236997274345, 0.12355390686447701, 0.12355390686447701, 0.12355390686447701]}], \"recall_score_macro\": [{\"categories\": [\"0\", \"1\", \"2\", \"3\", \"4\", \"5\", \"8\", \"9\"], \"mode\": \"markers\", \"name\": \"recall_score_macro\", \"stepped\": false, \"type\": \"scatter\", \"data\": [0.9501587301587302, 0.9513492063492063, 0.9596825396825397, 0.955515873015873, 0.9513492063492063, 0.955515873015873, 0.9638492063492065, 0.9513492063492063]}, {\"categories\": [\"0\", \"1\", \"2\", \"3\", \"4\", \"5\", \"8\", \"9\"], \"mode\": \"lines\", \"name\": \"recall_score_macro_max\", \"stepped\": true, \"type\": \"scatter\", \"data\": [0.9501587301587302, 0.9513492063492063, 0.9596825396825397, 0.9596825396825397, 0.9596825396825397, 0.9596825396825397, 0.9638492063492065, 0.9638492063492065]}], \"balanced_accuracy\": [{\"categories\": [\"0\", \"1\", \"2\", \"3\", \"4\", \"5\", \"8\", \"9\"], \"mode\": \"markers\", \"name\": \"balanced_accuracy\", \"stepped\": false, \"type\": \"scatter\", \"data\": [0.9501587301587302, 0.9513492063492063, 0.9596825396825397, 0.955515873015873, 0.9513492063492063, 0.955515873015873, 0.9638492063492065, 0.9513492063492063]}, {\"categories\": [\"0\", \"1\", \"2\", \"3\", \"4\", \"5\", \"8\", \"9\"], \"mode\": \"lines\", \"name\": \"balanced_accuracy_max\", \"stepped\": true, \"type\": \"scatter\", \"data\": [0.9501587301587302, 0.9513492063492063, 0.9596825396825397, 0.9596825396825397, 0.9596825396825397, 0.9596825396825397, 0.9638492063492065, 0.9638492063492065]}], \"average_precision_score_micro\": [{\"categories\": [\"0\", \"1\", \"2\", \"3\", \"4\", \"5\", \"8\", \"9\"], \"mode\": \"markers\", \"name\": \"average_precision_score_micro\", \"stepped\": false, \"type\": \"scatter\", \"data\": [0.9803807800897248, 0.9735524503016763, 0.9714226508785332, 0.9947401960784313, 0.9798803728950787, 0.9898276195768455, 0.9943447712418301, 0.9939183006535947]}, {\"categories\": [\"0\", \"1\", \"2\", \"3\", \"4\", \"5\", \"8\", \"9\"], \"mode\": \"lines\", \"name\": \"average_precision_score_micro_max\", \"stepped\": true, \"type\": \"scatter\", \"data\": [0.9803807800897248, 0.9803807800897248, 0.9803807800897248, 0.9947401960784313, 0.9947401960784313, 0.9947401960784313, 0.9947401960784313, 0.9947401960784313]}], \"f1_score_micro\": [{\"categories\": [\"0\", \"1\", \"2\", \"3\", \"4\", \"5\", \"8\", \"9\"], \"mode\": \"markers\", \"name\": \"f1_score_micro\", \"stepped\": false, \"type\": \"scatter\", \"data\": [0.9400000000000001, 0.9466666666666667, 0.9600000000000002, 0.9533333333333334, 0.9466666666666667, 0.9533333333333334, 0.96, 0.9466666666666667]}, {\"categories\": [\"0\", \"1\", \"2\", \"3\", \"4\", \"5\", \"8\", \"9\"], \"mode\": \"lines\", \"name\": \"f1_score_micro_max\", \"stepped\": true, \"type\": \"scatter\", \"data\": [0.9400000000000001, 0.9466666666666667, 0.9600000000000002, 0.9600000000000002, 0.9600000000000002, 0.9600000000000002, 0.9600000000000002, 0.9600000000000002]}], \"average_precision_score_macro\": [{\"categories\": [\"0\", \"1\", \"2\", \"3\", \"4\", \"5\", \"8\", \"9\"], \"mode\": \"markers\", \"name\": \"average_precision_score_macro\", \"stepped\": false, \"type\": \"scatter\", \"data\": [0.9841662887377172, 0.9823911564625851, 0.9713633786848073, 0.9959467120181407, 0.9829467120181405, 0.9908333333333333, 0.9959467120181407, 0.9955158730158731]}, {\"categories\": [\"0\", \"1\", \"2\", \"3\", \"4\", \"5\", \"8\", \"9\"], \"mode\": \"lines\", \"name\": \"average_precision_score_macro_max\", \"stepped\": true, \"type\": \"scatter\", \"data\": [0.9841662887377172, 0.9841662887377172, 0.9841662887377172, 0.9959467120181407, 0.9959467120181407, 0.9959467120181407, 0.9959467120181407, 0.9959467120181407]}], \"precision_score_weighted\": [{\"categories\": [\"0\", \"1\", \"2\", \"3\", \"4\", \"5\", \"8\", \"9\"], \"mode\": \"markers\", \"name\": \"precision_score_weighted\", \"stepped\": false, \"type\": \"scatter\", \"data\": [0.9537777777777778, 0.9580555555555555, 0.9647222222222223, 0.9602777777777778, 0.9580555555555555, 0.9602777777777778, 0.9661111111111111, 0.9580555555555555]}, {\"categories\": [\"0\", \"1\", \"2\", \"3\", \"4\", \"5\", \"8\", \"9\"], \"mode\": \"lines\", \"name\": \"precision_score_weighted_max\", \"stepped\": true, \"type\": \"scatter\", \"data\": [0.9537777777777778, 0.9580555555555555, 0.9647222222222223, 0.9647222222222223, 0.9647222222222223, 0.9647222222222223, 0.9661111111111111, 0.9661111111111111]}], \"accuracy\": [{\"categories\": [\"0\", \"1\", \"2\", \"3\", \"4\", \"5\", \"8\", \"9\"], \"mode\": \"markers\", \"name\": \"accuracy\", \"stepped\": false, \"type\": \"scatter\", \"data\": [0.9400000000000001, 0.9466666666666667, 0.9600000000000002, 0.9533333333333334, 0.9466666666666667, 0.9533333333333334, 0.96, 0.9466666666666667]}, {\"categories\": [\"0\", \"1\", \"2\", \"3\", \"4\", \"5\", \"8\", \"9\"], \"mode\": \"lines\", \"name\": \"accuracy_max\", \"stepped\": true, \"type\": \"scatter\", \"data\": [0.9400000000000001, 0.9466666666666667, 0.9600000000000002, 0.9600000000000002, 0.9600000000000002, 0.9600000000000002, 0.9600000000000002, 0.9600000000000002]}], \"f1_score_macro\": [{\"categories\": [\"0\", \"1\", \"2\", \"3\", \"4\", \"5\", \"8\", \"9\"], \"mode\": \"markers\", \"name\": \"f1_score_macro\", \"stepped\": false, \"type\": \"scatter\", \"data\": [0.9367373367373368, 0.9427873977873977, 0.9586604136604135, 0.9497715247715247, 0.9427873977873977, 0.9497715247715247, 0.9567556517556517, 0.9427873977873977]}, {\"categories\": [\"0\", \"1\", \"2\", \"3\", \"4\", \"5\", \"8\", \"9\"], \"mode\": \"lines\", \"name\": \"f1_score_macro_max\", \"stepped\": true, \"type\": \"scatter\", \"data\": [0.9367373367373368, 0.9427873977873977, 0.9586604136604135, 0.9586604136604135, 0.9586604136604135, 0.9586604136604135, 0.9586604136604135, 0.9586604136604135]}], \"precision_score_macro\": [{\"categories\": [\"0\", \"1\", \"2\", \"3\", \"4\", \"5\", \"8\", \"9\"], \"mode\": \"markers\", \"name\": \"precision_score_macro\", \"stepped\": false, \"type\": \"scatter\", \"data\": [0.9366666666666668, 0.9466269841269842, 0.9632936507936508, 0.9521825396825397, 0.9466269841269842, 0.9521825396825397, 0.9563492063492063, 0.9466269841269842]}, {\"categories\": [\"0\", \"1\", \"2\", \"3\", \"4\", \"5\", \"8\", \"9\"], \"mode\": \"lines\", \"name\": \"precision_score_macro_max\", \"stepped\": true, \"type\": \"scatter\", \"data\": [0.9366666666666668, 0.9466269841269842, 0.9632936507936508, 0.9632936507936508, 0.9632936507936508, 0.9632936507936508, 0.9632936507936508, 0.9632936507936508]}], \"f1_score_weighted\": [{\"categories\": [\"0\", \"1\", \"2\", \"3\", \"4\", \"5\", \"8\", \"9\"], \"mode\": \"markers\", \"name\": \"f1_score_weighted\", \"stepped\": false, \"type\": \"scatter\", \"data\": [0.9418699818699819, 0.9477210197210197, 0.9597845117845119, 0.9535622895622897, 0.9477210197210197, 0.9535622895622897, 0.9604829244829245, 0.9477210197210197]}, {\"categories\": [\"0\", \"1\", \"2\", \"3\", \"4\", \"5\", \"8\", \"9\"], \"mode\": \"lines\", \"name\": \"f1_score_weighted_max\", \"stepped\": true, \"type\": \"scatter\", \"data\": [0.9418699818699819, 0.9477210197210197, 0.9597845117845119, 0.9597845117845119, 0.9597845117845119, 0.9597845117845119, 0.9604829244829245, 0.9604829244829245]}], \"recall_score_micro\": [{\"categories\": [\"0\", \"1\", \"2\", \"3\", \"4\", \"5\", \"8\", \"9\"], \"mode\": \"markers\", \"name\": \"recall_score_micro\", \"stepped\": false, \"type\": \"scatter\", \"data\": [0.9400000000000001, 0.9466666666666667, 0.9600000000000002, 0.9533333333333334, 0.9466666666666667, 0.9533333333333334, 0.96, 0.9466666666666667]}, {\"categories\": [\"0\", \"1\", \"2\", \"3\", \"4\", \"5\", \"8\", \"9\"], \"mode\": \"lines\", \"name\": \"recall_score_micro_max\", \"stepped\": true, \"type\": \"scatter\", \"data\": [0.9400000000000001, 0.9466666666666667, 0.9600000000000002, 0.9600000000000002, 0.9600000000000002, 0.9600000000000002, 0.9600000000000002, 0.9600000000000002]}], \"norm_macro_recall\": [{\"categories\": [\"0\", \"1\", \"2\", \"3\", \"4\", \"5\", \"8\", \"9\"], \"mode\": \"markers\", \"name\": \"norm_macro_recall\", \"stepped\": false, \"type\": \"scatter\", \"data\": [0.9252380952380953, 0.9270238095238096, 0.9395238095238095, 0.9332738095238096, 0.9270238095238096, 0.9332738095238096, 0.9457738095238095, 0.9270238095238096]}, {\"categories\": [\"0\", \"1\", \"2\", \"3\", \"4\", \"5\", \"8\", \"9\"], \"mode\": \"lines\", \"name\": \"norm_macro_recall_max\", \"stepped\": true, \"type\": \"scatter\", \"data\": [0.9252380952380953, 0.9270238095238096, 0.9395238095238095, 0.9395238095238095, 0.9395238095238095, 0.9395238095238095, 0.9457738095238095, 0.9457738095238095]}], \"AUC_micro\": [{\"categories\": [\"0\", \"1\", \"2\", \"3\", \"4\", \"5\", \"8\", \"9\"], \"mode\": \"markers\", \"name\": \"AUC_micro\", \"stepped\": false, \"type\": \"scatter\", \"data\": [0.9891111111111112, 0.987111111111111, 0.9862222222222223, 0.9971111111111112, 0.9898888888888889, 0.9944444444444445, 0.9968888888888889, 0.9966666666666667]}, {\"categories\": [\"0\", \"1\", \"2\", \"3\", \"4\", \"5\", \"8\", \"9\"], \"mode\": \"lines\", \"name\": \"AUC_micro_max\", \"stepped\": true, \"type\": \"scatter\", \"data\": [0.9891111111111112, 0.9891111111111112, 0.9891111111111112, 0.9971111111111112, 0.9971111111111112, 0.9971111111111112, 0.9971111111111112, 0.9971111111111112]}]}, \"metricName\": null, \"primaryMetricName\": \"AUC_weighted\", \"showLegend\": false}, \"run_metrics\": [{\"name\": \"experiment_status\", \"run_id\": \"AutoML_b4cbf68f-a6f5-44f2-a5bb-459c192249d6\", \"categories\": [0, 1, 2, 3, 4, 5, 6, 7, 8, 9, 10, 11, 12, 13], \"series\": [{\"data\": [\"DatasetEvaluation\", \"FeaturesGeneration\", \"DatasetFeaturization\", \"DatasetFeaturizationCompleted\", \"DatasetCrossValidationSplit\", \"ModelSelection\", \"BestRunExplainModel\", \"ModelExplanationDataSetSetup\", \"PickSurrogateModel\", \"EngineeredFeatureExplanations\", \"EngineeredFeatureExplanations\", \"RawFeaturesExplanations\", \"RawFeaturesExplanations\", \"BestRunExplainModel\"]}]}, {\"name\": \"experiment_status_description\", \"run_id\": \"AutoML_b4cbf68f-a6f5-44f2-a5bb-459c192249d6\", \"categories\": [0, 1, 2, 3, 4, 5, 6, 7, 8, 9, 10, 11, 12, 13], \"series\": [{\"data\": [\"Gathering dataset statistics.\", \"Generating features for the dataset.\", \"Beginning to fit featurizers and featurize the dataset.\", \"Completed fit featurizers and featurizing the dataset.\", \"Generating individually featurized CV splits.\", \"Beginning model selection.\", \"Best run model explanations started\", \"Model explanations data setup completed\", \"Choosing LightGBM as the surrogate model for explanations\", \"Computation of engineered features started\", \"Computation of engineered features completed\", \"Computation of raw features started\", \"Computation of raw features completed\", \"Best run model explanations completed\"]}]}, {\"name\": \"accuracy\", \"run_id\": \"AutoML_b4cbf68f-a6f5-44f2-a5bb-459c192249d6\", \"categories\": [0], \"series\": [{\"data\": [0.9466666666666667]}]}, {\"name\": \"AUC_micro\", \"run_id\": \"AutoML_b4cbf68f-a6f5-44f2-a5bb-459c192249d6\", \"categories\": [0], \"series\": [{\"data\": [0.9966666666666667]}]}, {\"name\": \"recall_score_weighted\", \"run_id\": \"AutoML_b4cbf68f-a6f5-44f2-a5bb-459c192249d6\", \"categories\": [0], \"series\": [{\"data\": [0.9466666666666667]}]}, {\"name\": \"recall_score_macro\", \"run_id\": \"AutoML_b4cbf68f-a6f5-44f2-a5bb-459c192249d6\", \"categories\": [0], \"series\": [{\"data\": [0.9513492063492063]}]}, {\"name\": \"f1_score_micro\", \"run_id\": \"AutoML_b4cbf68f-a6f5-44f2-a5bb-459c192249d6\", \"categories\": [0], \"series\": [{\"data\": [0.9466666666666667]}]}, {\"name\": \"precision_score_weighted\", \"run_id\": \"AutoML_b4cbf68f-a6f5-44f2-a5bb-459c192249d6\", \"categories\": [0], \"series\": [{\"data\": [0.9580555555555555]}]}, {\"name\": \"average_precision_score_weighted\", \"run_id\": \"AutoML_b4cbf68f-a6f5-44f2-a5bb-459c192249d6\", \"categories\": [0], \"series\": [{\"data\": [0.9956111111111111]}]}, {\"name\": \"f1_score_macro\", \"run_id\": \"AutoML_b4cbf68f-a6f5-44f2-a5bb-459c192249d6\", \"categories\": [0], \"series\": [{\"data\": [0.9427873977873977]}]}, {\"name\": \"balanced_accuracy\", \"run_id\": \"AutoML_b4cbf68f-a6f5-44f2-a5bb-459c192249d6\", \"categories\": [0], \"series\": [{\"data\": [0.9513492063492063]}]}, {\"name\": \"average_precision_score_macro\", \"run_id\": \"AutoML_b4cbf68f-a6f5-44f2-a5bb-459c192249d6\", \"categories\": [0], \"series\": [{\"data\": [0.9955158730158731]}]}, {\"name\": \"weighted_accuracy\", \"run_id\": \"AutoML_b4cbf68f-a6f5-44f2-a5bb-459c192249d6\", \"categories\": [0], \"series\": [{\"data\": [0.9437942095617962]}]}, {\"name\": \"recall_score_micro\", \"run_id\": \"AutoML_b4cbf68f-a6f5-44f2-a5bb-459c192249d6\", \"categories\": [0], \"series\": [{\"data\": [0.9466666666666667]}]}, {\"name\": \"f1_score_weighted\", \"run_id\": \"AutoML_b4cbf68f-a6f5-44f2-a5bb-459c192249d6\", \"categories\": [0], \"series\": [{\"data\": [0.9477210197210197]}]}, {\"name\": \"average_precision_score_micro\", \"run_id\": \"AutoML_b4cbf68f-a6f5-44f2-a5bb-459c192249d6\", \"categories\": [0], \"series\": [{\"data\": [0.9939183006535947]}]}, {\"name\": \"log_loss\", \"run_id\": \"AutoML_b4cbf68f-a6f5-44f2-a5bb-459c192249d6\", \"categories\": [0], \"series\": [{\"data\": [0.15644306910017652]}]}, {\"name\": \"matthews_correlation\", \"run_id\": \"AutoML_b4cbf68f-a6f5-44f2-a5bb-459c192249d6\", \"categories\": [0], \"series\": [{\"data\": [0.9221238703798921]}]}, {\"name\": \"AUC_weighted\", \"run_id\": \"AutoML_b4cbf68f-a6f5-44f2-a5bb-459c192249d6\", \"categories\": [0], \"series\": [{\"data\": [0.9972272727272727]}]}, {\"name\": \"norm_macro_recall\", \"run_id\": \"AutoML_b4cbf68f-a6f5-44f2-a5bb-459c192249d6\", \"categories\": [0], \"series\": [{\"data\": [0.9270238095238096]}]}, {\"name\": \"precision_score_macro\", \"run_id\": \"AutoML_b4cbf68f-a6f5-44f2-a5bb-459c192249d6\", \"categories\": [0], \"series\": [{\"data\": [0.9466269841269842]}]}, {\"name\": \"AUC_macro\", \"run_id\": \"AutoML_b4cbf68f-a6f5-44f2-a5bb-459c192249d6\", \"categories\": [0], \"series\": [{\"data\": [0.9973138528138528]}]}, {\"name\": \"precision_score_micro\", \"run_id\": \"AutoML_b4cbf68f-a6f5-44f2-a5bb-459c192249d6\", \"categories\": [0], \"series\": [{\"data\": [0.9466666666666667]}]}], \"run_logs\": \"\\nRun is completed.\", \"graph\": {}, \"widget_settings\": {\"childWidgetDisplay\": \"popup\", \"send_telemetry\": false, \"log_level\": \"INFO\", \"sdk_version\": \"1.31.0\"}, \"loading\": false}"
     },
     "metadata": {},
     "output_type": "display_data"
    }
   ],
   "source": [
    "from azureml.widgets import RunDetails\n",
    "RunDetails(remote_run).show()"
   ]
  },
  {
   "cell_type": "code",
   "execution_count": 30,
   "metadata": {},
   "outputs": [
    {
     "data": {
      "text/plain": [
       "{'runId': 'AutoML_b4cbf68f-a6f5-44f2-a5bb-459c192249d6',\n",
       " 'target': 'notebook152630',\n",
       " 'status': 'Completed',\n",
       " 'startTimeUtc': '2021-07-26T23:54:58.925276Z',\n",
       " 'endTimeUtc': '2021-07-27T00:36:10.305951Z',\n",
       " 'properties': {'num_iterations': '1000',\n",
       "  'training_type': 'TrainFull',\n",
       "  'acquisition_function': 'EI',\n",
       "  'primary_metric': 'AUC_weighted',\n",
       "  'train_split': '0',\n",
       "  'acquisition_parameter': '0',\n",
       "  'num_cross_validation': None,\n",
       "  'target': 'notebook152630',\n",
       "  'AMLSettingsJsonString': '{\"path\":null,\"name\":\"automl-model\",\"subscription_id\":\"a0a76bad-11a1-4a2d-9887-97a29122c8ed\",\"resource_group\":\"aml-quickstarts-152630\",\"workspace_name\":\"quick-starts-ws-152630\",\"region\":\"southcentralus\",\"compute_target\":\"notebook152630\",\"spark_service\":null,\"azure_service\":\"remote\",\"many_models\":false,\"pipeline_fetch_max_batch_size\":1,\"enable_batch_run\":false,\"enable_run_restructure\":false,\"start_auxiliary_runs_before_parent_complete\":false,\"enable_code_generation\":false,\"iterations\":1000,\"primary_metric\":\"AUC_weighted\",\"task_type\":\"classification\",\"data_script\":null,\"test_size\":0.0,\"validation_size\":0.0,\"n_cross_validations\":null,\"y_min\":null,\"y_max\":null,\"num_classes\":null,\"featurization\":\"auto\",\"_ignore_package_version_incompatibilities\":false,\"is_timeseries\":false,\"max_cores_per_iteration\":1,\"max_concurrent_iterations\":2,\"iteration_timeout_minutes\":null,\"mem_in_mb\":null,\"enforce_time_on_windows\":false,\"experiment_timeout_minutes\":20,\"experiment_exit_score\":null,\"whitelist_models\":null,\"blacklist_algos\":[\"TensorFlowLinearClassifier\",\"TensorFlowDNN\"],\"supported_models\":[\"LightGBM\",\"LogisticRegression\",\"MultinomialNaiveBayes\",\"BernoulliNaiveBayes\",\"XGBoostClassifier\",\"AveragedPerceptronClassifier\",\"GradientBoosting\",\"SVM\",\"DecisionTree\",\"TensorFlowDNN\",\"ExtremeRandomTrees\",\"TensorFlowLinearClassifier\",\"RandomForest\",\"KNN\",\"SGD\",\"LinearSVM\"],\"private_models\":[],\"auto_blacklist\":true,\"blacklist_samples_reached\":false,\"exclude_nan_labels\":true,\"verbosity\":20,\"_debug_log\":\"azureml_automl.log\",\"show_warnings\":false,\"model_explainability\":true,\"service_url\":null,\"sdk_url\":null,\"sdk_packages\":null,\"enable_onnx_compatible_models\":false,\"enable_split_onnx_featurizer_estimator_models\":false,\"vm_type\":\"STANDARD_DS3_V2\",\"telemetry_verbosity\":20,\"send_telemetry\":true,\"enable_dnn\":false,\"scenario\":\"SDK-1.13.0\",\"environment_label\":null,\"save_mlflow\":false,\"force_text_dnn\":false,\"enable_feature_sweeping\":true,\"enable_early_stopping\":true,\"early_stopping_n_iters\":10,\"metrics\":null,\"enable_metric_confidence\":false,\"enable_ensembling\":true,\"enable_stack_ensembling\":true,\"ensemble_iterations\":15,\"enable_tf\":false,\"enable_subsampling\":null,\"subsample_seed\":null,\"enable_nimbusml\":false,\"enable_streaming\":false,\"force_streaming\":false,\"track_child_runs\":true,\"allowed_private_models\":[],\"label_column_name\":\"Column5\",\"weight_column_name\":null,\"cv_split_column_names\":null,\"enable_local_managed\":false,\"_local_managed_run_id\":null,\"cost_mode\":1,\"lag_length\":0,\"metric_operation\":\"maximize\",\"preprocess\":true}',\n",
       "  'DataPrepJsonString': '{\\\\\"training_data\\\\\": {\\\\\"datasetId\\\\\": \\\\\"f051cd99-2e3c-4fdb-b0dd-65c3712ff666\\\\\"}, \\\\\"datasets\\\\\": 0}',\n",
       "  'EnableSubsampling': None,\n",
       "  'runTemplate': 'AutoML',\n",
       "  'azureml.runsource': 'automl',\n",
       "  'display_task_type': 'classification',\n",
       "  'dependencies_versions': '{\"azureml-widgets\": \"1.31.0\", \"azureml-train\": \"1.31.0\", \"azureml-train-restclients-hyperdrive\": \"1.31.0\", \"azureml-train-core\": \"1.31.0\", \"azureml-train-automl\": \"1.31.0\", \"azureml-train-automl-runtime\": \"1.31.0\", \"azureml-train-automl-client\": \"1.31.0\", \"azureml-tensorboard\": \"1.31.0\", \"azureml-telemetry\": \"1.31.0\", \"azureml-sdk\": \"1.31.0\", \"azureml-samples\": \"0+unknown\", \"azureml-responsibleai\": \"1.31.0\", \"azureml-pipeline\": \"1.31.0\", \"azureml-pipeline-steps\": \"1.31.0\", \"azureml-pipeline-core\": \"1.31.0\", \"azureml-opendatasets\": \"1.31.0\", \"azureml-model-management-sdk\": \"1.0.1b6.post1\", \"azureml-mlflow\": \"1.31.0\", \"azureml-interpret\": \"1.31.0\", \"azureml-explain-model\": \"1.31.0\", \"azureml-defaults\": \"1.31.0\", \"azureml-dataset-runtime\": \"1.31.0\", \"azureml-dataprep\": \"2.18.0\", \"azureml-dataprep-rslex\": \"1.16.1\", \"azureml-dataprep-native\": \"36.0.0\", \"azureml-datadrift\": \"1.31.0\", \"azureml-core\": \"1.31.0\", \"azureml-contrib-services\": \"1.31.0\", \"azureml-contrib-server\": \"1.31.0\", \"azureml-contrib-reinforcementlearning\": \"1.31.0\", \"azureml-contrib-pipeline-steps\": \"1.31.0\", \"azureml-contrib-notebook\": \"1.31.0\", \"azureml-contrib-fairness\": \"1.31.0\", \"azureml-contrib-dataset\": \"1.31.0\", \"azureml-cli-common\": \"1.31.0\", \"azureml-automl-runtime\": \"1.31.0\", \"azureml-automl-dnn-nlp\": \"1.31.0\", \"azureml-automl-core\": \"1.31.0\", \"azureml-accel-models\": \"1.31.0\"}',\n",
       "  '_aml_system_scenario_identification': 'Remote.Parent',\n",
       "  'ClientType': 'SDK',\n",
       "  'environment_cpu_name': 'AzureML-AutoML',\n",
       "  'environment_cpu_label': 'prod',\n",
       "  'environment_gpu_name': 'AzureML-AutoML-GPU',\n",
       "  'environment_gpu_label': 'prod',\n",
       "  'root_attribution': 'automl',\n",
       "  'attribution': 'AutoML',\n",
       "  'Orchestrator': 'AutoML',\n",
       "  'CancelUri': 'https://southcentralus.api.azureml.ms/jasmine/v1.0/subscriptions/a0a76bad-11a1-4a2d-9887-97a29122c8ed/resourceGroups/aml-quickstarts-152630/providers/Microsoft.MachineLearningServices/workspaces/quick-starts-ws-152630/experimentids/143c4579-88ba-45f5-b29e-db719ed73486/cancel/AutoML_b4cbf68f-a6f5-44f2-a5bb-459c192249d6',\n",
       "  'ClientSdkVersion': '1.32.0',\n",
       "  'snapshotId': '00000000-0000-0000-0000-000000000000',\n",
       "  'SetupRunId': 'AutoML_b4cbf68f-a6f5-44f2-a5bb-459c192249d6_setup',\n",
       "  'SetupRunContainerId': 'dcid.AutoML_b4cbf68f-a6f5-44f2-a5bb-459c192249d6_setup',\n",
       "  'FeaturizationRunJsonPath': 'featurizer_container.json',\n",
       "  'FeaturizationRunId': 'AutoML_b4cbf68f-a6f5-44f2-a5bb-459c192249d6_featurize',\n",
       "  'ProblemInfoJsonString': '{\"dataset_num_categorical\": 0, \"is_sparse\": false, \"subsampling\": false, \"has_extra_col\": true, \"dataset_classes\": 3, \"dataset_features\": 4, \"dataset_samples\": 150, \"single_frequency_class_detected\": false}',\n",
       "  'ModelExplainRunId': 'AutoML_b4cbf68f-a6f5-44f2-a5bb-459c192249d6_ModelExplain'},\n",
       " 'inputDatasets': [{'dataset': {'id': 'f051cd99-2e3c-4fdb-b0dd-65c3712ff666'}, 'consumptionDetails': {'type': 'RunInput', 'inputName': 'training_data', 'mechanism': 'Direct'}}],\n",
       " 'outputDatasets': [],\n",
       " 'logFiles': {},\n",
       " 'submittedBy': 'ODL_User 152630'}"
      ]
     },
     "execution_count": 30,
     "metadata": {},
     "output_type": "execute_result"
    }
   ],
   "source": [
    "remote_run.wait_for_completion()"
   ]
  },
  {
   "cell_type": "markdown",
   "metadata": {},
   "source": [
    "## Best Model\n",
    "\n",
    "TODO: In the cell below, get the best model from the automl experiments and display all the properties of the model.\n",
    "\n"
   ]
  },
  {
   "cell_type": "code",
   "execution_count": 33,
   "metadata": {
    "collapsed": false,
    "gather": {
     "logged": 1598431425670
    },
    "jupyter": {
     "outputs_hidden": false,
     "source_hidden": false
    },
    "nteract": {
     "transient": {
      "deleting": false
     }
    }
   },
   "outputs": [
    {
     "name": "stderr",
     "output_type": "stream",
     "text": [
      "WARNING:root:The version of the SDK does not match the version the model was trained on.\n",
      "WARNING:root:The consistency in the result may not be guaranteed.\n",
      "WARNING:root:Package:azureml-automl-core, training version:1.32.0, current version:1.31.0\n",
      "Package:azureml-automl-runtime, training version:1.32.0, current version:1.31.0\n",
      "Package:azureml-core, training version:1.32.0, current version:1.31.0\n",
      "Package:azureml-dataset-runtime, training version:1.32.0, current version:1.31.0\n",
      "Package:azureml-defaults, training version:1.32.0, current version:1.31.0\n",
      "Package:azureml-interpret, training version:1.32.0, current version:1.31.0\n",
      "Package:azureml-mlflow, training version:1.32.0, current version:1.31.0\n",
      "Package:azureml-pipeline-core, training version:1.32.0, current version:1.31.0\n",
      "Package:azureml-telemetry, training version:1.32.0, current version:1.31.0\n",
      "Package:azureml-train-automl-client, training version:1.32.0, current version:1.31.0\n",
      "Package:azureml-train-automl-runtime, training version:1.32.0, current version:1.31.0\n",
      "WARNING:root:Please ensure the version of your local conda dependencies match the version on which your model was trained in order to properly retrieve your model.\n"
     ]
    },
    {
     "name": "stdout",
     "output_type": "stream",
     "text": [
      "Run(Experiment: automl-model,\n",
      "Id: AutoML_b4cbf68f-a6f5-44f2-a5bb-459c192249d6_9,\n",
      "Type: azureml.scriptrun,\n",
      "Status: Completed)\n",
      "Pipeline(memory=None,\n",
      "         steps=[('datatransformer',\n",
      "                 DataTransformer(enable_dnn=False, enable_feature_sweeping=True, feature_sweeping_config={}, feature_sweeping_timeout=86400, featurization_config=None, force_text_dnn=False, is_cross_validation=True, is_onnx_compatible=False, observer=None, task='classification', working_dir='/mnt/batch/tasks/shared/LS_root/mount...\n",
      "    gpu_training_param_dict={'processing_unit_type': 'cpu'}\n",
      "), random_state=0, tree_method='auto'))], verbose=False))], meta_learner=LogisticRegression(C=1.0, class_weight=None, dual=False, fit_intercept=True, intercept_scaling=1, l1_ratio=None, max_iter=100, multi_class='auto', n_jobs=None, penalty='l2', random_state=None, solver='lbfgs', tol=0.0001, verbose=0, warm_start=False), training_cv_folds=5))],\n",
      "         verbose=False)\n",
      "Y_transformer(['LabelEncoder', LabelEncoder()])\n"
     ]
    }
   ],
   "source": [
    "#get the best model and display\n",
    "best_model, automl = remote_run.get_output()\n",
    "print(best_model)\n",
    "print(automl)"
   ]
  },
  {
   "cell_type": "code",
   "execution_count": 34,
   "metadata": {
    "collapsed": false,
    "gather": {
     "logged": 1598431426111
    },
    "jupyter": {
     "outputs_hidden": false,
     "source_hidden": false
    },
    "nteract": {
     "transient": {
      "deleting": false
     }
    }
   },
   "outputs": [
    {
     "data": {
      "text/plain": [
       "'output/model.pkl'"
      ]
     },
     "execution_count": 34,
     "metadata": {},
     "output_type": "execute_result"
    }
   ],
   "source": [
    "#TODO: Save the best model\n",
    "registered_model = remote_run.register_model(model_name=\"best_amlmodel_iris\")\n",
    "registered_model.download(target_dir=\"./output\")"
   ]
  },
  {
   "cell_type": "markdown",
   "metadata": {},
   "source": [
    "## Model Deployment\n",
    "\n",
    "Remember you have to deploy only one of the two models you trained.. Perform the steps in the rest of this notebook only if you wish to deploy this model.\n",
    "\n",
    "TODO: In the cell below, register the model, create an inference config and deploy the model as a web service."
   ]
  },
  {
   "cell_type": "code",
   "execution_count": 39,
   "metadata": {
    "collapsed": false,
    "gather": {
     "logged": 1598431435189
    },
    "jupyter": {
     "outputs_hidden": false,
     "source_hidden": false
    },
    "nteract": {
     "transient": {
      "deleting": false
     }
    }
   },
   "outputs": [
    {
     "ename": "NameError",
     "evalue": "name 'Model' is not defined",
     "output_type": "error",
     "traceback": [
      "\u001b[0;31m---------------------------------------------------------------------------\u001b[0m",
      "\u001b[0;31mNameError\u001b[0m                                 Traceback (most recent call last)",
      "\u001b[0;32m<ipython-input-39-c2735dba393a>\u001b[0m in \u001b[0;36m<module>\u001b[0;34m\u001b[0m\n\u001b[1;32m      6\u001b[0m )\n\u001b[1;32m      7\u001b[0m \u001b[0;34m\u001b[0m\u001b[0m\n\u001b[0;32m----> 8\u001b[0;31m \u001b[0mmodel\u001b[0m \u001b[0;34m=\u001b[0m \u001b[0mModel\u001b[0m\u001b[0;34m(\u001b[0m\u001b[0mws\u001b[0m\u001b[0;34m,\u001b[0m \u001b[0;34m\"best_amlmodel_iris\"\u001b[0m\u001b[0;34m)\u001b[0m\u001b[0;34m\u001b[0m\u001b[0;34m\u001b[0m\u001b[0m\n\u001b[0m",
      "\u001b[0;31mNameError\u001b[0m: name 'Model' is not defined"
     ]
    }
   ],
   "source": [
    "container_instance_config= AciWebservice.deploy_configuration(\n",
    "    description=\"Automl model deployment to Azure container instance\",\n",
    "    cpu_cores = 1,\n",
    "    memory_gb=4,\n",
    "    enable_app_insights=True\n",
    ")\n",
    "\n",
    "model = Model(ws, \"best_amlmodel_iris\")"
   ]
  },
  {
   "cell_type": "markdown",
   "metadata": {
    "gather": {
     "logged": 1598431657736
    },
    "jupyter": {
     "outputs_hidden": false,
     "source_hidden": false
    },
    "nteract": {
     "transient": {
      "deleting": false
     }
    }
   },
   "source": [
    "TODO: In the cell below, send a request to the web service you deployed to test it."
   ]
  },
  {
   "cell_type": "code",
   "execution_count": null,
   "metadata": {
    "collapsed": false,
    "gather": {
     "logged": 1598432707604
    },
    "jupyter": {
     "outputs_hidden": false,
     "source_hidden": false
    },
    "nteract": {
     "transient": {
      "deleting": false
     }
    }
   },
   "outputs": [],
   "source": []
  },
  {
   "cell_type": "markdown",
   "metadata": {
    "gather": {
     "logged": 1598432765711
    },
    "jupyter": {
     "outputs_hidden": false,
     "source_hidden": false
    },
    "nteract": {
     "transient": {
      "deleting": false
     }
    }
   },
   "source": [
    "TODO: In the cell below, print the logs of the web service and delete the service"
   ]
  },
  {
   "cell_type": "code",
   "execution_count": null,
   "metadata": {
    "collapsed": false,
    "jupyter": {
     "outputs_hidden": false,
     "source_hidden": false
    },
    "nteract": {
     "transient": {
      "deleting": false
     }
    }
   },
   "outputs": [],
   "source": []
  }
 ],
 "metadata": {
  "kernel_info": {
   "name": "python3-azureml"
  },
  "kernelspec": {
   "display_name": "Python 3",
   "language": "python",
   "name": "python3"
  },
  "language_info": {
   "codemirror_mode": {
    "name": "ipython",
    "version": 3
   },
   "file_extension": ".py",
   "mimetype": "text/x-python",
   "name": "python",
   "nbconvert_exporter": "python",
   "pygments_lexer": "ipython3",
   "version": "3.6.9"
  },
  "nteract": {
   "version": "nteract-front-end@1.0.0"
  }
 },
 "nbformat": 4,
 "nbformat_minor": 4
}
