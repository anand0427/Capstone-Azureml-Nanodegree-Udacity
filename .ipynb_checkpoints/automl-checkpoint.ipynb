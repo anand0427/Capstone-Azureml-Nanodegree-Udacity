{
 "cells": [
  {
   "cell_type": "markdown",
   "metadata": {},
   "source": [
    "# Automated ML\n",
    "\n",
    "TODO: Import Dependencies. In the cell below, import all the dependencies that you will need to complete the project."
   ]
  },
  {
   "cell_type": "code",
   "execution_count": 1,
   "metadata": {
    "collapsed": false,
    "gather": {
     "logged": 1598423888013
    },
    "jupyter": {
     "outputs_hidden": false,
     "source_hidden": false
    },
    "nteract": {
     "transient": {
      "deleting": false
     }
    }
   },
   "outputs": [],
   "source": [
    "from azureml.core.experiment import Experiment\n",
    "from azureml.core.workspace import Workspace\n",
    "from azureml.train.automl import AutoMLConfig\n",
    "\n",
    "from azureml.core.compute import AmlCompute\n",
    "from azureml.core.compute import ComputeTarget\n",
    "from azureml.core.dataset import Dataset\n",
    "from azureml.core import Environment\n",
    "\n",
    "# deployment\n",
    "from azureml.core.webservice import AciWebservice\n",
    "from azureml.core.model import Model\n",
    "from azureml.core.model import InferenceConfig\n",
    "import json, requests"
   ]
  },
  {
   "cell_type": "markdown",
   "metadata": {},
   "source": [
    "## Dataset\n",
    "\n",
    "### Overview\n",
    "TODO: In this markdown cell, give an overview of the dataset you are using. Also mention the task you will be performing.\n",
    "\n",
    "\n",
    "TODO: Get data. In the cell below, write code to access the data you will be using in this project. Remember that the dataset needs to be external."
   ]
  },
  {
   "cell_type": "code",
   "execution_count": 2,
   "metadata": {
    "collapsed": false,
    "gather": {
     "logged": 1598423890461
    },
    "jupyter": {
     "outputs_hidden": false,
     "source_hidden": false
    },
    "nteract": {
     "transient": {
      "deleting": false
     }
    }
   },
   "outputs": [
    {
     "data": {
      "text/html": [
       "<table style=\"width:100%\"><tr><th>Name</th><th>Workspace</th><th>Report Page</th><th>Docs Page</th></tr><tr><td>automl-model</td><td>quick-starts-ws-153057</td><td><a href=\"https://ml.azure.com/experiments/id/ab7701ca-dc8f-4698-8371-6531260a01dc?wsid=/subscriptions/61c5c3f0-6dc7-4ed9-a7f3-c704b20e3b30/resourcegroups/aml-quickstarts-153057/workspaces/quick-starts-ws-153057&amp;tid=660b3398-b80e-49d2-bc5b-ac1dc93b5254\" target=\"_blank\" rel=\"noopener\">Link to Azure Machine Learning studio</a></td><td><a href=\"https://docs.microsoft.com/en-us/python/api/azureml-core/azureml.core.experiment.Experiment?view=azure-ml-py\" target=\"_blank\" rel=\"noopener\">Link to Documentation</a></td></tr></table>"
      ],
      "text/plain": [
       "Experiment(Name: automl-model,\n",
       "Workspace: quick-starts-ws-153057)"
      ]
     },
     "execution_count": 2,
     "metadata": {},
     "output_type": "execute_result"
    }
   ],
   "source": [
    "ws = Workspace.from_config()\n",
    "\n",
    "# choose a name for experiment\n",
    "experiment_name = 'automl-model'\n",
    "project_folder = './iris-classification-project-3'\n",
    "experiment=Experiment(ws, experiment_name)\n",
    "experiment"
   ]
  },
  {
   "cell_type": "code",
   "execution_count": 3,
   "metadata": {},
   "outputs": [
    {
     "name": "stdout",
     "output_type": "stream",
     "text": [
      "\n",
      "Running\n"
     ]
    }
   ],
   "source": [
    "# get compute target\n",
    "amlcompute_name = 'notebook153057'\n",
    "\n",
    "compute_target = ComputeTarget(workspace=ws, name=amlcompute_name)\n",
    "compute_target.wait_for_completion(show_output=True)"
   ]
  },
  {
   "cell_type": "code",
   "execution_count": 4,
   "metadata": {},
   "outputs": [
    {
     "data": {
      "text/html": [
       "<div>\n",
       "<style scoped>\n",
       "    .dataframe tbody tr th:only-of-type {\n",
       "        vertical-align: middle;\n",
       "    }\n",
       "\n",
       "    .dataframe tbody tr th {\n",
       "        vertical-align: top;\n",
       "    }\n",
       "\n",
       "    .dataframe thead th {\n",
       "        text-align: right;\n",
       "    }\n",
       "</style>\n",
       "<table border=\"1\" class=\"dataframe\">\n",
       "  <thead>\n",
       "    <tr style=\"text-align: right;\">\n",
       "      <th></th>\n",
       "      <th>Column1</th>\n",
       "      <th>Column2</th>\n",
       "      <th>Column3</th>\n",
       "      <th>Column4</th>\n",
       "      <th>Column5</th>\n",
       "    </tr>\n",
       "  </thead>\n",
       "  <tbody>\n",
       "    <tr>\n",
       "      <th>0</th>\n",
       "      <td>5.1</td>\n",
       "      <td>3.5</td>\n",
       "      <td>1.4</td>\n",
       "      <td>0.2</td>\n",
       "      <td>Iris-setosa</td>\n",
       "    </tr>\n",
       "    <tr>\n",
       "      <th>1</th>\n",
       "      <td>4.9</td>\n",
       "      <td>3.0</td>\n",
       "      <td>1.4</td>\n",
       "      <td>0.2</td>\n",
       "      <td>Iris-setosa</td>\n",
       "    </tr>\n",
       "    <tr>\n",
       "      <th>2</th>\n",
       "      <td>4.7</td>\n",
       "      <td>3.2</td>\n",
       "      <td>1.3</td>\n",
       "      <td>0.2</td>\n",
       "      <td>Iris-setosa</td>\n",
       "    </tr>\n",
       "    <tr>\n",
       "      <th>3</th>\n",
       "      <td>4.6</td>\n",
       "      <td>3.1</td>\n",
       "      <td>1.5</td>\n",
       "      <td>0.2</td>\n",
       "      <td>Iris-setosa</td>\n",
       "    </tr>\n",
       "    <tr>\n",
       "      <th>4</th>\n",
       "      <td>5.0</td>\n",
       "      <td>3.6</td>\n",
       "      <td>1.4</td>\n",
       "      <td>0.2</td>\n",
       "      <td>Iris-setosa</td>\n",
       "    </tr>\n",
       "  </tbody>\n",
       "</table>\n",
       "</div>"
      ],
      "text/plain": [
       "   Column1  Column2  Column3  Column4      Column5\n",
       "0      5.1      3.5      1.4      0.2  Iris-setosa\n",
       "1      4.9      3.0      1.4      0.2  Iris-setosa\n",
       "2      4.7      3.2      1.3      0.2  Iris-setosa\n",
       "3      4.6      3.1      1.5      0.2  Iris-setosa\n",
       "4      5.0      3.6      1.4      0.2  Iris-setosa"
      ]
     },
     "execution_count": 4,
     "metadata": {},
     "output_type": "execute_result"
    }
   ],
   "source": [
    "#get data from kaggle for titanic csv\n",
    "example_data = 'https://archive.ics.uci.edu/ml/machine-learning-databases/iris/iris.data'\n",
    "dataset = Dataset.Tabular.from_delimited_files(example_data, header=False)        \n",
    "#Register Dataset in Workspace\n",
    "dataset = dataset.register(workspace=ws,\n",
    "                                   name=\"Iris Classification\",\n",
    "                                   description=\"Classification problem for iris species\")\n",
    "\n",
    "\n",
    "df = dataset.to_pandas_dataframe()\n",
    "df.head()"
   ]
  },
  {
   "cell_type": "code",
   "execution_count": 5,
   "metadata": {},
   "outputs": [
    {
     "data": {
      "text/plain": [
       "array(['Iris-setosa', 'Iris-versicolor', 'Iris-virginica'], dtype=object)"
      ]
     },
     "execution_count": 5,
     "metadata": {},
     "output_type": "execute_result"
    }
   ],
   "source": [
    "df[\"Column5\"].unique()"
   ]
  },
  {
   "cell_type": "markdown",
   "metadata": {},
   "source": [
    "## AutoML Configuration\n",
    "\n",
    "TODO: Explain why you chose the automl settings and cofiguration you used below."
   ]
  },
  {
   "cell_type": "code",
   "execution_count": 6,
   "metadata": {
    "collapsed": false,
    "gather": {
     "logged": 1598429217746
    },
    "jupyter": {
     "outputs_hidden": false,
     "source_hidden": false
    },
    "nteract": {
     "transient": {
      "deleting": false
     }
    }
   },
   "outputs": [],
   "source": [
    "# TODO: Put your automl settings here\n",
    "automl_settings = {\n",
    "    \"experiment_timeout_minutes\":20,\n",
    "    \"max_concurrent_iterations\":4,\n",
    "    \"primary_metric\":'AUC_weighted'\n",
    "}\n",
    "\n",
    "# TODO: Put your automl config here\n",
    "automl_config = AutoMLConfig(\n",
    "                            compute_target=compute_target,\n",
    "                             task = \"classification\",\n",
    "                             training_data=dataset,\n",
    "                             label_column_name=\"Column5\",   \n",
    "                             path = project_folder,\n",
    "                             enable_early_stopping= True,\n",
    "                             featurization= 'auto',\n",
    "                             debug_log = \"automl_errors.log\",\n",
    "                             **automl_settings\n",
    "    )"
   ]
  },
  {
   "cell_type": "code",
   "execution_count": 7,
   "metadata": {
    "collapsed": false,
    "gather": {
     "logged": 1598431107951
    },
    "jupyter": {
     "outputs_hidden": false,
     "source_hidden": false
    },
    "nteract": {
     "transient": {
      "deleting": false
     }
    }
   },
   "outputs": [
    {
     "name": "stdout",
     "output_type": "stream",
     "text": [
      "Submitting remote run.\n"
     ]
    },
    {
     "data": {
      "text/html": [
       "<table style=\"width:100%\"><tr><th>Experiment</th><th>Id</th><th>Type</th><th>Status</th><th>Details Page</th><th>Docs Page</th></tr><tr><td>automl-model</td><td>AutoML_caf261ae-59c9-46ec-8f48-a0d74b5ddd7d</td><td>automl</td><td>NotStarted</td><td><a href=\"https://ml.azure.com/runs/AutoML_caf261ae-59c9-46ec-8f48-a0d74b5ddd7d?wsid=/subscriptions/61c5c3f0-6dc7-4ed9-a7f3-c704b20e3b30/resourcegroups/aml-quickstarts-153057/workspaces/quick-starts-ws-153057&amp;tid=660b3398-b80e-49d2-bc5b-ac1dc93b5254\" target=\"_blank\" rel=\"noopener\">Link to Azure Machine Learning studio</a></td><td><a href=\"https://docs.microsoft.com/en-us/python/api/overview/azure/ml/intro?view=azure-ml-py\" target=\"_blank\" rel=\"noopener\">Link to Documentation</a></td></tr></table>"
      ],
      "text/plain": [
       "<IPython.core.display.HTML object>"
      ]
     },
     "metadata": {},
     "output_type": "display_data"
    }
   ],
   "source": [
    "# TODO: Submit your experiment\n",
    "remote_run = experiment.submit(automl_config)"
   ]
  },
  {
   "cell_type": "markdown",
   "metadata": {},
   "source": [
    "## Run Details\n",
    "\n",
    "OPTIONAL: Write about the different models trained and their performance. Why do you think some models did better than others?\n",
    "\n",
    "TODO: In the cell below, use the `RunDetails` widget to show the different experiments."
   ]
  },
  {
   "cell_type": "code",
   "execution_count": 8,
   "metadata": {
    "collapsed": false,
    "gather": {
     "logged": 1598431121770
    },
    "jupyter": {
     "outputs_hidden": false,
     "source_hidden": false
    },
    "nteract": {
     "transient": {
      "deleting": false
     }
    }
   },
   "outputs": [
    {
     "data": {
      "application/vnd.jupyter.widget-view+json": {
       "model_id": "59aafd3368154dfa8e886bdc36e197cc",
       "version_major": 2,
       "version_minor": 0
      },
      "text/plain": [
       "_AutoMLWidget(widget_settings={'childWidgetDisplay': 'popup', 'send_telemetry': False, 'log_level': 'INFO', 's…"
      ]
     },
     "metadata": {},
     "output_type": "display_data"
    },
    {
     "data": {
      "application/aml.mini.widget.v1": "{\"status\": \"Running\", \"workbench_run_details_uri\": \"https://ml.azure.com/runs/AutoML_caf261ae-59c9-46ec-8f48-a0d74b5ddd7d?wsid=/subscriptions/61c5c3f0-6dc7-4ed9-a7f3-c704b20e3b30/resourcegroups/aml-quickstarts-153057/workspaces/quick-starts-ws-153057&tid=660b3398-b80e-49d2-bc5b-ac1dc93b5254\", \"run_id\": \"AutoML_caf261ae-59c9-46ec-8f48-a0d74b5ddd7d\", \"run_properties\": {\"run_id\": \"AutoML_caf261ae-59c9-46ec-8f48-a0d74b5ddd7d\", \"created_utc\": \"2021-07-30T21:16:09.313312Z\", \"properties\": {\"num_iterations\": \"1000\", \"training_type\": \"TrainFull\", \"acquisition_function\": \"EI\", \"primary_metric\": \"AUC_weighted\", \"train_split\": \"0\", \"acquisition_parameter\": \"0\", \"num_cross_validation\": null, \"target\": \"notebook153057\", \"AMLSettingsJsonString\": \"{\\\"path\\\":null,\\\"name\\\":\\\"automl-model\\\",\\\"subscription_id\\\":\\\"61c5c3f0-6dc7-4ed9-a7f3-c704b20e3b30\\\",\\\"resource_group\\\":\\\"aml-quickstarts-153057\\\",\\\"workspace_name\\\":\\\"quick-starts-ws-153057\\\",\\\"region\\\":\\\"southcentralus\\\",\\\"compute_target\\\":\\\"notebook153057\\\",\\\"spark_service\\\":null,\\\"azure_service\\\":\\\"remote\\\",\\\"many_models\\\":false,\\\"pipeline_fetch_max_batch_size\\\":1,\\\"enable_batch_run\\\":false,\\\"enable_run_restructure\\\":false,\\\"start_auxiliary_runs_before_parent_complete\\\":false,\\\"enable_code_generation\\\":false,\\\"iterations\\\":1000,\\\"primary_metric\\\":\\\"AUC_weighted\\\",\\\"task_type\\\":\\\"classification\\\",\\\"data_script\\\":null,\\\"test_size\\\":0.0,\\\"validation_size\\\":0.0,\\\"n_cross_validations\\\":null,\\\"y_min\\\":null,\\\"y_max\\\":null,\\\"num_classes\\\":null,\\\"featurization\\\":\\\"auto\\\",\\\"_ignore_package_version_incompatibilities\\\":false,\\\"is_timeseries\\\":false,\\\"max_cores_per_iteration\\\":1,\\\"max_concurrent_iterations\\\":4,\\\"iteration_timeout_minutes\\\":null,\\\"mem_in_mb\\\":null,\\\"enforce_time_on_windows\\\":false,\\\"experiment_timeout_minutes\\\":20,\\\"experiment_exit_score\\\":null,\\\"whitelist_models\\\":null,\\\"blacklist_algos\\\":[\\\"TensorFlowLinearClassifier\\\",\\\"TensorFlowDNN\\\"],\\\"supported_models\\\":[\\\"BernoulliNaiveBayes\\\",\\\"DecisionTree\\\",\\\"LightGBM\\\",\\\"AveragedPerceptronClassifier\\\",\\\"XGBoostClassifier\\\",\\\"SGD\\\",\\\"SVM\\\",\\\"ExtremeRandomTrees\\\",\\\"GradientBoosting\\\",\\\"TensorFlowDNN\\\",\\\"RandomForest\\\",\\\"LinearSVM\\\",\\\"LogisticRegression\\\",\\\"KNN\\\",\\\"MultinomialNaiveBayes\\\",\\\"TensorFlowLinearClassifier\\\"],\\\"private_models\\\":[],\\\"auto_blacklist\\\":true,\\\"blacklist_samples_reached\\\":false,\\\"exclude_nan_labels\\\":true,\\\"verbosity\\\":20,\\\"_debug_log\\\":\\\"azureml_automl.log\\\",\\\"show_warnings\\\":false,\\\"model_explainability\\\":true,\\\"service_url\\\":null,\\\"sdk_url\\\":null,\\\"sdk_packages\\\":null,\\\"enable_onnx_compatible_models\\\":false,\\\"enable_split_onnx_featurizer_estimator_models\\\":false,\\\"vm_type\\\":\\\"STANDARD_DS3_V2\\\",\\\"telemetry_verbosity\\\":20,\\\"send_telemetry\\\":true,\\\"enable_dnn\\\":false,\\\"scenario\\\":\\\"SDK-1.13.0\\\",\\\"environment_label\\\":null,\\\"save_mlflow\\\":false,\\\"force_text_dnn\\\":false,\\\"enable_feature_sweeping\\\":true,\\\"enable_early_stopping\\\":true,\\\"early_stopping_n_iters\\\":10,\\\"metrics\\\":null,\\\"enable_metric_confidence\\\":false,\\\"enable_ensembling\\\":true,\\\"enable_stack_ensembling\\\":true,\\\"ensemble_iterations\\\":15,\\\"enable_tf\\\":false,\\\"enable_subsampling\\\":null,\\\"subsample_seed\\\":null,\\\"enable_nimbusml\\\":false,\\\"enable_streaming\\\":false,\\\"force_streaming\\\":false,\\\"track_child_runs\\\":true,\\\"allowed_private_models\\\":[],\\\"label_column_name\\\":\\\"Column5\\\",\\\"weight_column_name\\\":null,\\\"cv_split_column_names\\\":null,\\\"enable_local_managed\\\":false,\\\"_local_managed_run_id\\\":null,\\\"cost_mode\\\":1,\\\"lag_length\\\":0,\\\"metric_operation\\\":\\\"maximize\\\",\\\"preprocess\\\":true}\", \"DataPrepJsonString\": \"{\\\\\\\"training_data\\\\\\\": {\\\\\\\"datasetId\\\\\\\": \\\\\\\"045ebe75-7207-493c-b435-bad6a7bf0b49\\\\\\\"}, \\\\\\\"datasets\\\\\\\": 0}\", \"EnableSubsampling\": null, \"runTemplate\": \"AutoML\", \"azureml.runsource\": \"automl\", \"display_task_type\": \"classification\", \"dependencies_versions\": \"{\\\"azureml-widgets\\\": \\\"1.31.0\\\", \\\"azureml-train\\\": \\\"1.31.0\\\", \\\"azureml-train-restclients-hyperdrive\\\": \\\"1.31.0\\\", \\\"azureml-train-core\\\": \\\"1.31.0\\\", \\\"azureml-train-automl\\\": \\\"1.31.0\\\", \\\"azureml-train-automl-runtime\\\": \\\"1.31.0\\\", \\\"azureml-train-automl-client\\\": \\\"1.31.0\\\", \\\"azureml-tensorboard\\\": \\\"1.31.0\\\", \\\"azureml-telemetry\\\": \\\"1.31.0\\\", \\\"azureml-sdk\\\": \\\"1.31.0\\\", \\\"azureml-samples\\\": \\\"0+unknown\\\", \\\"azureml-responsibleai\\\": \\\"1.31.0\\\", \\\"azureml-pipeline\\\": \\\"1.31.0\\\", \\\"azureml-pipeline-steps\\\": \\\"1.31.0\\\", \\\"azureml-pipeline-core\\\": \\\"1.31.0\\\", \\\"azureml-opendatasets\\\": \\\"1.31.0\\\", \\\"azureml-model-management-sdk\\\": \\\"1.0.1b6.post1\\\", \\\"azureml-mlflow\\\": \\\"1.31.0\\\", \\\"azureml-interpret\\\": \\\"1.31.0\\\", \\\"azureml-explain-model\\\": \\\"1.31.0\\\", \\\"azureml-defaults\\\": \\\"1.31.0\\\", \\\"azureml-dataset-runtime\\\": \\\"1.31.0\\\", \\\"azureml-dataprep\\\": \\\"2.18.0\\\", \\\"azureml-dataprep-rslex\\\": \\\"1.16.1\\\", \\\"azureml-dataprep-native\\\": \\\"36.0.0\\\", \\\"azureml-datadrift\\\": \\\"1.31.0\\\", \\\"azureml-core\\\": \\\"1.31.0\\\", \\\"azureml-contrib-services\\\": \\\"1.31.0\\\", \\\"azureml-contrib-server\\\": \\\"1.31.0\\\", \\\"azureml-contrib-reinforcementlearning\\\": \\\"1.31.0\\\", \\\"azureml-contrib-pipeline-steps\\\": \\\"1.31.0\\\", \\\"azureml-contrib-notebook\\\": \\\"1.31.0\\\", \\\"azureml-contrib-fairness\\\": \\\"1.31.0\\\", \\\"azureml-contrib-dataset\\\": \\\"1.31.0\\\", \\\"azureml-cli-common\\\": \\\"1.31.0\\\", \\\"azureml-automl-runtime\\\": \\\"1.31.0\\\", \\\"azureml-automl-dnn-nlp\\\": \\\"1.31.0\\\", \\\"azureml-automl-core\\\": \\\"1.31.0\\\", \\\"azureml-accel-models\\\": \\\"1.31.0\\\"}\", \"_aml_system_scenario_identification\": \"Remote.Parent\", \"ClientType\": \"SDK\", \"environment_cpu_name\": \"AzureML-AutoML\", \"environment_cpu_label\": \"prod\", \"environment_gpu_name\": \"AzureML-AutoML-GPU\", \"environment_gpu_label\": \"prod\", \"root_attribution\": \"automl\", \"attribution\": \"AutoML\", \"Orchestrator\": \"AutoML\", \"CancelUri\": \"https://southcentralus.api.azureml.ms/jasmine/v1.0/subscriptions/61c5c3f0-6dc7-4ed9-a7f3-c704b20e3b30/resourceGroups/aml-quickstarts-153057/providers/Microsoft.MachineLearningServices/workspaces/quick-starts-ws-153057/experimentids/ab7701ca-dc8f-4698-8371-6531260a01dc/cancel/AutoML_caf261ae-59c9-46ec-8f48-a0d74b5ddd7d\", \"azureml.git.repository_uri\": \"https://github.com/anand0427/Capstone-Azureml-Nanodegree-Udacity.git\", \"mlflow.source.git.repoURL\": \"https://github.com/anand0427/Capstone-Azureml-Nanodegree-Udacity.git\", \"azureml.git.branch\": \"master\", \"mlflow.source.git.branch\": \"master\", \"azureml.git.commit\": \"2569d31c9c8e5bc21f8ffddeefd2b2255e6603ba\", \"mlflow.source.git.commit\": \"2569d31c9c8e5bc21f8ffddeefd2b2255e6603ba\", \"azureml.git.dirty\": \"False\", \"ClientSdkVersion\": \"1.32.0\", \"snapshotId\": \"00000000-0000-0000-0000-000000000000\", \"SetupRunId\": \"AutoML_caf261ae-59c9-46ec-8f48-a0d74b5ddd7d_setup\", \"SetupRunContainerId\": \"dcid.AutoML_caf261ae-59c9-46ec-8f48-a0d74b5ddd7d_setup\", \"FeaturizationRunJsonPath\": \"featurizer_container.json\", \"FeaturizationRunId\": \"AutoML_caf261ae-59c9-46ec-8f48-a0d74b5ddd7d_featurize\"}, \"tags\": {\"model_explain_run\": \"best_run\", \"_aml_system_azureml.automlComponent\": \"AutoML\"}, \"end_time_utc\": null, \"status\": \"Running\", \"log_files\": {}, \"log_groups\": [], \"run_duration\": \"0:09:46\", \"run_number\": \"1\", \"run_queued_details\": {\"status\": \"Running\", \"details\": null}}, \"child_runs\": [], \"children_metrics\": {}, \"run_metrics\": [{\"name\": \"experiment_status\", \"run_id\": \"AutoML_caf261ae-59c9-46ec-8f48-a0d74b5ddd7d\", \"categories\": [0, 1], \"series\": [{\"data\": [\"DatasetEvaluation\", \"FeaturesGeneration\"]}]}, {\"name\": \"experiment_status_description\", \"run_id\": \"AutoML_caf261ae-59c9-46ec-8f48-a0d74b5ddd7d\", \"categories\": [0, 1], \"series\": [{\"data\": [\"Gathering dataset statistics.\", \"Generating features for the dataset.\"]}]}], \"run_logs\": \"Your job is submitted in Azure cloud and we are monitoring to get logs...\", \"graph\": {}, \"widget_settings\": {\"childWidgetDisplay\": \"popup\", \"send_telemetry\": false, \"log_level\": \"INFO\", \"sdk_version\": \"1.31.0\"}, \"loading\": false}"
     },
     "metadata": {},
     "output_type": "display_data"
    }
   ],
   "source": [
    "from azureml.widgets import RunDetails\n",
    "RunDetails(remote_run).show()"
   ]
  },
  {
   "cell_type": "code",
   "execution_count": null,
   "metadata": {},
   "outputs": [],
   "source": [
    "remote_run.wait_for_completion()"
   ]
  },
  {
   "cell_type": "markdown",
   "metadata": {},
   "source": [
    "## Best Model\n",
    "\n",
    "TODO: In the cell below, get the best model from the automl experiments and display all the properties of the model.\n",
    "\n"
   ]
  },
  {
   "cell_type": "code",
   "execution_count": null,
   "metadata": {
    "collapsed": false,
    "gather": {
     "logged": 1598431425670
    },
    "jupyter": {
     "outputs_hidden": false,
     "source_hidden": false
    },
    "nteract": {
     "transient": {
      "deleting": false
     }
    }
   },
   "outputs": [],
   "source": [
    "#get the best model and display\n",
    "best_model, automl = remote_run.get_output()\n",
    "print(best_model)\n",
    "print(automl)"
   ]
  },
  {
   "cell_type": "code",
   "execution_count": null,
   "metadata": {
    "collapsed": false,
    "gather": {
     "logged": 1598431426111
    },
    "jupyter": {
     "outputs_hidden": false,
     "source_hidden": false
    },
    "nteract": {
     "transient": {
      "deleting": false
     }
    }
   },
   "outputs": [],
   "source": [
    "#TODO: Save the best model\n",
    "registered_model = remote_run.register_model(model_name=\"best_amlmodel_iris\", model_path=\"outputs/model.pkl\")\n",
    "registered_model.download(target_dir=\"./output\")"
   ]
  },
  {
   "cell_type": "markdown",
   "metadata": {},
   "source": [
    "## Model Deployment\n",
    "\n",
    "Remember you have to deploy only one of the two models you trained.. Perform the steps in the rest of this notebook only if you wish to deploy this model.\n",
    "\n",
    "TODO: In the cell below, register the model, create an inference config and deploy the model as a web service."
   ]
  },
  {
   "cell_type": "code",
   "execution_count": 117,
   "metadata": {
    "collapsed": false,
    "gather": {
     "logged": 1598431435189
    },
    "jupyter": {
     "outputs_hidden": false,
     "source_hidden": false
    },
    "nteract": {
     "transient": {
      "deleting": false
     }
    }
   },
   "outputs": [],
   "source": [
    "# create ACI webservice config for deployment\n",
    "container_instance_config= AciWebservice.deploy_configuration(\n",
    "    description=\"Automl model deployment to Azure container instance\",\n",
    "    cpu_cores = 1,\n",
    "    memory_gb=4,\n",
    "    enable_app_insights=True\n",
    ")\n",
    "\n",
    "aml_model = Model(ws, \"best_amlmodel_iris\")"
   ]
  },
  {
   "cell_type": "code",
   "execution_count": 118,
   "metadata": {},
   "outputs": [],
   "source": [
    "# get env for Inference config\n",
    "env = Environment.get(workspace=ws, name=\"AzureML-AutoML\")"
   ]
  },
  {
   "cell_type": "code",
   "execution_count": 119,
   "metadata": {},
   "outputs": [],
   "source": [
    "# Inference config and final deployment\n",
    "\n",
    "inference_config = InferenceConfig(entry_script=\"score.py\", environment=env)\n",
    "\n",
    "service = Model.deploy(workspace=ws, \n",
    "                       name='best-amlmodel-iris', \n",
    "                       models=[aml_model], \n",
    "                       inference_config=inference_config, \n",
    "                       deployment_config=container_instance_config)"
   ]
  },
  {
   "cell_type": "code",
   "execution_count": null,
   "metadata": {},
   "outputs": [
    {
     "name": "stdout",
     "output_type": "stream",
     "text": [
      "Tips: You can try get_logs(): https://aka.ms/debugimage#dockerlog or local deployment: https://aka.ms/debugimage#debug-locally to debug if deployment takes longer than 10 minutes.\n",
      "Running\n",
      "2021-07-27 02:49:35+00:00 Creating Container Registry if not exists.\n",
      "2021-07-27 02:49:35+00:00 Registering the environment.\n",
      "2021-07-27 02:49:36+00:00 Use the existing image.\n",
      "2021-07-27 02:49:37+00:00 Generating deployment configuration.\n",
      "2021-07-27 02:49:38+00:00 Submitting deployment to compute..\n",
      "2021-07-27 02:49:41+00:00 Checking the status of deployment best-amlmodel-iris."
     ]
    }
   ],
   "source": [
    "service.wait_for_deployment(show_output=True)"
   ]
  },
  {
   "cell_type": "markdown",
   "metadata": {
    "gather": {
     "logged": 1598431657736
    },
    "jupyter": {
     "outputs_hidden": false,
     "source_hidden": false
    },
    "nteract": {
     "transient": {
      "deleting": false
     }
    }
   },
   "source": [
    "TODO: In the cell below, send a request to the web service you deployed to test it."
   ]
  },
  {
   "cell_type": "code",
   "execution_count": 116,
   "metadata": {
    "collapsed": false,
    "gather": {
     "logged": 1598432707604
    },
    "jupyter": {
     "outputs_hidden": false,
     "source_hidden": false
    },
    "nteract": {
     "transient": {
      "deleting": false
     }
    }
   },
   "outputs": [
    {
     "name": "stdout",
     "output_type": "stream",
     "text": [
      "URI to which we will send requests http://02337c44-176c-4e8e-884c-09add33f3a47.southcentralus.azurecontainer.io/score\n",
      "{\"data\": {\"Column1\": 2.3, \"Column2\": 3.4, \"Column3\": 2.9, \"Column4\": 5.6}}\n",
      "TransformException:\n",
      "\tMessage: Must pass 2-d input\n",
      "\tInnerException: ValueError: Must pass 2-d input\n",
      "\tErrorResponse \n",
      "{\n",
      "    \"error\": {\n",
      "        \"code\": \"SystemError\",\n",
      "        \"message\": \"Encountered an internal AutoML error. Error Message/Code: TransformException. Additional Info: TransformException:\\n\\tMessage: Must pass 2-d input\\n\\tInnerException: None\\n\\tErrorResponse \\n{\\n    \\\"error\\\": {\\n        \\\"message\\\": \\\"Must pass 2-d input\\\",\\n        \\\"target\\\": \\\"PipelineWithYTransformations\\\",\\n        \\\"reference_code\\\": \\\"08fdc9b9-6ab8-4c46-9e21-da462e287594\\\"\\n    }\\n}\",\n",
      "        \"details_uri\": \"https://aka.ms/automltroubleshoot\",\n",
      "        \"target\": \"PipelineWithYTransformations\",\n",
      "        \"inner_error\": {\n",
      "            \"code\": \"ClientError\",\n",
      "            \"inner_error\": {\n",
      "                \"code\": \"AutoMLInternal\"\n",
      "            }\n",
      "        },\n",
      "        \"reference_code\": \"08fdc9b9-6ab8-4c46-9e21-da462e287594\"\n",
      "    }\n",
      "}\n"
     ]
    }
   ],
   "source": [
    "# data to test the endpoint after deployment\n",
    "data = {\n",
    "    \"data\":\n",
    "    [\n",
    "        { \n",
    "            \"Column1\":2.3,\n",
    "            \"Column2\":3.4,\n",
    "            \"Column3\":2.9,\n",
    "            \"Column4\":5.6\n",
    "        }\n",
    "    ]\n",
    "    \n",
    "}\n",
    "\n",
    "print(\"URI to which we will send requests\", service.scoring_uri)\n",
    "\n",
    "# Convert to JSON string\n",
    "input_data = json.dumps(data)\n",
    "print(input_data)\n",
    "# Set the content type\n",
    "headers = {'Content-Type': 'application/json'}\n",
    "\n",
    "# Make the request and display the response\n",
    "resp = requests.post(service.scoring_uri, input_data, headers=headers)\n",
    "print(resp.text)"
   ]
  },
  {
   "cell_type": "markdown",
   "metadata": {
    "gather": {
     "logged": 1598432765711
    },
    "jupyter": {
     "outputs_hidden": false,
     "source_hidden": false
    },
    "nteract": {
     "transient": {
      "deleting": false
     }
    }
   },
   "source": [
    "TODO: In the cell below, print the logs of the web service and delete the service"
   ]
  },
  {
   "cell_type": "code",
   "execution_count": 112,
   "metadata": {},
   "outputs": [
    {
     "name": "stdout",
     "output_type": "stream",
     "text": [
      "2021-07-27T02:36:47,815500900+00:00 - rsyslog/run \n",
      "2021-07-27T02:36:47,824697200+00:00 - iot-server/run \n",
      "2021-07-27T02:36:47,823640700+00:00 - gunicorn/run \n",
      "Dynamic Python package installation is disabled.\n",
      "Starting HTTP server\n",
      "2021-07-27T02:36:47,840939600+00:00 - nginx/run \n",
      "rsyslogd: /azureml-envs/azureml_0f14c2b7e4f2834136bd28a917e78d86/lib/libuuid.so.1: no version information available (required by rsyslogd)\n",
      "EdgeHubConnectionString and IOTEDGE_IOTHUBHOSTNAME are not set. Exiting...\n",
      "2021-07-27T02:36:48,149689900+00:00 - iot-server/finish 1 0\n",
      "2021-07-27T02:36:48,156035300+00:00 - Exit code 1 is normal. Not restarting iot-server.\n",
      "Starting gunicorn 20.1.0\n",
      "Listening at: http://127.0.0.1:31311 (46)\n",
      "Using worker: sync\n",
      "worker timeout is set to 300\n",
      "Booting worker with pid: 74\n",
      "SPARK_HOME not set. Skipping PySpark Initialization.\n",
      "Initializing logger\n",
      "2021-07-27 02:36:52,078 | root | INFO | Starting up app insights client\n",
      "logging socket was found. logging is available.\n",
      "logging socket was found. logging is available.\n",
      "2021-07-27 02:36:52,082 | root | INFO | Starting up request id generator\n",
      "2021-07-27 02:36:52,083 | root | INFO | Starting up app insight hooks\n",
      "2021-07-27 02:36:52,083 | root | INFO | Invoking user's init function\n",
      "Generating new fontManager, this may take some time...\n",
      "2021-07-27 02:36:57,135 | root | INFO | Users's init has completed successfully\n",
      "2021-07-27 02:36:57,143 | root | INFO | Skipping middleware: dbg_model_info as it's not enabled.\n",
      "2021-07-27 02:36:57,144 | root | INFO | Skipping middleware: dbg_resource_usage as it's not enabled.\n",
      "2021-07-27 02:36:57,149 | root | INFO | Scoring timeout is found from os.environ: 60000 ms\n",
      "2021-07-27 02:37:19,947 | root | INFO | Swagger file not present\n",
      "2021-07-27 02:37:19,948 | root | INFO | 404\n",
      "127.0.0.1 - - [27/Jul/2021:02:37:19 +0000] \"GET /swagger.json HTTP/1.0\" 404 19 \"-\" \"Go-http-client/1.1\"\n",
      "2021-07-27 02:37:22,612 | root | INFO | Swagger file not present\n",
      "2021-07-27 02:37:22,613 | root | INFO | 404\n",
      "127.0.0.1 - - [27/Jul/2021:02:37:22 +0000] \"GET /swagger.json HTTP/1.0\" 404 19 \"-\" \"Go-http-client/1.1\"\n",
      "2021-07-27 02:38:27,363 | root | INFO | Swagger file not present\n",
      "2021-07-27 02:38:27,364 | root | INFO | 404\n",
      "127.0.0.1 - - [27/Jul/2021:02:38:27 +0000] \"GET /swagger.json HTTP/1.0\" 404 19 \"-\" \"Go-http-client/1.1\"\n",
      "2021-07-27 02:38:35,547 | root | INFO | Scoring Timer is set to 60.0 seconds\n",
      "2021-07-27 02:38:35,575 | root | ERROR | Encountered Exception: Traceback (most recent call last):\n",
      "  File \"/azureml-envs/azureml_0f14c2b7e4f2834136bd28a917e78d86/lib/python3.6/site-packages/azureml/automl/runtime/shared/model_wrappers.py\", line 4276, in predict\n",
      "    return self.y_transformer.inverse_transform(self.pipeline.predict(X))\n",
      "  File \"/azureml-envs/azureml_0f14c2b7e4f2834136bd28a917e78d86/lib/python3.6/site-packages/sklearn/utils/metaestimators.py\", line 116, in <lambda>\n",
      "    out = lambda *args, **kwargs: self.fn(obj, *args, **kwargs)\n",
      "  File \"/azureml-envs/azureml_0f14c2b7e4f2834136bd28a917e78d86/lib/python3.6/site-packages/sklearn/pipeline.py\", line 419, in predict\n",
      "    Xt = transform.transform(Xt)\n",
      "  File \"/azureml-envs/azureml_0f14c2b7e4f2834136bd28a917e78d86/lib/python3.6/site-packages/azureml/automl/core/shared/logging_utilities.py\", line 305, in debug_log_wrapped\n",
      "    r = f(self, *args, **kwargs)\n",
      "  File \"/azureml-envs/azureml_0f14c2b7e4f2834136bd28a917e78d86/lib/python3.6/site-packages/azureml/automl/runtime/featurization/data_transformer.py\", line 409, in transform\n",
      "    df = pd.DataFrame(df)\n",
      "  File \"/azureml-envs/azureml_0f14c2b7e4f2834136bd28a917e78d86/lib/python3.6/site-packages/pandas/core/frame.py\", line 440, in __init__\n",
      "    mgr = init_ndarray(data, index, columns, dtype=dtype, copy=copy)\n",
      "  File \"/azureml-envs/azureml_0f14c2b7e4f2834136bd28a917e78d86/lib/python3.6/site-packages/pandas/core/internals/construction.py\", line 171, in init_ndarray\n",
      "    values = prep_ndarray(values, copy=copy)\n",
      "  File \"/azureml-envs/azureml_0f14c2b7e4f2834136bd28a917e78d86/lib/python3.6/site-packages/pandas/core/internals/construction.py\", line 295, in prep_ndarray\n",
      "    raise ValueError(\"Must pass 2-d input\")\n",
      "ValueError: Must pass 2-d input\n",
      "\n",
      "During handling of the above exception, another exception occurred:\n",
      "\n",
      "Traceback (most recent call last):\n",
      "  File \"/var/azureml-server/synchronous/routes.py\", line 65, in run_scoring\n",
      "    response, time_taken_ms = invoke_user_with_timer(service_input, request_headers)\n",
      "  File \"/var/azureml-server/synchronous/routes.py\", line 110, in invoke_user_with_timer\n",
      "    result, time_taken_ms = capture_time_taken(user_main.run)(**params)\n",
      "  File \"/var/azureml-server/synchronous/routes.py\", line 92, in timer\n",
      "    result = func(*args, **kwargs)\n",
      "  File \"/var/azureml-app/main.py\", line 21, in run\n",
      "    return_obj = driver_module.run(**arguments)\n",
      "  File \"/var/azureml-app/score.py\", line 20, in run\n",
      "    y_hat = model.predict(data)\n",
      "  File \"/azureml-envs/azureml_0f14c2b7e4f2834136bd28a917e78d86/lib/python3.6/site-packages/azureml/automl/runtime/shared/model_wrappers.py\", line 4283, in predict\n",
      "    ).with_generic_msg(_generic_transform_error_message.format(self.__class__.__name__))\n",
      "  File \"/azureml-envs/azureml_0f14c2b7e4f2834136bd28a917e78d86/lib/python3.6/site-packages/azureml/automl/runtime/shared/model_wrappers.py\", line 4276, in predict\n",
      "    return self.y_transformer.inverse_transform(self.pipeline.predict(X))\n",
      "  File \"/azureml-envs/azureml_0f14c2b7e4f2834136bd28a917e78d86/lib/python3.6/site-packages/sklearn/utils/metaestimators.py\", line 116, in <lambda>\n",
      "    out = lambda *args, **kwargs: self.fn(obj, *args, **kwargs)\n",
      "  File \"/azureml-envs/azureml_0f14c2b7e4f2834136bd28a917e78d86/lib/python3.6/site-packages/sklearn/pipeline.py\", line 419, in predict\n",
      "    Xt = transform.transform(Xt)\n",
      "  File \"/azureml-envs/azureml_0f14c2b7e4f2834136bd28a917e78d86/lib/python3.6/site-packages/azureml/automl/core/shared/logging_utilities.py\", line 305, in debug_log_wrapped\n",
      "    r = f(self, *args, **kwargs)\n",
      "  File \"/azureml-envs/azureml_0f14c2b7e4f2834136bd28a917e78d86/lib/python3.6/site-packages/azureml/automl/runtime/featurization/data_transformer.py\", line 409, in transform\n",
      "    df = pd.DataFrame(df)\n",
      "  File \"/azureml-envs/azureml_0f14c2b7e4f2834136bd28a917e78d86/lib/python3.6/site-packages/pandas/core/frame.py\", line 440, in __init__\n",
      "    mgr = init_ndarray(data, index, columns, dtype=dtype, copy=copy)\n",
      "  File \"/azureml-envs/azureml_0f14c2b7e4f2834136bd28a917e78d86/lib/python3.6/site-packages/pandas/core/internals/construction.py\", line 171, in init_ndarray\n",
      "    values = prep_ndarray(values, copy=copy)\n",
      "  File \"/azureml-envs/azureml_0f14c2b7e4f2834136bd28a917e78d86/lib/python3.6/site-packages/pandas/core/internals/construction.py\", line 295, in prep_ndarray\n",
      "    raise ValueError(\"Must pass 2-d input\")\n",
      "azureml.automl.core.shared.exceptions.TransformException: TransformException:\n",
      "\tMessage: Must pass 2-d input\n",
      "\tInnerException: ValueError: Must pass 2-d input\n",
      "\tErrorResponse \n",
      "{\n",
      "    \"error\": {\n",
      "        \"code\": \"SystemError\",\n",
      "        \"message\": \"Encountered an internal AutoML error. Error Message/Code: TransformException. Additional Info: TransformException:\\n\\tMessage: Must pass 2-d input\\n\\tInnerException: None\\n\\tErrorResponse \\n{\\n    \\\"error\\\": {\\n        \\\"message\\\": \\\"Must pass 2-d input\\\",\\n        \\\"target\\\": \\\"PipelineWithYTransformations\\\",\\n        \\\"reference_code\\\": \\\"08fdc9b9-6ab8-4c46-9e21-da462e287594\\\"\\n    }\\n}\",\n",
      "        \"details_uri\": \"https://aka.ms/automltroubleshoot\",\n",
      "        \"target\": \"PipelineWithYTransformations\",\n",
      "        \"inner_error\": {\n",
      "            \"code\": \"ClientError\",\n",
      "            \"inner_error\": {\n",
      "                \"code\": \"AutoMLInternal\"\n",
      "            }\n",
      "        },\n",
      "        \"reference_code\": \"08fdc9b9-6ab8-4c46-9e21-da462e287594\"\n",
      "    }\n",
      "}\n",
      "\n",
      "During handling of the above exception, another exception occurred:\n",
      "\n",
      "Traceback (most recent call last):\n",
      "  File \"/azureml-envs/azureml_0f14c2b7e4f2834136bd28a917e78d86/lib/python3.6/site-packages/flask/app.py\", line 1832, in full_dispatch_request\n",
      "    rv = self.dispatch_request()\n",
      "  File \"/azureml-envs/azureml_0f14c2b7e4f2834136bd28a917e78d86/lib/python3.6/site-packages/flask/app.py\", line 1818, in dispatch_request\n",
      "    return self.view_functions[rule.endpoint](**req.view_args)\n",
      "  File \"/var/azureml-server/synchronous/routes.py\", line 44, in score_realtime\n",
      "    return run_scoring(service_input, request.headers, request.environ.get('REQUEST_ID', '00000000-0000-0000-0000-000000000000'))\n",
      "  File \"/var/azureml-server/synchronous/routes.py\", line 74, in run_scoring\n",
      "    raise RunFunctionException(str(exc))\n",
      "run_function_exception.RunFunctionException\n",
      "\n",
      "2021-07-27 02:38:35,575 | root | INFO | 500\n",
      "127.0.0.1 - - [27/Jul/2021:02:38:35 +0000] \"POST /score HTTP/1.0\" 500 914 \"-\" \"python-requests/2.25.1\"\n",
      "2021-07-27 02:38:48,247 | root | INFO | Swagger file not present\n",
      "2021-07-27 02:38:48,248 | root | INFO | 404\n",
      "127.0.0.1 - - [27/Jul/2021:02:38:48 +0000] \"GET /swagger.json HTTP/1.0\" 404 19 \"-\" \"Mozilla/5.0 (Windows NT 10.0; Win64; x64) AppleWebKit/537.36 (KHTML, like Gecko) Chrome/92.0.4515.107 Safari/537.36\"\n",
      "127.0.0.1 - - [27/Jul/2021:02:38:48 +0000] \"GET /favicon.ico HTTP/1.0\" 404 232 \"http://02337c44-176c-4e8e-884c-09add33f3a47.southcentralus.azurecontainer.io/swagger.json\" \"Mozilla/5.0 (Windows NT 10.0; Win64; x64) AppleWebKit/537.36 (KHTML, like Gecko) Chrome/92.0.4515.107 Safari/537.36\"\n",
      "2021-07-27 02:39:31,564 | root | INFO | Scoring Timer is set to 60.0 seconds\n",
      "2021-07-27 02:39:31,600 | root | ERROR | Encountered Exception: Traceback (most recent call last):\n",
      "  File \"/var/azureml-server/synchronous/routes.py\", line 65, in run_scoring\n",
      "    response, time_taken_ms = invoke_user_with_timer(service_input, request_headers)\n",
      "  File \"/var/azureml-server/synchronous/routes.py\", line 110, in invoke_user_with_timer\n",
      "    result, time_taken_ms = capture_time_taken(user_main.run)(**params)\n",
      "  File \"/var/azureml-server/synchronous/routes.py\", line 92, in timer\n",
      "    result = func(*args, **kwargs)\n",
      "  File \"/var/azureml-app/main.py\", line 21, in run\n",
      "    return_obj = driver_module.run(**arguments)\n",
      "  File \"/var/azureml-app/score.py\", line 20, in run\n",
      "    y_hat = model.predict(data)\n",
      "  File \"/azureml-envs/azureml_0f14c2b7e4f2834136bd28a917e78d86/lib/python3.6/site-packages/azureml/automl/runtime/shared/model_wrappers.py\", line 4276, in predict\n",
      "    return self.y_transformer.inverse_transform(self.pipeline.predict(X))\n",
      "  File \"/azureml-envs/azureml_0f14c2b7e4f2834136bd28a917e78d86/lib/python3.6/site-packages/sklearn/utils/metaestimators.py\", line 116, in <lambda>\n",
      "    out = lambda *args, **kwargs: self.fn(obj, *args, **kwargs)\n",
      "  File \"/azureml-envs/azureml_0f14c2b7e4f2834136bd28a917e78d86/lib/python3.6/site-packages/sklearn/pipeline.py\", line 419, in predict\n",
      "    Xt = transform.transform(Xt)\n",
      "  File \"/azureml-envs/azureml_0f14c2b7e4f2834136bd28a917e78d86/lib/python3.6/site-packages/azureml/automl/core/shared/logging_utilities.py\", line 305, in debug_log_wrapped\n",
      "    r = f(self, *args, **kwargs)\n",
      "  File \"/azureml-envs/azureml_0f14c2b7e4f2834136bd28a917e78d86/lib/python3.6/site-packages/azureml/automl/runtime/featurization/data_transformer.py\", line 413, in transform\n",
      "    df, self._columns_types_mapping\n",
      "  File \"/azureml-envs/azureml_0f14c2b7e4f2834136bd28a917e78d86/lib/python3.6/site-packages/azureml/automl/runtime/featurization/data_transformer.py\", line 688, in _check_columns_names_and_convert_types\n",
      "    reference_code=ReferenceCodes._DATA_TRANSFORMER_TRANSFROM_WRONG_COLUMN,\n",
      "azureml.automl.core.shared.exceptions.DataException: DataException:\n",
      "\tMessage: The number of features in [fitted data](4) does not match with those in [input data](1). Please inspect your data, and make sure that features are aligned in both the Datasets.\n",
      "\tInnerException: None\n",
      "\tErrorResponse \n",
      "{\n",
      "    \"error\": {\n",
      "        \"code\": \"UserError\",\n",
      "        \"message\": \"The number of features in [fitted data](4) does not match with those in [input data](1). Please inspect your data, and make sure that features are aligned in both the Datasets.\",\n",
      "        \"target\": \"X\",\n",
      "        \"inner_error\": {\n",
      "            \"code\": \"BadData\",\n",
      "            \"inner_error\": {\n",
      "                \"code\": \"InvalidDimension\",\n",
      "                \"inner_error\": {\n",
      "                    \"code\": \"DataShapeMismatch\"\n",
      "                }\n",
      "            }\n",
      "        },\n",
      "        \"reference_code\": \"c402b6c2-3870-45a7-8745-c063bd385962\"\n",
      "    }\n",
      "}\n",
      "\n",
      "During handling of the above exception, another exception occurred:\n",
      "\n",
      "Traceback (most recent call last):\n",
      "  File \"/azureml-envs/azureml_0f14c2b7e4f2834136bd28a917e78d86/lib/python3.6/site-packages/flask/app.py\", line 1832, in full_dispatch_request\n",
      "    rv = self.dispatch_request()\n",
      "  File \"/azureml-envs/azureml_0f14c2b7e4f2834136bd28a917e78d86/lib/python3.6/site-packages/flask/app.py\", line 1818, in dispatch_request\n",
      "    return self.view_functions[rule.endpoint](**req.view_args)\n",
      "  File \"/var/azureml-server/synchronous/routes.py\", line 44, in score_realtime\n",
      "    return run_scoring(service_input, request.headers, request.environ.get('REQUEST_ID', '00000000-0000-0000-0000-000000000000'))\n",
      "  File \"/var/azureml-server/synchronous/routes.py\", line 74, in run_scoring\n",
      "    raise RunFunctionException(str(exc))\n",
      "run_function_exception.RunFunctionException\n",
      "\n",
      "2021-07-27 02:39:31,600 | root | INFO | 500\n",
      "127.0.0.1 - - [27/Jul/2021:02:39:31 +0000] \"POST /score HTTP/1.0\" 500 833 \"-\" \"python-requests/2.25.1\"\n",
      "Exception in worker process\n",
      "Traceback (most recent call last):\n",
      "  File \"/azureml-envs/azureml_0f14c2b7e4f2834136bd28a917e78d86/lib/python3.6/site-packages/gunicorn/arbiter.py\", line 589, in spawn_worker\n",
      "    worker.init_process()\n",
      "  File \"/azureml-envs/azureml_0f14c2b7e4f2834136bd28a917e78d86/lib/python3.6/site-packages/gunicorn/workers/base.py\", line 142, in init_process\n",
      "    self.run()\n",
      "  File \"/azureml-envs/azureml_0f14c2b7e4f2834136bd28a917e78d86/lib/python3.6/site-packages/gunicorn/workers/sync.py\", line 125, in run\n",
      "    self.run_for_one(timeout)\n",
      "  File \"/azureml-envs/azureml_0f14c2b7e4f2834136bd28a917e78d86/lib/python3.6/site-packages/gunicorn/workers/sync.py\", line 84, in run_for_one\n",
      "    self.wait(timeout)\n",
      "  File \"/azureml-envs/azureml_0f14c2b7e4f2834136bd28a917e78d86/lib/python3.6/site-packages/gunicorn/workers/sync.py\", line 36, in wait\n",
      "    ret = select.select(self.wait_fds, [], [], timeout)\n",
      "  File \"/var/azureml-server/routes_common.py\", line 153, in alarm_handler\n",
      "    raise TimeoutException(error_message)\n",
      "timeout_exception.TimeoutException\n",
      "Worker exiting (pid: 74)\n",
      "worker timeout is set to 300\n",
      "Booting worker with pid: 172\n",
      "SPARK_HOME not set. Skipping PySpark Initialization.\n",
      "Initializing logger\n",
      "2021-07-27 02:40:35,524 | root | INFO | Starting up app insights client\n",
      "logging socket was found. logging is available.\n",
      "logging socket was found. logging is available.\n",
      "2021-07-27 02:40:35,529 | root | INFO | Starting up request id generator\n",
      "2021-07-27 02:40:35,530 | root | INFO | Starting up app insight hooks\n",
      "2021-07-27 02:40:35,530 | root | INFO | Invoking user's init function\n",
      "2021-07-27 02:40:39,012 | root | INFO | Users's init has completed successfully\n",
      "2021-07-27 02:40:39,014 | root | INFO | Skipping middleware: dbg_model_info as it's not enabled.\n",
      "2021-07-27 02:40:39,019 | root | INFO | Skipping middleware: dbg_resource_usage as it's not enabled.\n",
      "2021-07-27 02:40:39,020 | root | INFO | Scoring timeout is found from os.environ: 60000 ms\n",
      "2021-07-27 02:40:39,034 | root | INFO | Scoring Timer is set to 60.0 seconds\n",
      "2021-07-27 02:40:39,053 | root | ERROR | Encountered Exception: Traceback (most recent call last):\n",
      "  File \"/azureml-envs/azureml_0f14c2b7e4f2834136bd28a917e78d86/lib/python3.6/site-packages/azureml/automl/runtime/shared/model_wrappers.py\", line 4276, in predict\n",
      "    return self.y_transformer.inverse_transform(self.pipeline.predict(X))\n",
      "  File \"/azureml-envs/azureml_0f14c2b7e4f2834136bd28a917e78d86/lib/python3.6/site-packages/sklearn/utils/metaestimators.py\", line 116, in <lambda>\n",
      "    out = lambda *args, **kwargs: self.fn(obj, *args, **kwargs)\n",
      "  File \"/azureml-envs/azureml_0f14c2b7e4f2834136bd28a917e78d86/lib/python3.6/site-packages/sklearn/pipeline.py\", line 419, in predict\n",
      "    Xt = transform.transform(Xt)\n",
      "  File \"/azureml-envs/azureml_0f14c2b7e4f2834136bd28a917e78d86/lib/python3.6/site-packages/azureml/automl/core/shared/logging_utilities.py\", line 305, in debug_log_wrapped\n",
      "    r = f(self, *args, **kwargs)\n",
      "  File \"/azureml-envs/azureml_0f14c2b7e4f2834136bd28a917e78d86/lib/python3.6/site-packages/azureml/automl/runtime/featurization/data_transformer.py\", line 409, in transform\n",
      "    df = pd.DataFrame(df)\n",
      "  File \"/azureml-envs/azureml_0f14c2b7e4f2834136bd28a917e78d86/lib/python3.6/site-packages/pandas/core/frame.py\", line 440, in __init__\n",
      "    mgr = init_ndarray(data, index, columns, dtype=dtype, copy=copy)\n",
      "  File \"/azureml-envs/azureml_0f14c2b7e4f2834136bd28a917e78d86/lib/python3.6/site-packages/pandas/core/internals/construction.py\", line 171, in init_ndarray\n",
      "    values = prep_ndarray(values, copy=copy)\n",
      "  File \"/azureml-envs/azureml_0f14c2b7e4f2834136bd28a917e78d86/lib/python3.6/site-packages/pandas/core/internals/construction.py\", line 295, in prep_ndarray\n",
      "    raise ValueError(\"Must pass 2-d input\")\n",
      "ValueError: Must pass 2-d input\n",
      "\n",
      "During handling of the above exception, another exception occurred:\n",
      "\n",
      "Traceback (most recent call last):\n",
      "  File \"/var/azureml-server/synchronous/routes.py\", line 65, in run_scoring\n",
      "    response, time_taken_ms = invoke_user_with_timer(service_input, request_headers)\n",
      "  File \"/var/azureml-server/synchronous/routes.py\", line 110, in invoke_user_with_timer\n",
      "    result, time_taken_ms = capture_time_taken(user_main.run)(**params)\n",
      "  File \"/var/azureml-server/synchronous/routes.py\", line 92, in timer\n",
      "    result = func(*args, **kwargs)\n",
      "  File \"/var/azureml-app/main.py\", line 21, in run\n",
      "    return_obj = driver_module.run(**arguments)\n",
      "  File \"/var/azureml-app/score.py\", line 20, in run\n",
      "    y_hat = model.predict(data)\n",
      "  File \"/azureml-envs/azureml_0f14c2b7e4f2834136bd28a917e78d86/lib/python3.6/site-packages/azureml/automl/runtime/shared/model_wrappers.py\", line 4283, in predict\n",
      "    ).with_generic_msg(_generic_transform_error_message.format(self.__class__.__name__))\n",
      "  File \"/azureml-envs/azureml_0f14c2b7e4f2834136bd28a917e78d86/lib/python3.6/site-packages/azureml/automl/runtime/shared/model_wrappers.py\", line 4276, in predict\n",
      "    return self.y_transformer.inverse_transform(self.pipeline.predict(X))\n",
      "  File \"/azureml-envs/azureml_0f14c2b7e4f2834136bd28a917e78d86/lib/python3.6/site-packages/sklearn/utils/metaestimators.py\", line 116, in <lambda>\n",
      "    out = lambda *args, **kwargs: self.fn(obj, *args, **kwargs)\n",
      "  File \"/azureml-envs/azureml_0f14c2b7e4f2834136bd28a917e78d86/lib/python3.6/site-packages/sklearn/pipeline.py\", line 419, in predict\n",
      "    Xt = transform.transform(Xt)\n",
      "  File \"/azureml-envs/azureml_0f14c2b7e4f2834136bd28a917e78d86/lib/python3.6/site-packages/azureml/automl/core/shared/logging_utilities.py\", line 305, in debug_log_wrapped\n",
      "    r = f(self, *args, **kwargs)\n",
      "  File \"/azureml-envs/azureml_0f14c2b7e4f2834136bd28a917e78d86/lib/python3.6/site-packages/azureml/automl/runtime/featurization/data_transformer.py\", line 409, in transform\n",
      "    df = pd.DataFrame(df)\n",
      "  File \"/azureml-envs/azureml_0f14c2b7e4f2834136bd28a917e78d86/lib/python3.6/site-packages/pandas/core/frame.py\", line 440, in __init__\n",
      "    mgr = init_ndarray(data, index, columns, dtype=dtype, copy=copy)\n",
      "  File \"/azureml-envs/azureml_0f14c2b7e4f2834136bd28a917e78d86/lib/python3.6/site-packages/pandas/core/internals/construction.py\", line 171, in init_ndarray\n",
      "    values = prep_ndarray(values, copy=copy)\n",
      "  File \"/azureml-envs/azureml_0f14c2b7e4f2834136bd28a917e78d86/lib/python3.6/site-packages/pandas/core/internals/construction.py\", line 295, in prep_ndarray\n",
      "    raise ValueError(\"Must pass 2-d input\")\n",
      "azureml.automl.core.shared.exceptions.TransformException: TransformException:\n",
      "\tMessage: Must pass 2-d input\n",
      "\tInnerException: ValueError: Must pass 2-d input\n",
      "\tErrorResponse \n",
      "{\n",
      "    \"error\": {\n",
      "        \"code\": \"SystemError\",\n",
      "        \"message\": \"Encountered an internal AutoML error. Error Message/Code: TransformException. Additional Info: TransformException:\\n\\tMessage: Must pass 2-d input\\n\\tInnerException: None\\n\\tErrorResponse \\n{\\n    \\\"error\\\": {\\n        \\\"message\\\": \\\"Must pass 2-d input\\\",\\n        \\\"target\\\": \\\"PipelineWithYTransformations\\\",\\n        \\\"reference_code\\\": \\\"08fdc9b9-6ab8-4c46-9e21-da462e287594\\\"\\n    }\\n}\",\n",
      "        \"details_uri\": \"https://aka.ms/automltroubleshoot\",\n",
      "        \"target\": \"PipelineWithYTransformations\",\n",
      "        \"inner_error\": {\n",
      "            \"code\": \"ClientError\",\n",
      "            \"inner_error\": {\n",
      "                \"code\": \"AutoMLInternal\"\n",
      "            }\n",
      "        },\n",
      "        \"reference_code\": \"08fdc9b9-6ab8-4c46-9e21-da462e287594\"\n",
      "    }\n",
      "}\n",
      "\n",
      "During handling of the above exception, another exception occurred:\n",
      "\n",
      "Traceback (most recent call last):\n",
      "  File \"/azureml-envs/azureml_0f14c2b7e4f2834136bd28a917e78d86/lib/python3.6/site-packages/flask/app.py\", line 1832, in full_dispatch_request\n",
      "    rv = self.dispatch_request()\n",
      "  File \"/azureml-envs/azureml_0f14c2b7e4f2834136bd28a917e78d86/lib/python3.6/site-packages/flask/app.py\", line 1818, in dispatch_request\n",
      "    return self.view_functions[rule.endpoint](**req.view_args)\n",
      "  File \"/var/azureml-server/synchronous/routes.py\", line 44, in score_realtime\n",
      "    return run_scoring(service_input, request.headers, request.environ.get('REQUEST_ID', '00000000-0000-0000-0000-000000000000'))\n",
      "  File \"/var/azureml-server/synchronous/routes.py\", line 74, in run_scoring\n",
      "    raise RunFunctionException(str(exc))\n",
      "run_function_exception.RunFunctionException\n",
      "\n",
      "2021-07-27 02:40:39,053 | root | INFO | 500\n",
      "127.0.0.1 - - [27/Jul/2021:02:40:39 +0000] \"POST /score HTTP/1.0\" 500 914 \"-\" \"python-requests/2.25.1\"\n",
      "Exception in worker process\n",
      "Traceback (most recent call last):\n",
      "  File \"/azureml-envs/azureml_0f14c2b7e4f2834136bd28a917e78d86/lib/python3.6/site-packages/gunicorn/arbiter.py\", line 589, in spawn_worker\n",
      "    worker.init_process()\n",
      "  File \"/azureml-envs/azureml_0f14c2b7e4f2834136bd28a917e78d86/lib/python3.6/site-packages/gunicorn/workers/base.py\", line 142, in init_process\n",
      "    self.run()\n",
      "  File \"/azureml-envs/azureml_0f14c2b7e4f2834136bd28a917e78d86/lib/python3.6/site-packages/gunicorn/workers/sync.py\", line 125, in run\n",
      "    self.run_for_one(timeout)\n",
      "  File \"/azureml-envs/azureml_0f14c2b7e4f2834136bd28a917e78d86/lib/python3.6/site-packages/gunicorn/workers/sync.py\", line 84, in run_for_one\n",
      "    self.wait(timeout)\n",
      "  File \"/azureml-envs/azureml_0f14c2b7e4f2834136bd28a917e78d86/lib/python3.6/site-packages/gunicorn/workers/sync.py\", line 36, in wait\n",
      "    ret = select.select(self.wait_fds, [], [], timeout)\n",
      "  File \"/var/azureml-server/routes_common.py\", line 153, in alarm_handler\n",
      "    raise TimeoutException(error_message)\n",
      "timeout_exception.TimeoutException\n",
      "Worker exiting (pid: 172)\n",
      "worker timeout is set to 300\n",
      "Booting worker with pid: 199\n",
      "SPARK_HOME not set. Skipping PySpark Initialization.\n",
      "Initializing logger\n",
      "2021-07-27 02:41:42,572 | root | INFO | Starting up app insights client\n",
      "logging socket was found. logging is available.\n",
      "logging socket was found. logging is available.\n",
      "2021-07-27 02:41:42,573 | root | INFO | Starting up request id generator\n",
      "2021-07-27 02:41:42,574 | root | INFO | Starting up app insight hooks\n",
      "2021-07-27 02:41:42,574 | root | INFO | Invoking user's init function\n",
      "2021-07-27 02:41:46,058 | root | INFO | Users's init has completed successfully\n",
      "2021-07-27 02:41:46,065 | root | INFO | Skipping middleware: dbg_model_info as it's not enabled.\n",
      "2021-07-27 02:41:46,066 | root | INFO | Skipping middleware: dbg_resource_usage as it's not enabled.\n",
      "2021-07-27 02:41:46,068 | root | INFO | Scoring timeout is found from os.environ: 60000 ms\n",
      "2021-07-27 02:41:46,080 | root | INFO | Scoring Timer is set to 60.0 seconds\n",
      "2021-07-27 02:41:46,096 | root | ERROR | Encountered Exception: Traceback (most recent call last):\n",
      "  File \"/var/azureml-server/synchronous/routes.py\", line 65, in run_scoring\n",
      "    response, time_taken_ms = invoke_user_with_timer(service_input, request_headers)\n",
      "  File \"/var/azureml-server/synchronous/routes.py\", line 110, in invoke_user_with_timer\n",
      "    result, time_taken_ms = capture_time_taken(user_main.run)(**params)\n",
      "  File \"/var/azureml-server/synchronous/routes.py\", line 92, in timer\n",
      "    result = func(*args, **kwargs)\n",
      "  File \"/var/azureml-app/main.py\", line 21, in run\n",
      "    return_obj = driver_module.run(**arguments)\n",
      "  File \"/var/azureml-app/score.py\", line 20, in run\n",
      "    y_hat = model.predict(data)\n",
      "  File \"/azureml-envs/azureml_0f14c2b7e4f2834136bd28a917e78d86/lib/python3.6/site-packages/azureml/automl/runtime/shared/model_wrappers.py\", line 4276, in predict\n",
      "    return self.y_transformer.inverse_transform(self.pipeline.predict(X))\n",
      "  File \"/azureml-envs/azureml_0f14c2b7e4f2834136bd28a917e78d86/lib/python3.6/site-packages/sklearn/utils/metaestimators.py\", line 116, in <lambda>\n",
      "    out = lambda *args, **kwargs: self.fn(obj, *args, **kwargs)\n",
      "  File \"/azureml-envs/azureml_0f14c2b7e4f2834136bd28a917e78d86/lib/python3.6/site-packages/sklearn/pipeline.py\", line 419, in predict\n",
      "    Xt = transform.transform(Xt)\n",
      "  File \"/azureml-envs/azureml_0f14c2b7e4f2834136bd28a917e78d86/lib/python3.6/site-packages/azureml/automl/core/shared/logging_utilities.py\", line 305, in debug_log_wrapped\n",
      "    r = f(self, *args, **kwargs)\n",
      "  File \"/azureml-envs/azureml_0f14c2b7e4f2834136bd28a917e78d86/lib/python3.6/site-packages/azureml/automl/runtime/featurization/data_transformer.py\", line 413, in transform\n",
      "    df, self._columns_types_mapping\n",
      "  File \"/azureml-envs/azureml_0f14c2b7e4f2834136bd28a917e78d86/lib/python3.6/site-packages/azureml/automl/runtime/featurization/data_transformer.py\", line 688, in _check_columns_names_and_convert_types\n",
      "    reference_code=ReferenceCodes._DATA_TRANSFORMER_TRANSFROM_WRONG_COLUMN,\n",
      "azureml.automl.core.shared.exceptions.DataException: DataException:\n",
      "\tMessage: The number of features in [fitted data](4) does not match with those in [input data](1). Please inspect your data, and make sure that features are aligned in both the Datasets.\n",
      "\tInnerException: None\n",
      "\tErrorResponse \n",
      "{\n",
      "    \"error\": {\n",
      "        \"code\": \"UserError\",\n",
      "        \"message\": \"The number of features in [fitted data](4) does not match with those in [input data](1). Please inspect your data, and make sure that features are aligned in both the Datasets.\",\n",
      "        \"target\": \"X\",\n",
      "        \"inner_error\": {\n",
      "            \"code\": \"BadData\",\n",
      "            \"inner_error\": {\n",
      "                \"code\": \"InvalidDimension\",\n",
      "                \"inner_error\": {\n",
      "                    \"code\": \"DataShapeMismatch\"\n",
      "                }\n",
      "            }\n",
      "        },\n",
      "        \"reference_code\": \"c402b6c2-3870-45a7-8745-c063bd385962\"\n",
      "    }\n",
      "}\n",
      "\n",
      "During handling of the above exception, another exception occurred:\n",
      "\n",
      "Traceback (most recent call last):\n",
      "  File \"/azureml-envs/azureml_0f14c2b7e4f2834136bd28a917e78d86/lib/python3.6/site-packages/flask/app.py\", line 1832, in full_dispatch_request\n",
      "    rv = self.dispatch_request()\n",
      "  File \"/azureml-envs/azureml_0f14c2b7e4f2834136bd28a917e78d86/lib/python3.6/site-packages/flask/app.py\", line 1818, in dispatch_request\n",
      "    return self.view_functions[rule.endpoint](**req.view_args)\n",
      "  File \"/var/azureml-server/synchronous/routes.py\", line 44, in score_realtime\n",
      "    return run_scoring(service_input, request.headers, request.environ.get('REQUEST_ID', '00000000-0000-0000-0000-000000000000'))\n",
      "  File \"/var/azureml-server/synchronous/routes.py\", line 74, in run_scoring\n",
      "    raise RunFunctionException(str(exc))\n",
      "run_function_exception.RunFunctionException\n",
      "\n",
      "2021-07-27 02:41:46,097 | root | INFO | 500\n",
      "127.0.0.1 - - [27/Jul/2021:02:41:46 +0000] \"POST /score HTTP/1.0\" 500 833 \"-\" \"python-requests/2.25.1\"\n",
      "2021-07-27 02:42:28,292 | root | INFO | Scoring Timer is set to 60.0 seconds\n",
      "2021-07-27 02:42:28,301 | root | ERROR | Encountered Exception: Traceback (most recent call last):\n",
      "  File \"/var/azureml-server/synchronous/routes.py\", line 65, in run_scoring\n",
      "    response, time_taken_ms = invoke_user_with_timer(service_input, request_headers)\n",
      "  File \"/var/azureml-server/synchronous/routes.py\", line 110, in invoke_user_with_timer\n",
      "    result, time_taken_ms = capture_time_taken(user_main.run)(**params)\n",
      "  File \"/var/azureml-server/synchronous/routes.py\", line 92, in timer\n",
      "    result = func(*args, **kwargs)\n",
      "  File \"/var/azureml-app/main.py\", line 21, in run\n",
      "    return_obj = driver_module.run(**arguments)\n",
      "  File \"/var/azureml-app/score.py\", line 20, in run\n",
      "    y_hat = model.predict(data)\n",
      "  File \"/azureml-envs/azureml_0f14c2b7e4f2834136bd28a917e78d86/lib/python3.6/site-packages/azureml/automl/runtime/shared/model_wrappers.py\", line 4276, in predict\n",
      "    return self.y_transformer.inverse_transform(self.pipeline.predict(X))\n",
      "  File \"/azureml-envs/azureml_0f14c2b7e4f2834136bd28a917e78d86/lib/python3.6/site-packages/sklearn/utils/metaestimators.py\", line 116, in <lambda>\n",
      "    out = lambda *args, **kwargs: self.fn(obj, *args, **kwargs)\n",
      "  File \"/azureml-envs/azureml_0f14c2b7e4f2834136bd28a917e78d86/lib/python3.6/site-packages/sklearn/pipeline.py\", line 419, in predict\n",
      "    Xt = transform.transform(Xt)\n",
      "  File \"/azureml-envs/azureml_0f14c2b7e4f2834136bd28a917e78d86/lib/python3.6/site-packages/azureml/automl/core/shared/logging_utilities.py\", line 305, in debug_log_wrapped\n",
      "    r = f(self, *args, **kwargs)\n",
      "  File \"/azureml-envs/azureml_0f14c2b7e4f2834136bd28a917e78d86/lib/python3.6/site-packages/azureml/automl/runtime/featurization/data_transformer.py\", line 413, in transform\n",
      "    df, self._columns_types_mapping\n",
      "  File \"/azureml-envs/azureml_0f14c2b7e4f2834136bd28a917e78d86/lib/python3.6/site-packages/azureml/automl/runtime/featurization/data_transformer.py\", line 688, in _check_columns_names_and_convert_types\n",
      "    reference_code=ReferenceCodes._DATA_TRANSFORMER_TRANSFROM_WRONG_COLUMN,\n",
      "azureml.automl.core.shared.exceptions.DataException: DataException:\n",
      "\tMessage: The number of features in [fitted data](4) does not match with those in [input data](1). Please inspect your data, and make sure that features are aligned in both the Datasets.\n",
      "\tInnerException: None\n",
      "\tErrorResponse \n",
      "{\n",
      "    \"error\": {\n",
      "        \"code\": \"UserError\",\n",
      "        \"message\": \"The number of features in [fitted data](4) does not match with those in [input data](1). Please inspect your data, and make sure that features are aligned in both the Datasets.\",\n",
      "        \"target\": \"X\",\n",
      "        \"inner_error\": {\n",
      "            \"code\": \"BadData\",\n",
      "            \"inner_error\": {\n",
      "                \"code\": \"InvalidDimension\",\n",
      "                \"inner_error\": {\n",
      "                    \"code\": \"DataShapeMismatch\"\n",
      "                }\n",
      "            }\n",
      "        },\n",
      "        \"reference_code\": \"c402b6c2-3870-45a7-8745-c063bd385962\"\n",
      "    }\n",
      "}\n",
      "\n",
      "During handling of the above exception, another exception occurred:\n",
      "\n",
      "Traceback (most recent call last):\n",
      "  File \"/azureml-envs/azureml_0f14c2b7e4f2834136bd28a917e78d86/lib/python3.6/site-packages/flask/app.py\", line 1832, in full_dispatch_request\n",
      "    rv = self.dispatch_request()\n",
      "  File \"/azureml-envs/azureml_0f14c2b7e4f2834136bd28a917e78d86/lib/python3.6/site-packages/flask/app.py\", line 1818, in dispatch_request\n",
      "    return self.view_functions[rule.endpoint](**req.view_args)\n",
      "  File \"/var/azureml-server/synchronous/routes.py\", line 44, in score_realtime\n",
      "    return run_scoring(service_input, request.headers, request.environ.get('REQUEST_ID', '00000000-0000-0000-0000-000000000000'))\n",
      "  File \"/var/azureml-server/synchronous/routes.py\", line 74, in run_scoring\n",
      "    raise RunFunctionException(str(exc))\n",
      "run_function_exception.RunFunctionException\n",
      "\n",
      "2021-07-27 02:42:28,301 | root | INFO | 500\n",
      "127.0.0.1 - - [27/Jul/2021:02:42:28 +0000] \"POST /score HTTP/1.0\" 500 833 \"-\" \"python-requests/2.25.1\"\n",
      "127.0.0.1 - - [27/Jul/2021:02:43:02 +0000] \"POST /HNAP1/ HTTP/1.0\" 404 232 \"-\" \"Go-http-client/1.1\"\n",
      "2021-07-27 02:43:12,267 | root | INFO | Scoring Timer is set to 60.0 seconds\n",
      "2021-07-27 02:43:12,274 | root | ERROR | Encountered Exception: Traceback (most recent call last):\n",
      "  File \"/var/azureml-server/synchronous/routes.py\", line 65, in run_scoring\n",
      "    response, time_taken_ms = invoke_user_with_timer(service_input, request_headers)\n",
      "  File \"/var/azureml-server/synchronous/routes.py\", line 110, in invoke_user_with_timer\n",
      "    result, time_taken_ms = capture_time_taken(user_main.run)(**params)\n",
      "  File \"/var/azureml-server/synchronous/routes.py\", line 92, in timer\n",
      "    result = func(*args, **kwargs)\n",
      "  File \"/var/azureml-app/main.py\", line 21, in run\n",
      "    return_obj = driver_module.run(**arguments)\n",
      "  File \"/var/azureml-app/score.py\", line 20, in run\n",
      "    y_hat = model.predict(data)\n",
      "  File \"/azureml-envs/azureml_0f14c2b7e4f2834136bd28a917e78d86/lib/python3.6/site-packages/azureml/automl/runtime/shared/model_wrappers.py\", line 4276, in predict\n",
      "    return self.y_transformer.inverse_transform(self.pipeline.predict(X))\n",
      "  File \"/azureml-envs/azureml_0f14c2b7e4f2834136bd28a917e78d86/lib/python3.6/site-packages/sklearn/utils/metaestimators.py\", line 116, in <lambda>\n",
      "    out = lambda *args, **kwargs: self.fn(obj, *args, **kwargs)\n",
      "  File \"/azureml-envs/azureml_0f14c2b7e4f2834136bd28a917e78d86/lib/python3.6/site-packages/sklearn/pipeline.py\", line 419, in predict\n",
      "    Xt = transform.transform(Xt)\n",
      "  File \"/azureml-envs/azureml_0f14c2b7e4f2834136bd28a917e78d86/lib/python3.6/site-packages/azureml/automl/core/shared/logging_utilities.py\", line 305, in debug_log_wrapped\n",
      "    r = f(self, *args, **kwargs)\n",
      "  File \"/azureml-envs/azureml_0f14c2b7e4f2834136bd28a917e78d86/lib/python3.6/site-packages/azureml/automl/runtime/featurization/data_transformer.py\", line 413, in transform\n",
      "    df, self._columns_types_mapping\n",
      "  File \"/azureml-envs/azureml_0f14c2b7e4f2834136bd28a917e78d86/lib/python3.6/site-packages/azureml/automl/runtime/featurization/data_transformer.py\", line 688, in _check_columns_names_and_convert_types\n",
      "    reference_code=ReferenceCodes._DATA_TRANSFORMER_TRANSFROM_WRONG_COLUMN,\n",
      "azureml.automl.core.shared.exceptions.DataException: DataException:\n",
      "\tMessage: The number of features in [fitted data](4) does not match with those in [input data](1). Please inspect your data, and make sure that features are aligned in both the Datasets.\n",
      "\tInnerException: None\n",
      "\tErrorResponse \n",
      "{\n",
      "    \"error\": {\n",
      "        \"code\": \"UserError\",\n",
      "        \"message\": \"The number of features in [fitted data](4) does not match with those in [input data](1). Please inspect your data, and make sure that features are aligned in both the Datasets.\",\n",
      "        \"target\": \"X\",\n",
      "        \"inner_error\": {\n",
      "            \"code\": \"BadData\",\n",
      "            \"inner_error\": {\n",
      "                \"code\": \"InvalidDimension\",\n",
      "                \"inner_error\": {\n",
      "                    \"code\": \"DataShapeMismatch\"\n",
      "                }\n",
      "            }\n",
      "        },\n",
      "        \"reference_code\": \"c402b6c2-3870-45a7-8745-c063bd385962\"\n",
      "    }\n",
      "}\n",
      "\n",
      "During handling of the above exception, another exception occurred:\n",
      "\n",
      "Traceback (most recent call last):\n",
      "  File \"/azureml-envs/azureml_0f14c2b7e4f2834136bd28a917e78d86/lib/python3.6/site-packages/flask/app.py\", line 1832, in full_dispatch_request\n",
      "    rv = self.dispatch_request()\n",
      "  File \"/azureml-envs/azureml_0f14c2b7e4f2834136bd28a917e78d86/lib/python3.6/site-packages/flask/app.py\", line 1818, in dispatch_request\n",
      "    return self.view_functions[rule.endpoint](**req.view_args)\n",
      "  File \"/var/azureml-server/synchronous/routes.py\", line 44, in score_realtime\n",
      "    return run_scoring(service_input, request.headers, request.environ.get('REQUEST_ID', '00000000-0000-0000-0000-000000000000'))\n",
      "  File \"/var/azureml-server/synchronous/routes.py\", line 74, in run_scoring\n",
      "    raise RunFunctionException(str(exc))\n",
      "run_function_exception.RunFunctionException\n",
      "\n",
      "2021-07-27 02:43:12,285 | root | INFO | 500\n",
      "127.0.0.1 - - [27/Jul/2021:02:43:12 +0000] \"POST /score HTTP/1.0\" 500 833 \"-\" \"python-requests/2.25.1\"\n",
      "2021-07-27 02:44:01,761 | root | INFO | Scoring Timer is set to 60.0 seconds\n",
      "2021-07-27 02:44:01,778 | root | ERROR | Encountered Exception: Traceback (most recent call last):\n",
      "  File \"/var/azureml-server/synchronous/routes.py\", line 65, in run_scoring\n",
      "    response, time_taken_ms = invoke_user_with_timer(service_input, request_headers)\n",
      "  File \"/var/azureml-server/synchronous/routes.py\", line 110, in invoke_user_with_timer\n",
      "    result, time_taken_ms = capture_time_taken(user_main.run)(**params)\n",
      "  File \"/var/azureml-server/synchronous/routes.py\", line 92, in timer\n",
      "    result = func(*args, **kwargs)\n",
      "  File \"/var/azureml-app/main.py\", line 21, in run\n",
      "    return_obj = driver_module.run(**arguments)\n",
      "  File \"/var/azureml-app/score.py\", line 20, in run\n",
      "    y_hat = model.predict(data)\n",
      "  File \"/azureml-envs/azureml_0f14c2b7e4f2834136bd28a917e78d86/lib/python3.6/site-packages/azureml/automl/runtime/shared/model_wrappers.py\", line 4276, in predict\n",
      "    return self.y_transformer.inverse_transform(self.pipeline.predict(X))\n",
      "  File \"/azureml-envs/azureml_0f14c2b7e4f2834136bd28a917e78d86/lib/python3.6/site-packages/sklearn/utils/metaestimators.py\", line 116, in <lambda>\n",
      "    out = lambda *args, **kwargs: self.fn(obj, *args, **kwargs)\n",
      "  File \"/azureml-envs/azureml_0f14c2b7e4f2834136bd28a917e78d86/lib/python3.6/site-packages/sklearn/pipeline.py\", line 419, in predict\n",
      "    Xt = transform.transform(Xt)\n",
      "  File \"/azureml-envs/azureml_0f14c2b7e4f2834136bd28a917e78d86/lib/python3.6/site-packages/azureml/automl/core/shared/logging_utilities.py\", line 305, in debug_log_wrapped\n",
      "    r = f(self, *args, **kwargs)\n",
      "  File \"/azureml-envs/azureml_0f14c2b7e4f2834136bd28a917e78d86/lib/python3.6/site-packages/azureml/automl/runtime/featurization/data_transformer.py\", line 413, in transform\n",
      "    df, self._columns_types_mapping\n",
      "  File \"/azureml-envs/azureml_0f14c2b7e4f2834136bd28a917e78d86/lib/python3.6/site-packages/azureml/automl/runtime/featurization/data_transformer.py\", line 688, in _check_columns_names_and_convert_types\n",
      "    reference_code=ReferenceCodes._DATA_TRANSFORMER_TRANSFROM_WRONG_COLUMN,\n",
      "azureml.automl.core.shared.exceptions.DataException: DataException:\n",
      "\tMessage: The number of features in [fitted data](4) does not match with those in [input data](1). Please inspect your data, and make sure that features are aligned in both the Datasets.\n",
      "\tInnerException: None\n",
      "\tErrorResponse \n",
      "{\n",
      "    \"error\": {\n",
      "        \"code\": \"UserError\",\n",
      "        \"message\": \"The number of features in [fitted data](4) does not match with those in [input data](1). Please inspect your data, and make sure that features are aligned in both the Datasets.\",\n",
      "        \"target\": \"X\",\n",
      "        \"inner_error\": {\n",
      "            \"code\": \"BadData\",\n",
      "            \"inner_error\": {\n",
      "                \"code\": \"InvalidDimension\",\n",
      "                \"inner_error\": {\n",
      "                    \"code\": \"DataShapeMismatch\"\n",
      "                }\n",
      "            }\n",
      "        },\n",
      "        \"reference_code\": \"c402b6c2-3870-45a7-8745-c063bd385962\"\n",
      "    }\n",
      "}\n",
      "\n",
      "During handling of the above exception, another exception occurred:\n",
      "\n",
      "Traceback (most recent call last):\n",
      "  File \"/azureml-envs/azureml_0f14c2b7e4f2834136bd28a917e78d86/lib/python3.6/site-packages/flask/app.py\", line 1832, in full_dispatch_request\n",
      "    rv = self.dispatch_request()\n",
      "  File \"/azureml-envs/azureml_0f14c2b7e4f2834136bd28a917e78d86/lib/python3.6/site-packages/flask/app.py\", line 1818, in dispatch_request\n",
      "    return self.view_functions[rule.endpoint](**req.view_args)\n",
      "  File \"/var/azureml-server/synchronous/routes.py\", line 44, in score_realtime\n",
      "    return run_scoring(service_input, request.headers, request.environ.get('REQUEST_ID', '00000000-0000-0000-0000-000000000000'))\n",
      "  File \"/var/azureml-server/synchronous/routes.py\", line 74, in run_scoring\n",
      "    raise RunFunctionException(str(exc))\n",
      "run_function_exception.RunFunctionException\n",
      "\n",
      "2021-07-27 02:44:01,780 | root | INFO | 500\n",
      "127.0.0.1 - - [27/Jul/2021:02:44:01 +0000] \"POST /score HTTP/1.0\" 500 833 \"-\" \"python-requests/2.25.1\"\n",
      "2021-07-27 02:44:19,641 | root | INFO | Scoring Timer is set to 60.0 seconds\n",
      "2021-07-27 02:44:19,643 | root | ERROR | Encountered Exception: Traceback (most recent call last):\n",
      "  File \"/var/azureml-server/synchronous/routes.py\", line 65, in run_scoring\n",
      "    response, time_taken_ms = invoke_user_with_timer(service_input, request_headers)\n",
      "  File \"/var/azureml-server/synchronous/routes.py\", line 110, in invoke_user_with_timer\n",
      "    result, time_taken_ms = capture_time_taken(user_main.run)(**params)\n",
      "  File \"/var/azureml-server/synchronous/routes.py\", line 92, in timer\n",
      "    result = func(*args, **kwargs)\n",
      "  File \"/var/azureml-app/main.py\", line 21, in run\n",
      "    return_obj = driver_module.run(**arguments)\n",
      "  File \"/var/azureml-app/score.py\", line 18, in run\n",
      "    data = np.array(json.loads(raw_data)['data'])\n",
      "KeyError: 'data'\n",
      "\n",
      "During handling of the above exception, another exception occurred:\n",
      "\n",
      "Traceback (most recent call last):\n",
      "  File \"/azureml-envs/azureml_0f14c2b7e4f2834136bd28a917e78d86/lib/python3.6/site-packages/flask/app.py\", line 1832, in full_dispatch_request\n",
      "    rv = self.dispatch_request()\n",
      "  File \"/azureml-envs/azureml_0f14c2b7e4f2834136bd28a917e78d86/lib/python3.6/site-packages/flask/app.py\", line 1818, in dispatch_request\n",
      "    return self.view_functions[rule.endpoint](**req.view_args)\n",
      "  File \"/var/azureml-server/synchronous/routes.py\", line 44, in score_realtime\n",
      "    return run_scoring(service_input, request.headers, request.environ.get('REQUEST_ID', '00000000-0000-0000-0000-000000000000'))\n",
      "  File \"/var/azureml-server/synchronous/routes.py\", line 74, in run_scoring\n",
      "    raise RunFunctionException(str(exc))\n",
      "run_function_exception.RunFunctionException\n",
      "\n",
      "2021-07-27 02:44:19,643 | root | INFO | 500\n",
      "127.0.0.1 - - [27/Jul/2021:02:44:19 +0000] \"POST /score HTTP/1.0\" 500 6 \"-\" \"python-requests/2.25.1\"\n",
      "2021-07-27 02:44:35,037 | root | INFO | Scoring Timer is set to 60.0 seconds\n",
      "2021-07-27 02:44:35,038 | root | ERROR | Encountered Exception: Traceback (most recent call last):\n",
      "  File \"/var/azureml-server/synchronous/routes.py\", line 65, in run_scoring\n",
      "    response, time_taken_ms = invoke_user_with_timer(service_input, request_headers)\n",
      "  File \"/var/azureml-server/synchronous/routes.py\", line 110, in invoke_user_with_timer\n",
      "    result, time_taken_ms = capture_time_taken(user_main.run)(**params)\n",
      "  File \"/var/azureml-server/synchronous/routes.py\", line 92, in timer\n",
      "    result = func(*args, **kwargs)\n",
      "  File \"/var/azureml-app/main.py\", line 21, in run\n",
      "    return_obj = driver_module.run(**arguments)\n",
      "  File \"/var/azureml-app/score.py\", line 18, in run\n",
      "    data = np.array(json.loads(raw_data)['data'])\n",
      "KeyError: 'data'\n",
      "\n",
      "During handling of the above exception, another exception occurred:\n",
      "\n",
      "Traceback (most recent call last):\n",
      "  File \"/azureml-envs/azureml_0f14c2b7e4f2834136bd28a917e78d86/lib/python3.6/site-packages/flask/app.py\", line 1832, in full_dispatch_request\n",
      "    rv = self.dispatch_request()\n",
      "  File \"/azureml-envs/azureml_0f14c2b7e4f2834136bd28a917e78d86/lib/python3.6/site-packages/flask/app.py\", line 1818, in dispatch_request\n",
      "    return self.view_functions[rule.endpoint](**req.view_args)\n",
      "  File \"/var/azureml-server/synchronous/routes.py\", line 44, in score_realtime\n",
      "    return run_scoring(service_input, request.headers, request.environ.get('REQUEST_ID', '00000000-0000-0000-0000-000000000000'))\n",
      "  File \"/var/azureml-server/synchronous/routes.py\", line 74, in run_scoring\n",
      "    raise RunFunctionException(str(exc))\n",
      "run_function_exception.RunFunctionException\n",
      "\n",
      "2021-07-27 02:44:35,039 | root | INFO | 500\n",
      "127.0.0.1 - - [27/Jul/2021:02:44:35 +0000] \"POST /score HTTP/1.0\" 500 6 \"-\" \"python-requests/2.25.1\"\n",
      "2021-07-27 02:44:49,011 | root | INFO | Scoring Timer is set to 60.0 seconds\n",
      "2021-07-27 02:44:49,013 | root | ERROR | Encountered Exception: Traceback (most recent call last):\n",
      "  File \"/var/azureml-server/synchronous/routes.py\", line 65, in run_scoring\n",
      "    response, time_taken_ms = invoke_user_with_timer(service_input, request_headers)\n",
      "  File \"/var/azureml-server/synchronous/routes.py\", line 110, in invoke_user_with_timer\n",
      "    result, time_taken_ms = capture_time_taken(user_main.run)(**params)\n",
      "  File \"/var/azureml-server/synchronous/routes.py\", line 92, in timer\n",
      "    result = func(*args, **kwargs)\n",
      "  File \"/var/azureml-app/main.py\", line 21, in run\n",
      "    return_obj = driver_module.run(**arguments)\n",
      "  File \"/var/azureml-app/score.py\", line 18, in run\n",
      "    data = np.array(json.loads(raw_data)['data'])\n",
      "KeyError: 'data'\n",
      "\n",
      "During handling of the above exception, another exception occurred:\n",
      "\n",
      "Traceback (most recent call last):\n",
      "  File \"/azureml-envs/azureml_0f14c2b7e4f2834136bd28a917e78d86/lib/python3.6/site-packages/flask/app.py\", line 1832, in full_dispatch_request\n",
      "    rv = self.dispatch_request()\n",
      "  File \"/azureml-envs/azureml_0f14c2b7e4f2834136bd28a917e78d86/lib/python3.6/site-packages/flask/app.py\", line 1818, in dispatch_request\n",
      "    return self.view_functions[rule.endpoint](**req.view_args)\n",
      "  File \"/var/azureml-server/synchronous/routes.py\", line 44, in score_realtime\n",
      "    return run_scoring(service_input, request.headers, request.environ.get('REQUEST_ID', '00000000-0000-0000-0000-000000000000'))\n",
      "  File \"/var/azureml-server/synchronous/routes.py\", line 74, in run_scoring\n",
      "    raise RunFunctionException(str(exc))\n",
      "run_function_exception.RunFunctionException\n",
      "\n",
      "2021-07-27 02:44:49,014 | root | INFO | 500\n",
      "127.0.0.1 - - [27/Jul/2021:02:44:49 +0000] \"POST /score HTTP/1.0\" 500 6 \"-\" \"python-requests/2.25.1\"\n",
      "\n"
     ]
    }
   ],
   "source": [
    "print(service.get_logs())"
   ]
  },
  {
   "cell_type": "code",
   "execution_count": null,
   "metadata": {
    "collapsed": false,
    "jupyter": {
     "outputs_hidden": false,
     "source_hidden": false
    },
    "nteract": {
     "transient": {
      "deleting": false
     }
    }
   },
   "outputs": [],
   "source": [
    "service.delete()"
   ]
  },
  {
   "cell_type": "code",
   "execution_count": null,
   "metadata": {},
   "outputs": [],
   "source": [
    "compute_target.delete()"
   ]
  }
 ],
 "metadata": {
  "kernel_info": {
   "name": "python3-azureml"
  },
  "kernelspec": {
   "display_name": "Python 3",
   "language": "python",
   "name": "python3"
  },
  "language_info": {
   "codemirror_mode": {
    "name": "ipython",
    "version": 3
   },
   "file_extension": ".py",
   "mimetype": "text/x-python",
   "name": "python",
   "nbconvert_exporter": "python",
   "pygments_lexer": "ipython3",
   "version": "3.6.9"
  },
  "nteract": {
   "version": "nteract-front-end@1.0.0"
  }
 },
 "nbformat": 4,
 "nbformat_minor": 4
}
