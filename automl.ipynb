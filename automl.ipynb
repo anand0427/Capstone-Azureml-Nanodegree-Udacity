{
 "cells": [
  {
   "cell_type": "markdown",
   "metadata": {},
   "source": [
    "# Automated ML\n",
    "\n",
    "TODO: Import Dependencies. In the cell below, import all the dependencies that you will need to complete the project."
   ]
  },
  {
   "cell_type": "code",
   "execution_count": 1,
   "metadata": {
    "collapsed": false,
    "gather": {
     "logged": 1598423888013
    },
    "jupyter": {
     "outputs_hidden": false,
     "source_hidden": false
    },
    "nteract": {
     "transient": {
      "deleting": false
     }
    }
   },
   "outputs": [],
   "source": [
    "from azureml.core.experiment import Experiment\n",
    "from azureml.core.workspace import Workspace\n",
    "from azureml.train.automl import AutoMLConfig\n",
    "\n",
    "from azureml.core.compute import AmlCompute\n",
    "from azureml.core.compute import ComputeTarget\n",
    "from azureml.core.dataset import Dataset\n",
    "from azureml.core import Environment\n",
    "\n",
    "# deployment\n",
    "from azureml.core.webservice import AciWebservice\n",
    "from azureml.core.model import Model\n",
    "from azureml.core.model import InferenceConfig\n",
    "import json, requests"
   ]
  },
  {
   "cell_type": "markdown",
   "metadata": {},
   "source": [
    "## Dataset\n",
    "\n",
    "### Overview\n",
    "TODO: In this markdown cell, give an overview of the dataset you are using. Also mention the task you will be performing.\n",
    "\n",
    "\n",
    "TODO: Get data. In the cell below, write code to access the data you will be using in this project. Remember that the dataset needs to be external."
   ]
  },
  {
   "cell_type": "code",
   "execution_count": 2,
   "metadata": {
    "collapsed": false,
    "gather": {
     "logged": 1598423890461
    },
    "jupyter": {
     "outputs_hidden": false,
     "source_hidden": false
    },
    "nteract": {
     "transient": {
      "deleting": false
     }
    }
   },
   "outputs": [
    {
     "data": {
      "text/html": [
       "<table style=\"width:100%\"><tr><th>Name</th><th>Workspace</th><th>Report Page</th><th>Docs Page</th></tr><tr><td>automl-model</td><td>quick-starts-ws-153057</td><td><a href=\"https://ml.azure.com/experiments/id/ab7701ca-dc8f-4698-8371-6531260a01dc?wsid=/subscriptions/61c5c3f0-6dc7-4ed9-a7f3-c704b20e3b30/resourcegroups/aml-quickstarts-153057/workspaces/quick-starts-ws-153057&amp;tid=660b3398-b80e-49d2-bc5b-ac1dc93b5254\" target=\"_blank\" rel=\"noopener\">Link to Azure Machine Learning studio</a></td><td><a href=\"https://docs.microsoft.com/en-us/python/api/azureml-core/azureml.core.experiment.Experiment?view=azure-ml-py\" target=\"_blank\" rel=\"noopener\">Link to Documentation</a></td></tr></table>"
      ],
      "text/plain": [
       "Experiment(Name: automl-model,\n",
       "Workspace: quick-starts-ws-153057)"
      ]
     },
     "execution_count": 2,
     "metadata": {},
     "output_type": "execute_result"
    }
   ],
   "source": [
    "ws = Workspace.from_config()\n",
    "\n",
    "# choose a name for experiment\n",
    "experiment_name = 'automl-model'\n",
    "project_folder = './iris-classification-project-3'\n",
    "experiment=Experiment(ws, experiment_name)\n",
    "experiment"
   ]
  },
  {
   "cell_type": "code",
   "execution_count": 3,
   "metadata": {},
   "outputs": [
    {
     "name": "stdout",
     "output_type": "stream",
     "text": [
      "\n",
      "Running\n"
     ]
    }
   ],
   "source": [
    "# get compute target\n",
    "amlcompute_name = 'notebook153057'\n",
    "\n",
    "compute_target = ComputeTarget(workspace=ws, name=amlcompute_name)\n",
    "compute_target.wait_for_completion(show_output=True)"
   ]
  },
  {
   "cell_type": "code",
   "execution_count": 4,
   "metadata": {},
   "outputs": [
    {
     "data": {
      "text/html": [
       "<div>\n",
       "<style scoped>\n",
       "    .dataframe tbody tr th:only-of-type {\n",
       "        vertical-align: middle;\n",
       "    }\n",
       "\n",
       "    .dataframe tbody tr th {\n",
       "        vertical-align: top;\n",
       "    }\n",
       "\n",
       "    .dataframe thead th {\n",
       "        text-align: right;\n",
       "    }\n",
       "</style>\n",
       "<table border=\"1\" class=\"dataframe\">\n",
       "  <thead>\n",
       "    <tr style=\"text-align: right;\">\n",
       "      <th></th>\n",
       "      <th>Column1</th>\n",
       "      <th>Column2</th>\n",
       "      <th>Column3</th>\n",
       "      <th>Column4</th>\n",
       "      <th>Column5</th>\n",
       "    </tr>\n",
       "  </thead>\n",
       "  <tbody>\n",
       "    <tr>\n",
       "      <th>0</th>\n",
       "      <td>5.1</td>\n",
       "      <td>3.5</td>\n",
       "      <td>1.4</td>\n",
       "      <td>0.2</td>\n",
       "      <td>Iris-setosa</td>\n",
       "    </tr>\n",
       "    <tr>\n",
       "      <th>1</th>\n",
       "      <td>4.9</td>\n",
       "      <td>3.0</td>\n",
       "      <td>1.4</td>\n",
       "      <td>0.2</td>\n",
       "      <td>Iris-setosa</td>\n",
       "    </tr>\n",
       "    <tr>\n",
       "      <th>2</th>\n",
       "      <td>4.7</td>\n",
       "      <td>3.2</td>\n",
       "      <td>1.3</td>\n",
       "      <td>0.2</td>\n",
       "      <td>Iris-setosa</td>\n",
       "    </tr>\n",
       "    <tr>\n",
       "      <th>3</th>\n",
       "      <td>4.6</td>\n",
       "      <td>3.1</td>\n",
       "      <td>1.5</td>\n",
       "      <td>0.2</td>\n",
       "      <td>Iris-setosa</td>\n",
       "    </tr>\n",
       "    <tr>\n",
       "      <th>4</th>\n",
       "      <td>5.0</td>\n",
       "      <td>3.6</td>\n",
       "      <td>1.4</td>\n",
       "      <td>0.2</td>\n",
       "      <td>Iris-setosa</td>\n",
       "    </tr>\n",
       "  </tbody>\n",
       "</table>\n",
       "</div>"
      ],
      "text/plain": [
       "   Column1  Column2  Column3  Column4      Column5\n",
       "0      5.1      3.5      1.4      0.2  Iris-setosa\n",
       "1      4.9      3.0      1.4      0.2  Iris-setosa\n",
       "2      4.7      3.2      1.3      0.2  Iris-setosa\n",
       "3      4.6      3.1      1.5      0.2  Iris-setosa\n",
       "4      5.0      3.6      1.4      0.2  Iris-setosa"
      ]
     },
     "execution_count": 4,
     "metadata": {},
     "output_type": "execute_result"
    }
   ],
   "source": [
    "#get data from kaggle for titanic csv\n",
    "example_data = 'https://archive.ics.uci.edu/ml/machine-learning-databases/iris/iris.data'\n",
    "dataset = Dataset.Tabular.from_delimited_files(example_data, header=False)        \n",
    "#Register Dataset in Workspace\n",
    "dataset = dataset.register(workspace=ws,\n",
    "                                   name=\"Iris Classification\",\n",
    "                                   description=\"Classification problem for iris species\")\n",
    "\n",
    "\n",
    "df = dataset.to_pandas_dataframe()\n",
    "df.head()"
   ]
  },
  {
   "cell_type": "code",
   "execution_count": 5,
   "metadata": {},
   "outputs": [
    {
     "data": {
      "text/plain": [
       "array(['Iris-setosa', 'Iris-versicolor', 'Iris-virginica'], dtype=object)"
      ]
     },
     "execution_count": 5,
     "metadata": {},
     "output_type": "execute_result"
    }
   ],
   "source": [
    "df[\"Column5\"].unique()"
   ]
  },
  {
   "cell_type": "markdown",
   "metadata": {},
   "source": [
    "## AutoML Configuration\n",
    "\n",
    "TODO: Explain why you chose the automl settings and cofiguration you used below."
   ]
  },
  {
   "cell_type": "code",
   "execution_count": 6,
   "metadata": {
    "collapsed": false,
    "gather": {
     "logged": 1598429217746
    },
    "jupyter": {
     "outputs_hidden": false,
     "source_hidden": false
    },
    "nteract": {
     "transient": {
      "deleting": false
     }
    }
   },
   "outputs": [],
   "source": [
    "# TODO: Put your automl settings here\n",
    "automl_settings = {\n",
    "    \"experiment_timeout_minutes\":20,\n",
    "    \"max_concurrent_iterations\":4,\n",
    "    \"primary_metric\":'AUC_weighted'\n",
    "}\n",
    "\n",
    "# TODO: Put your automl config here\n",
    "automl_config = AutoMLConfig(\n",
    "                            compute_target=compute_target,\n",
    "                             task = \"classification\",\n",
    "                             training_data=dataset,\n",
    "                             label_column_name=\"Column5\",   \n",
    "                             path = project_folder,\n",
    "                             enable_early_stopping= True,\n",
    "                             featurization= 'auto',\n",
    "                             debug_log = \"automl_errors.log\",\n",
    "                             **automl_settings\n",
    "    )"
   ]
  },
  {
   "cell_type": "code",
   "execution_count": 7,
   "metadata": {
    "collapsed": false,
    "gather": {
     "logged": 1598431107951
    },
    "jupyter": {
     "outputs_hidden": false,
     "source_hidden": false
    },
    "nteract": {
     "transient": {
      "deleting": false
     }
    }
   },
   "outputs": [
    {
     "name": "stdout",
     "output_type": "stream",
     "text": [
      "Submitting remote run.\n"
     ]
    },
    {
     "data": {
      "text/html": [
       "<table style=\"width:100%\"><tr><th>Experiment</th><th>Id</th><th>Type</th><th>Status</th><th>Details Page</th><th>Docs Page</th></tr><tr><td>automl-model</td><td>AutoML_caf261ae-59c9-46ec-8f48-a0d74b5ddd7d</td><td>automl</td><td>NotStarted</td><td><a href=\"https://ml.azure.com/runs/AutoML_caf261ae-59c9-46ec-8f48-a0d74b5ddd7d?wsid=/subscriptions/61c5c3f0-6dc7-4ed9-a7f3-c704b20e3b30/resourcegroups/aml-quickstarts-153057/workspaces/quick-starts-ws-153057&amp;tid=660b3398-b80e-49d2-bc5b-ac1dc93b5254\" target=\"_blank\" rel=\"noopener\">Link to Azure Machine Learning studio</a></td><td><a href=\"https://docs.microsoft.com/en-us/python/api/overview/azure/ml/intro?view=azure-ml-py\" target=\"_blank\" rel=\"noopener\">Link to Documentation</a></td></tr></table>"
      ],
      "text/plain": [
       "<IPython.core.display.HTML object>"
      ]
     },
     "metadata": {},
     "output_type": "display_data"
    }
   ],
   "source": [
    "# TODO: Submit your experiment\n",
    "remote_run = experiment.submit(automl_config)"
   ]
  },
  {
   "cell_type": "markdown",
   "metadata": {},
   "source": [
    "## Run Details\n",
    "\n",
    "OPTIONAL: Write about the different models trained and their performance. Why do you think some models did better than others?\n",
    "\n",
    "TODO: In the cell below, use the `RunDetails` widget to show the different experiments."
   ]
  },
  {
   "cell_type": "code",
   "execution_count": 8,
   "metadata": {
    "collapsed": false,
    "gather": {
     "logged": 1598431121770
    },
    "jupyter": {
     "outputs_hidden": false,
     "source_hidden": false
    },
    "nteract": {
     "transient": {
      "deleting": false
     }
    }
   },
   "outputs": [
    {
     "data": {
      "application/vnd.jupyter.widget-view+json": {
       "model_id": "59aafd3368154dfa8e886bdc36e197cc",
       "version_major": 2,
       "version_minor": 0
      },
      "text/plain": [
       "_AutoMLWidget(widget_settings={'childWidgetDisplay': 'popup', 'send_telemetry': False, 'log_level': 'INFO', 's…"
      ]
     },
     "metadata": {},
     "output_type": "display_data"
    },
    {
     "data": {
      "application/aml.mini.widget.v1": "{\"status\": \"Completed\", \"workbench_run_details_uri\": \"https://ml.azure.com/runs/AutoML_caf261ae-59c9-46ec-8f48-a0d74b5ddd7d?wsid=/subscriptions/61c5c3f0-6dc7-4ed9-a7f3-c704b20e3b30/resourcegroups/aml-quickstarts-153057/workspaces/quick-starts-ws-153057&tid=660b3398-b80e-49d2-bc5b-ac1dc93b5254\", \"run_id\": \"AutoML_caf261ae-59c9-46ec-8f48-a0d74b5ddd7d\", \"run_properties\": {\"run_id\": \"AutoML_caf261ae-59c9-46ec-8f48-a0d74b5ddd7d\", \"created_utc\": \"2021-07-30T21:16:09.313312Z\", \"properties\": {\"num_iterations\": \"1000\", \"training_type\": \"TrainFull\", \"acquisition_function\": \"EI\", \"primary_metric\": \"AUC_weighted\", \"train_split\": \"0\", \"acquisition_parameter\": \"0\", \"num_cross_validation\": null, \"target\": \"notebook153057\", \"AMLSettingsJsonString\": \"{\\\"path\\\":null,\\\"name\\\":\\\"automl-model\\\",\\\"subscription_id\\\":\\\"61c5c3f0-6dc7-4ed9-a7f3-c704b20e3b30\\\",\\\"resource_group\\\":\\\"aml-quickstarts-153057\\\",\\\"workspace_name\\\":\\\"quick-starts-ws-153057\\\",\\\"region\\\":\\\"southcentralus\\\",\\\"compute_target\\\":\\\"notebook153057\\\",\\\"spark_service\\\":null,\\\"azure_service\\\":\\\"remote\\\",\\\"many_models\\\":false,\\\"pipeline_fetch_max_batch_size\\\":1,\\\"enable_batch_run\\\":false,\\\"enable_run_restructure\\\":false,\\\"start_auxiliary_runs_before_parent_complete\\\":false,\\\"enable_code_generation\\\":false,\\\"iterations\\\":1000,\\\"primary_metric\\\":\\\"AUC_weighted\\\",\\\"task_type\\\":\\\"classification\\\",\\\"data_script\\\":null,\\\"test_size\\\":0.0,\\\"validation_size\\\":0.0,\\\"n_cross_validations\\\":null,\\\"y_min\\\":null,\\\"y_max\\\":null,\\\"num_classes\\\":null,\\\"featurization\\\":\\\"auto\\\",\\\"_ignore_package_version_incompatibilities\\\":false,\\\"is_timeseries\\\":false,\\\"max_cores_per_iteration\\\":1,\\\"max_concurrent_iterations\\\":4,\\\"iteration_timeout_minutes\\\":null,\\\"mem_in_mb\\\":null,\\\"enforce_time_on_windows\\\":false,\\\"experiment_timeout_minutes\\\":20,\\\"experiment_exit_score\\\":null,\\\"whitelist_models\\\":null,\\\"blacklist_algos\\\":[\\\"TensorFlowLinearClassifier\\\",\\\"TensorFlowDNN\\\"],\\\"supported_models\\\":[\\\"BernoulliNaiveBayes\\\",\\\"DecisionTree\\\",\\\"LightGBM\\\",\\\"AveragedPerceptronClassifier\\\",\\\"XGBoostClassifier\\\",\\\"SGD\\\",\\\"SVM\\\",\\\"ExtremeRandomTrees\\\",\\\"GradientBoosting\\\",\\\"TensorFlowDNN\\\",\\\"RandomForest\\\",\\\"LinearSVM\\\",\\\"LogisticRegression\\\",\\\"KNN\\\",\\\"MultinomialNaiveBayes\\\",\\\"TensorFlowLinearClassifier\\\"],\\\"private_models\\\":[],\\\"auto_blacklist\\\":true,\\\"blacklist_samples_reached\\\":false,\\\"exclude_nan_labels\\\":true,\\\"verbosity\\\":20,\\\"_debug_log\\\":\\\"azureml_automl.log\\\",\\\"show_warnings\\\":false,\\\"model_explainability\\\":true,\\\"service_url\\\":null,\\\"sdk_url\\\":null,\\\"sdk_packages\\\":null,\\\"enable_onnx_compatible_models\\\":false,\\\"enable_split_onnx_featurizer_estimator_models\\\":false,\\\"vm_type\\\":\\\"STANDARD_DS3_V2\\\",\\\"telemetry_verbosity\\\":20,\\\"send_telemetry\\\":true,\\\"enable_dnn\\\":false,\\\"scenario\\\":\\\"SDK-1.13.0\\\",\\\"environment_label\\\":null,\\\"save_mlflow\\\":false,\\\"force_text_dnn\\\":false,\\\"enable_feature_sweeping\\\":true,\\\"enable_early_stopping\\\":true,\\\"early_stopping_n_iters\\\":10,\\\"metrics\\\":null,\\\"enable_metric_confidence\\\":false,\\\"enable_ensembling\\\":true,\\\"enable_stack_ensembling\\\":true,\\\"ensemble_iterations\\\":15,\\\"enable_tf\\\":false,\\\"enable_subsampling\\\":null,\\\"subsample_seed\\\":null,\\\"enable_nimbusml\\\":false,\\\"enable_streaming\\\":false,\\\"force_streaming\\\":false,\\\"track_child_runs\\\":true,\\\"allowed_private_models\\\":[],\\\"label_column_name\\\":\\\"Column5\\\",\\\"weight_column_name\\\":null,\\\"cv_split_column_names\\\":null,\\\"enable_local_managed\\\":false,\\\"_local_managed_run_id\\\":null,\\\"cost_mode\\\":1,\\\"lag_length\\\":0,\\\"metric_operation\\\":\\\"maximize\\\",\\\"preprocess\\\":true}\", \"DataPrepJsonString\": \"{\\\\\\\"training_data\\\\\\\": {\\\\\\\"datasetId\\\\\\\": \\\\\\\"045ebe75-7207-493c-b435-bad6a7bf0b49\\\\\\\"}, \\\\\\\"datasets\\\\\\\": 0}\", \"EnableSubsampling\": null, \"runTemplate\": \"AutoML\", \"azureml.runsource\": \"automl\", \"display_task_type\": \"classification\", \"dependencies_versions\": \"{\\\"azureml-widgets\\\": \\\"1.31.0\\\", \\\"azureml-train\\\": \\\"1.31.0\\\", \\\"azureml-train-restclients-hyperdrive\\\": \\\"1.31.0\\\", \\\"azureml-train-core\\\": \\\"1.31.0\\\", \\\"azureml-train-automl\\\": \\\"1.31.0\\\", \\\"azureml-train-automl-runtime\\\": \\\"1.31.0\\\", \\\"azureml-train-automl-client\\\": \\\"1.31.0\\\", \\\"azureml-tensorboard\\\": \\\"1.31.0\\\", \\\"azureml-telemetry\\\": \\\"1.31.0\\\", \\\"azureml-sdk\\\": \\\"1.31.0\\\", \\\"azureml-samples\\\": \\\"0+unknown\\\", \\\"azureml-responsibleai\\\": \\\"1.31.0\\\", \\\"azureml-pipeline\\\": \\\"1.31.0\\\", \\\"azureml-pipeline-steps\\\": \\\"1.31.0\\\", \\\"azureml-pipeline-core\\\": \\\"1.31.0\\\", \\\"azureml-opendatasets\\\": \\\"1.31.0\\\", \\\"azureml-model-management-sdk\\\": \\\"1.0.1b6.post1\\\", \\\"azureml-mlflow\\\": \\\"1.31.0\\\", \\\"azureml-interpret\\\": \\\"1.31.0\\\", \\\"azureml-explain-model\\\": \\\"1.31.0\\\", \\\"azureml-defaults\\\": \\\"1.31.0\\\", \\\"azureml-dataset-runtime\\\": \\\"1.31.0\\\", \\\"azureml-dataprep\\\": \\\"2.18.0\\\", \\\"azureml-dataprep-rslex\\\": \\\"1.16.1\\\", \\\"azureml-dataprep-native\\\": \\\"36.0.0\\\", \\\"azureml-datadrift\\\": \\\"1.31.0\\\", \\\"azureml-core\\\": \\\"1.31.0\\\", \\\"azureml-contrib-services\\\": \\\"1.31.0\\\", \\\"azureml-contrib-server\\\": \\\"1.31.0\\\", \\\"azureml-contrib-reinforcementlearning\\\": \\\"1.31.0\\\", \\\"azureml-contrib-pipeline-steps\\\": \\\"1.31.0\\\", \\\"azureml-contrib-notebook\\\": \\\"1.31.0\\\", \\\"azureml-contrib-fairness\\\": \\\"1.31.0\\\", \\\"azureml-contrib-dataset\\\": \\\"1.31.0\\\", \\\"azureml-cli-common\\\": \\\"1.31.0\\\", \\\"azureml-automl-runtime\\\": \\\"1.31.0\\\", \\\"azureml-automl-dnn-nlp\\\": \\\"1.31.0\\\", \\\"azureml-automl-core\\\": \\\"1.31.0\\\", \\\"azureml-accel-models\\\": \\\"1.31.0\\\"}\", \"_aml_system_scenario_identification\": \"Remote.Parent\", \"ClientType\": \"SDK\", \"environment_cpu_name\": \"AzureML-AutoML\", \"environment_cpu_label\": \"prod\", \"environment_gpu_name\": \"AzureML-AutoML-GPU\", \"environment_gpu_label\": \"prod\", \"root_attribution\": \"automl\", \"attribution\": \"AutoML\", \"Orchestrator\": \"AutoML\", \"CancelUri\": \"https://southcentralus.api.azureml.ms/jasmine/v1.0/subscriptions/61c5c3f0-6dc7-4ed9-a7f3-c704b20e3b30/resourceGroups/aml-quickstarts-153057/providers/Microsoft.MachineLearningServices/workspaces/quick-starts-ws-153057/experimentids/ab7701ca-dc8f-4698-8371-6531260a01dc/cancel/AutoML_caf261ae-59c9-46ec-8f48-a0d74b5ddd7d\", \"azureml.git.repository_uri\": \"https://github.com/anand0427/Capstone-Azureml-Nanodegree-Udacity.git\", \"mlflow.source.git.repoURL\": \"https://github.com/anand0427/Capstone-Azureml-Nanodegree-Udacity.git\", \"azureml.git.branch\": \"master\", \"mlflow.source.git.branch\": \"master\", \"azureml.git.commit\": \"2569d31c9c8e5bc21f8ffddeefd2b2255e6603ba\", \"mlflow.source.git.commit\": \"2569d31c9c8e5bc21f8ffddeefd2b2255e6603ba\", \"azureml.git.dirty\": \"False\", \"ClientSdkVersion\": \"1.32.0\", \"snapshotId\": \"00000000-0000-0000-0000-000000000000\", \"SetupRunId\": \"AutoML_caf261ae-59c9-46ec-8f48-a0d74b5ddd7d_setup\", \"SetupRunContainerId\": \"dcid.AutoML_caf261ae-59c9-46ec-8f48-a0d74b5ddd7d_setup\", \"FeaturizationRunJsonPath\": \"featurizer_container.json\", \"FeaturizationRunId\": \"AutoML_caf261ae-59c9-46ec-8f48-a0d74b5ddd7d_featurize\", \"ProblemInfoJsonString\": \"{\\\"dataset_num_categorical\\\": 0, \\\"is_sparse\\\": false, \\\"subsampling\\\": false, \\\"has_extra_col\\\": true, \\\"dataset_classes\\\": 3, \\\"dataset_features\\\": 4, \\\"dataset_samples\\\": 150, \\\"single_frequency_class_detected\\\": false}\", \"ModelExplainRunId\": \"AutoML_caf261ae-59c9-46ec-8f48-a0d74b5ddd7d_ModelExplain\"}, \"tags\": {\"model_explain_run\": \"best_run\", \"_aml_system_azureml.automlComponent\": \"AutoML\", \"pipeline_id\": \"\", \"score\": \"\", \"predicted_cost\": \"\", \"fit_time\": \"\", \"training_percent\": \"\", \"iteration\": \"\", \"run_preprocessor\": \"\", \"run_algorithm\": \"\", \"automl_best_child_run_id\": \"AutoML_caf261ae-59c9-46ec-8f48-a0d74b5ddd7d_3\", \"model_explain_best_run_child_id\": \"AutoML_caf261ae-59c9-46ec-8f48-a0d74b5ddd7d_3\"}, \"end_time_utc\": \"2021-07-30T21:57:31.402879Z\", \"status\": \"Completed\", \"log_files\": {}, \"log_groups\": [], \"run_duration\": \"0:41:22\", \"run_number\": \"1\", \"run_queued_details\": {\"status\": \"Completed\", \"details\": null}}, \"child_runs\": [{\"run_id\": \"AutoML_caf261ae-59c9-46ec-8f48-a0d74b5ddd7d_0\", \"run_number\": 5, \"metric\": null, \"status\": \"Completed\", \"run_type\": \"azureml.scriptrun\", \"training_percent\": \"100\", \"start_time\": \"2021-07-30T21:30:18.605258Z\", \"end_time\": \"2021-07-30T21:36:09.710776Z\", \"created_time\": \"2021-07-30T21:30:10.459472Z\", \"created_time_dt\": \"2021-07-30T21:30:10.459472Z\", \"duration\": \"0:05:59\", \"iteration\": \"0\", \"goal\": \"AUC_weighted_max\", \"run_name\": \"MaxAbsScaler, LightGBM\", \"run_properties\": \"copy=True\", \"primary_metric\": 0.98815488, \"best_metric\": 0.98815488}, {\"run_id\": \"AutoML_caf261ae-59c9-46ec-8f48-a0d74b5ddd7d_3\", \"run_number\": 6, \"metric\": null, \"status\": \"Completed\", \"run_type\": \"azureml.scriptrun\", \"training_percent\": \"100\", \"start_time\": \"2021-07-30T21:30:18.951362Z\", \"end_time\": \"2021-07-30T21:36:07.485058Z\", \"created_time\": \"2021-07-30T21:30:10.464474Z\", \"created_time_dt\": \"2021-07-30T21:30:10.464474Z\", \"duration\": \"0:05:57\", \"iteration\": \"3\", \"goal\": \"AUC_weighted_max\", \"run_name\": \"RobustScaler, ExtremeRandomTrees\", \"run_properties\": \"copy=True, quantile_range=[10, 90], with_centering=False,\\n             with_scaling=False\", \"primary_metric\": 0.99856061, \"best_metric\": 0.99856061}, {\"run_id\": \"AutoML_caf261ae-59c9-46ec-8f48-a0d74b5ddd7d_1\", \"run_number\": 7, \"metric\": null, \"status\": \"Completed\", \"run_type\": \"azureml.scriptrun\", \"training_percent\": \"100\", \"start_time\": \"2021-07-30T21:30:21.125126Z\", \"end_time\": \"2021-07-30T21:36:22.561763Z\", \"created_time\": \"2021-07-30T21:30:10.499574Z\", \"created_time_dt\": \"2021-07-30T21:30:10.499574Z\", \"duration\": \"0:06:12\", \"iteration\": \"1\", \"goal\": \"AUC_weighted_max\", \"run_name\": \"MaxAbsScaler, XGBoostClassifier\", \"run_properties\": \"copy=True\", \"primary_metric\": 0.98712121, \"best_metric\": 0.98815488}, {\"run_id\": \"AutoML_caf261ae-59c9-46ec-8f48-a0d74b5ddd7d_2\", \"run_number\": 8, \"metric\": null, \"status\": \"Completed\", \"run_type\": \"azureml.scriptrun\", \"training_percent\": \"100\", \"start_time\": \"2021-07-30T21:30:18.986436Z\", \"end_time\": \"2021-07-30T21:36:09.19357Z\", \"created_time\": \"2021-07-30T21:30:10.503321Z\", \"created_time_dt\": \"2021-07-30T21:30:10.503321Z\", \"duration\": \"0:05:58\", \"iteration\": \"2\", \"goal\": \"AUC_weighted_max\", \"run_name\": \"MinMaxScaler, RandomForest\", \"run_properties\": \"copy=True, feature_range=(0, 1\", \"primary_metric\": 0.98635101, \"best_metric\": 0.98815488}, {\"run_id\": \"AutoML_caf261ae-59c9-46ec-8f48-a0d74b5ddd7d_4\", \"run_number\": 9, \"metric\": null, \"status\": \"Completed\", \"run_type\": \"azureml.scriptrun\", \"training_percent\": \"100\", \"start_time\": \"2021-07-30T21:36:17.944935Z\", \"end_time\": \"2021-07-30T21:42:13.158491Z\", \"created_time\": \"2021-07-30T21:36:10.096172Z\", \"created_time_dt\": \"2021-07-30T21:36:10.096172Z\", \"duration\": \"0:06:03\", \"iteration\": \"4\", \"goal\": \"AUC_weighted_max\", \"run_name\": \"MinMaxScaler, RandomForest\", \"run_properties\": \"copy=True, feature_range=(0, 1\", \"primary_metric\": 0.99656061, \"best_metric\": 0.99856061}, {\"run_id\": \"AutoML_caf261ae-59c9-46ec-8f48-a0d74b5ddd7d_5\", \"run_number\": 10, \"metric\": null, \"status\": \"Completed\", \"run_type\": \"azureml.scriptrun\", \"training_percent\": \"100\", \"start_time\": \"2021-07-30T21:36:22.683878Z\", \"end_time\": \"2021-07-30T21:42:09.338745Z\", \"created_time\": \"2021-07-30T21:36:14.920321Z\", \"created_time_dt\": \"2021-07-30T21:36:14.920321Z\", \"duration\": \"0:05:54\", \"iteration\": \"5\", \"goal\": \"AUC_weighted_max\", \"run_name\": \"MinMaxScaler, RandomForest\", \"run_properties\": \"copy=True, feature_range=(0, 1\", \"primary_metric\": 0.99390909, \"best_metric\": 0.99856061}, {\"run_id\": \"AutoML_caf261ae-59c9-46ec-8f48-a0d74b5ddd7d_6\", \"run_number\": 11, \"metric\": null, \"status\": \"Completed\", \"run_type\": \"azureml.scriptrun\", \"training_percent\": \"100\", \"start_time\": \"2021-07-30T21:36:22.604074Z\", \"end_time\": \"2021-07-30T21:42:09.471762Z\", \"created_time\": \"2021-07-30T21:36:14.985133Z\", \"created_time_dt\": \"2021-07-30T21:36:14.985133Z\", \"duration\": \"0:05:54\", \"iteration\": \"6\", \"goal\": \"AUC_weighted_max\", \"run_name\": \"StandardScalerWrapper, RandomForest\", \"run_properties\": \"\\n    copy=True,\\n    with_mean=True,\\n    with_std=False\\n\", \"primary_metric\": 0.986883, \"best_metric\": 0.99856061}, {\"run_id\": \"AutoML_caf261ae-59c9-46ec-8f48-a0d74b5ddd7d_7\", \"run_number\": 12, \"metric\": null, \"status\": \"Completed\", \"run_type\": \"azureml.scriptrun\", \"training_percent\": \"100\", \"start_time\": \"2021-07-30T21:36:32.550047Z\", \"end_time\": \"2021-07-30T21:42:19.175444Z\", \"created_time\": \"2021-07-30T21:36:25.094714Z\", \"created_time_dt\": \"2021-07-30T21:36:25.094714Z\", \"duration\": \"0:05:54\", \"iteration\": \"7\", \"goal\": \"AUC_weighted_max\", \"run_name\": \"MinMaxScaler, ExtremeRandomTrees\", \"run_properties\": \"copy=True, feature_range=(0, 1\", \"primary_metric\": 0.99722727, \"best_metric\": 0.99856061}, {\"run_id\": \"AutoML_caf261ae-59c9-46ec-8f48-a0d74b5ddd7d_8\", \"run_number\": 13, \"metric\": null, \"status\": \"Completed\", \"run_type\": \"azureml.scriptrun\", \"training_percent\": \"100\", \"start_time\": \"2021-07-30T21:42:19.466762Z\", \"end_time\": \"2021-07-30T21:48:05.936182Z\", \"created_time\": \"2021-07-30T21:42:11.930177Z\", \"created_time_dt\": \"2021-07-30T21:42:11.930177Z\", \"duration\": \"0:05:54\", \"iteration\": \"8\", \"goal\": \"AUC_weighted_max\", \"run_name\": \"MinMaxScaler, ExtremeRandomTrees\", \"run_properties\": \"copy=True, feature_range=(0, 1\", \"primary_metric\": 0.99662121, \"best_metric\": 0.99856061}, {\"run_id\": \"AutoML_caf261ae-59c9-46ec-8f48-a0d74b5ddd7d_9\", \"run_number\": 14, \"metric\": null, \"status\": \"Completed\", \"run_type\": \"azureml.scriptrun\", \"training_percent\": \"100\", \"start_time\": \"2021-07-30T21:42:21.312535Z\", \"end_time\": \"2021-07-30T21:48:08.611066Z\", \"created_time\": \"2021-07-30T21:42:11.930347Z\", \"created_time_dt\": \"2021-07-30T21:42:11.930347Z\", \"duration\": \"0:05:56\", \"iteration\": \"9\", \"goal\": \"AUC_weighted_max\", \"run_name\": \"SparseNormalizer, KNN\", \"run_properties\": \"copy=True, norm='l2'\", \"primary_metric\": 0.99180808, \"best_metric\": 0.99856061}, {\"run_id\": \"AutoML_caf261ae-59c9-46ec-8f48-a0d74b5ddd7d_10\", \"run_number\": 15, \"metric\": null, \"status\": \"Completed\", \"run_type\": \"azureml.scriptrun\", \"training_percent\": \"100\", \"start_time\": \"2021-07-30T21:42:25.564994Z\", \"end_time\": \"2021-07-30T21:48:12.043498Z\", \"created_time\": \"2021-07-30T21:42:17.644166Z\", \"created_time_dt\": \"2021-07-30T21:42:17.644166Z\", \"duration\": \"0:05:54\", \"iteration\": \"10\", \"goal\": \"AUC_weighted_max\", \"run_name\": \"MinMaxScaler, ExtremeRandomTrees\", \"run_properties\": \"copy=True, feature_range=(0, 1\", \"primary_metric\": 0.99722727, \"best_metric\": 0.99856061}, {\"run_id\": \"AutoML_caf261ae-59c9-46ec-8f48-a0d74b5ddd7d_11\", \"run_number\": 16, \"metric\": null, \"status\": \"Completed\", \"run_type\": \"azureml.scriptrun\", \"training_percent\": \"100\", \"start_time\": \"2021-07-30T21:42:29.499579Z\", \"end_time\": \"2021-07-30T21:48:17.323103Z\", \"created_time\": \"2021-07-30T21:42:21.96845Z\", \"created_time_dt\": \"2021-07-30T21:42:21.96845Z\", \"duration\": \"0:05:55\", \"iteration\": \"11\", \"goal\": \"AUC_weighted_max\", \"run_name\": \"RobustScaler, ExtremeRandomTrees\", \"run_properties\": \"copy=True, quantile_range=[10, 90], with_centering=True,\\n             with_scaling=False\", \"primary_metric\": 0.99722727, \"best_metric\": 0.99856061}, {\"run_id\": \"AutoML_caf261ae-59c9-46ec-8f48-a0d74b5ddd7d_12\", \"run_number\": 17, \"metric\": null, \"status\": \"Canceled\", \"run_type\": \"azureml.scriptrun\", \"training_percent\": \"100\", \"start_time\": \"2021-07-30T21:48:17.46691Z\", \"end_time\": \"2021-07-30T21:51:24.166887Z\", \"created_time\": \"2021-07-30T21:48:09.036814Z\", \"created_time_dt\": \"2021-07-30T21:48:09.036814Z\", \"duration\": \"0:03:15\", \"iteration\": \"12\", \"goal\": null, \"run_name\": \"Canceled\", \"run_properties\": null}, {\"run_id\": \"AutoML_caf261ae-59c9-46ec-8f48-a0d74b5ddd7d_13\", \"run_number\": 18, \"metric\": null, \"status\": \"Canceled\", \"run_type\": \"azureml.scriptrun\", \"training_percent\": \"100\", \"start_time\": \"2021-07-30T21:48:21.359817Z\", \"end_time\": \"2021-07-30T21:51:24.223083Z\", \"created_time\": \"2021-07-30T21:48:13.596802Z\", \"created_time_dt\": \"2021-07-30T21:48:13.596802Z\", \"duration\": \"0:03:10\", \"iteration\": \"13\", \"goal\": null, \"run_name\": \"Canceled\", \"run_properties\": null}, {\"run_id\": \"AutoML_caf261ae-59c9-46ec-8f48-a0d74b5ddd7d_14\", \"run_number\": 19, \"metric\": null, \"status\": \"Canceled\", \"run_type\": \"azureml.scriptrun\", \"training_percent\": \"100\", \"start_time\": \"2021-07-30T21:48:25.518734Z\", \"end_time\": \"2021-07-30T21:51:24.121806Z\", \"created_time\": \"2021-07-30T21:48:17.899734Z\", \"created_time_dt\": \"2021-07-30T21:48:17.899734Z\", \"duration\": \"0:03:06\", \"iteration\": \"14\", \"goal\": null, \"run_name\": \"Canceled\", \"run_properties\": null}, {\"run_id\": \"AutoML_caf261ae-59c9-46ec-8f48-a0d74b5ddd7d_15\", \"run_number\": 20, \"metric\": null, \"status\": \"Canceled\", \"run_type\": \"azureml.scriptrun\", \"training_percent\": \"100\", \"start_time\": \"2021-07-30T21:48:29.391452Z\", \"end_time\": \"2021-07-30T21:51:24.084413Z\", \"created_time\": \"2021-07-30T21:48:21.900523Z\", \"created_time_dt\": \"2021-07-30T21:48:21.900523Z\", \"duration\": \"0:03:02\", \"iteration\": \"15\", \"goal\": null, \"run_name\": \"Canceled\", \"run_properties\": null}, {\"run_id\": \"AutoML_caf261ae-59c9-46ec-8f48-a0d74b5ddd7d_16\", \"run_number\": 21, \"metric\": null, \"status\": \"Completed\", \"run_type\": \"azureml.scriptrun\", \"training_percent\": \"100\", \"start_time\": \"2021-07-30T21:51:33.829573Z\", \"end_time\": \"2021-07-30T21:57:29.433956Z\", \"created_time\": \"2021-07-30T21:51:25.370686Z\", \"created_time_dt\": \"2021-07-30T21:51:25.370686Z\", \"duration\": \"0:06:04\", \"iteration\": \"16\", \"goal\": \"AUC_weighted_max\", \"run_name\": \"VotingEnsemble\", \"run_properties\": \"\\n    estimators=[('3', Pipeline(memory=None,\\n             steps=[('robustscaler',\\n                     RobustScaler(copy=True, quantile_range=[10, 90],\\n                                  with_centering=False, with_scaling=False\", \"primary_metric\": 0.99856061, \"best_metric\": 0.99856061}, {\"run_id\": \"AutoML_caf261ae-59c9-46ec-8f48-a0d74b5ddd7d_17\", \"run_number\": 22, \"metric\": null, \"status\": \"Completed\", \"run_type\": \"azureml.scriptrun\", \"training_percent\": \"100\", \"start_time\": \"2021-07-30T21:51:33.778004Z\", \"end_time\": \"2021-07-30T21:57:28.334254Z\", \"created_time\": \"2021-07-30T21:51:25.400566Z\", \"created_time_dt\": \"2021-07-30T21:51:25.400566Z\", \"duration\": \"0:06:02\", \"iteration\": \"17\", \"goal\": \"AUC_weighted_max\", \"run_name\": \"StackEnsemble\", \"run_properties\": \"\\n    base_learners=[('3', Pipeline(memory=None,\\n             steps=[('robustscaler',\\n                     RobustScaler(copy=True, quantile_range=[10, 90],\\n                                  with_centering=False, with_scaling=False\", \"primary_metric\": 0.99856061, \"best_metric\": 0.99856061}], \"children_metrics\": {\"categories\": [0], \"series\": {\"recall_score_macro\": [{\"categories\": [\"0\", \"1\", \"2\", \"3\", \"4\", \"5\", \"6\", \"7\", \"8\", \"9\", \"10\", \"11\", \"16\", \"17\"], \"mode\": \"markers\", \"name\": \"recall_score_macro\", \"stepped\": false, \"type\": \"scatter\", \"data\": [0.9501587301587302, 0.9513492063492063, 0.968015873015873, 0.9638492063492065, 0.955515873015873, 0.9457936507936507, 0.9382539682539683, 0.9638492063492065, 0.9446825396825398, 0.9652380952380952, 0.9638492063492065, 0.955515873015873, 0.9638492063492065, 0.9596825396825397]}, {\"categories\": [\"0\", \"1\", \"2\", \"3\", \"4\", \"5\", \"6\", \"7\", \"8\", \"9\", \"10\", \"11\", \"16\", \"17\"], \"mode\": \"lines\", \"name\": \"recall_score_macro_max\", \"stepped\": true, \"type\": \"scatter\", \"data\": [0.9501587301587302, 0.9513492063492063, 0.968015873015873, 0.968015873015873, 0.968015873015873, 0.968015873015873, 0.968015873015873, 0.968015873015873, 0.968015873015873, 0.968015873015873, 0.968015873015873, 0.968015873015873, 0.968015873015873, 0.968015873015873]}], \"average_precision_score_weighted\": [{\"categories\": [\"0\", \"1\", \"2\", \"3\", \"4\", \"5\", \"6\", \"7\", \"8\", \"9\", \"10\", \"11\", \"16\", \"17\"], \"mode\": \"markers\", \"name\": \"average_precision_score_weighted\", \"stepped\": false, \"type\": \"scatter\", \"data\": [0.9836058201058201, 0.982436507936508, 0.9736031746031746, 0.9978333333333333, 0.9945, 0.9915476190476191, 0.9752698412698413, 0.9956111111111111, 0.9942777777777778, 0.9857857142857143, 0.9956111111111111, 0.9956111111111111, 0.9978333333333333, 0.9978333333333333]}, {\"categories\": [\"0\", \"1\", \"2\", \"3\", \"4\", \"5\", \"6\", \"7\", \"8\", \"9\", \"10\", \"11\", \"16\", \"17\"], \"mode\": \"lines\", \"name\": \"average_precision_score_weighted_max\", \"stepped\": true, \"type\": \"scatter\", \"data\": [0.9836058201058201, 0.9836058201058201, 0.9836058201058201, 0.9978333333333333, 0.9978333333333333, 0.9978333333333333, 0.9978333333333333, 0.9978333333333333, 0.9978333333333333, 0.9978333333333333, 0.9978333333333333, 0.9978333333333333, 0.9978333333333333, 0.9978333333333333]}], \"f1_score_macro\": [{\"categories\": [\"0\", \"1\", \"2\", \"3\", \"4\", \"5\", \"6\", \"7\", \"8\", \"9\", \"10\", \"11\", \"16\", \"17\"], \"mode\": \"markers\", \"name\": \"f1_score_macro\", \"stepped\": false, \"type\": \"scatter\", \"data\": [0.9367373367373368, 0.9427873977873977, 0.9656445406445406, 0.9567556517556517, 0.9497715247715247, 0.9367267917267916, 0.9271677396677397, 0.9565989565989567, 0.9339137714137715, 0.953943833943834, 0.9567556517556517, 0.9497715247715247, 0.9567556517556517, 0.9485566285566286]}, {\"categories\": [\"0\", \"1\", \"2\", \"3\", \"4\", \"5\", \"6\", \"7\", \"8\", \"9\", \"10\", \"11\", \"16\", \"17\"], \"mode\": \"lines\", \"name\": \"f1_score_macro_max\", \"stepped\": true, \"type\": \"scatter\", \"data\": [0.9367373367373368, 0.9427873977873977, 0.9656445406445406, 0.9656445406445406, 0.9656445406445406, 0.9656445406445406, 0.9656445406445406, 0.9656445406445406, 0.9656445406445406, 0.9656445406445406, 0.9656445406445406, 0.9656445406445406, 0.9656445406445406, 0.9656445406445406]}], \"AUC_macro\": [{\"categories\": [\"0\", \"1\", \"2\", \"3\", \"4\", \"5\", \"6\", \"7\", \"8\", \"9\", \"10\", \"11\", \"16\", \"17\"], \"mode\": \"markers\", \"name\": \"AUC_macro\", \"stepped\": false, \"type\": \"scatter\", \"data\": [0.9885966009299342, 0.9872943722943723, 0.9869450456950457, 0.9986471861471861, 0.9966471861471862, 0.9937792207792209, 0.98695835337502, 0.9973138528138528, 0.9965562770562769, 0.9914810004810006, 0.9973138528138528, 0.9973138528138528, 0.9986471861471861, 0.9986471861471861]}, {\"categories\": [\"0\", \"1\", \"2\", \"3\", \"4\", \"5\", \"6\", \"7\", \"8\", \"9\", \"10\", \"11\", \"16\", \"17\"], \"mode\": \"lines\", \"name\": \"AUC_macro_max\", \"stepped\": true, \"type\": \"scatter\", \"data\": [0.9885966009299342, 0.9885966009299342, 0.9885966009299342, 0.9986471861471861, 0.9986471861471861, 0.9986471861471861, 0.9986471861471861, 0.9986471861471861, 0.9986471861471861, 0.9986471861471861, 0.9986471861471861, 0.9986471861471861, 0.9986471861471861, 0.9986471861471861]}], \"recall_score_weighted\": [{\"categories\": [\"0\", \"1\", \"2\", \"3\", \"4\", \"5\", \"6\", \"7\", \"8\", \"9\", \"10\", \"11\", \"16\", \"17\"], \"mode\": \"markers\", \"name\": \"recall_score_weighted\", \"stepped\": false, \"type\": \"scatter\", \"data\": [0.9400000000000001, 0.9466666666666667, 0.9666666666666668, 0.96, 0.9533333333333334, 0.9400000000000001, 0.9333333333333333, 0.96, 0.9400000000000001, 0.96, 0.96, 0.9533333333333334, 0.96, 0.9533333333333334]}, {\"categories\": [\"0\", \"1\", \"2\", \"3\", \"4\", \"5\", \"6\", \"7\", \"8\", \"9\", \"10\", \"11\", \"16\", \"17\"], \"mode\": \"lines\", \"name\": \"recall_score_weighted_max\", \"stepped\": true, \"type\": \"scatter\", \"data\": [0.9400000000000001, 0.9466666666666667, 0.9666666666666668, 0.9666666666666668, 0.9666666666666668, 0.9666666666666668, 0.9666666666666668, 0.9666666666666668, 0.9666666666666668, 0.9666666666666668, 0.9666666666666668, 0.9666666666666668, 0.9666666666666668, 0.9666666666666668]}], \"recall_score_micro\": [{\"categories\": [\"0\", \"1\", \"2\", \"3\", \"4\", \"5\", \"6\", \"7\", \"8\", \"9\", \"10\", \"11\", \"16\", \"17\"], \"mode\": \"markers\", \"name\": \"recall_score_micro\", \"stepped\": false, \"type\": \"scatter\", \"data\": [0.9400000000000001, 0.9466666666666667, 0.9666666666666668, 0.96, 0.9533333333333334, 0.9400000000000001, 0.9333333333333333, 0.96, 0.9400000000000001, 0.96, 0.96, 0.9533333333333334, 0.96, 0.9533333333333334]}, {\"categories\": [\"0\", \"1\", \"2\", \"3\", \"4\", \"5\", \"6\", \"7\", \"8\", \"9\", \"10\", \"11\", \"16\", \"17\"], \"mode\": \"lines\", \"name\": \"recall_score_micro_max\", \"stepped\": true, \"type\": \"scatter\", \"data\": [0.9400000000000001, 0.9466666666666667, 0.9666666666666668, 0.9666666666666668, 0.9666666666666668, 0.9666666666666668, 0.9666666666666668, 0.9666666666666668, 0.9666666666666668, 0.9666666666666668, 0.9666666666666668, 0.9666666666666668, 0.9666666666666668, 0.9666666666666668]}], \"average_precision_score_micro\": [{\"categories\": [\"0\", \"1\", \"2\", \"3\", \"4\", \"5\", \"6\", \"7\", \"8\", \"9\", \"10\", \"11\", \"16\", \"17\"], \"mode\": \"markers\", \"name\": \"average_precision_score_micro\", \"stepped\": false, \"type\": \"scatter\", \"data\": [0.9803807800897248, 0.9735524503016763, 0.9727267781238369, 0.9942976190476192, 0.991453781512605, 0.9868450538109979, 0.9695804016245193, 0.9942607376283845, 0.9902131185807657, 0.9852408963585434, 0.9951006069094304, 0.9905377896097709, 0.9959035947712419, 0.9946839402427639]}, {\"categories\": [\"0\", \"1\", \"2\", \"3\", \"4\", \"5\", \"6\", \"7\", \"8\", \"9\", \"10\", \"11\", \"16\", \"17\"], \"mode\": \"lines\", \"name\": \"average_precision_score_micro_max\", \"stepped\": true, \"type\": \"scatter\", \"data\": [0.9803807800897248, 0.9803807800897248, 0.9803807800897248, 0.9942976190476192, 0.9942976190476192, 0.9942976190476192, 0.9942976190476192, 0.9942976190476192, 0.9942976190476192, 0.9942976190476192, 0.9951006069094304, 0.9951006069094304, 0.9959035947712419, 0.9959035947712419]}], \"norm_macro_recall\": [{\"categories\": [\"0\", \"1\", \"2\", \"3\", \"4\", \"5\", \"6\", \"7\", \"8\", \"9\", \"10\", \"11\", \"16\", \"17\"], \"mode\": \"markers\", \"name\": \"norm_macro_recall\", \"stepped\": false, \"type\": \"scatter\", \"data\": [0.9252380952380953, 0.9270238095238096, 0.9520238095238096, 0.9457738095238095, 0.9332738095238096, 0.9186904761904762, 0.9073809523809524, 0.9457738095238095, 0.9170238095238095, 0.9478571428571427, 0.9457738095238095, 0.9332738095238096, 0.9457738095238095, 0.9395238095238095]}, {\"categories\": [\"0\", \"1\", \"2\", \"3\", \"4\", \"5\", \"6\", \"7\", \"8\", \"9\", \"10\", \"11\", \"16\", \"17\"], \"mode\": \"lines\", \"name\": \"norm_macro_recall_max\", \"stepped\": true, \"type\": \"scatter\", \"data\": [0.9252380952380953, 0.9270238095238096, 0.9520238095238096, 0.9520238095238096, 0.9520238095238096, 0.9520238095238096, 0.9520238095238096, 0.9520238095238096, 0.9520238095238096, 0.9520238095238096, 0.9520238095238096, 0.9520238095238096, 0.9520238095238096, 0.9520238095238096]}], \"precision_score_weighted\": [{\"categories\": [\"0\", \"1\", \"2\", \"3\", \"4\", \"5\", \"6\", \"7\", \"8\", \"9\", \"10\", \"11\", \"16\", \"17\"], \"mode\": \"markers\", \"name\": \"precision_score_weighted\", \"stepped\": false, \"type\": \"scatter\", \"data\": [0.9537777777777778, 0.9580555555555555, 0.9705555555555556, 0.9661111111111111, 0.9602777777777778, 0.9525, 0.9485185185185185, 0.9682777777777778, 0.9561851851851852, 0.9721666666666667, 0.9661111111111111, 0.9602777777777778, 0.9661111111111111, 0.966388888888889]}, {\"categories\": [\"0\", \"1\", \"2\", \"3\", \"4\", \"5\", \"6\", \"7\", \"8\", \"9\", \"10\", \"11\", \"16\", \"17\"], \"mode\": \"lines\", \"name\": \"precision_score_weighted_max\", \"stepped\": true, \"type\": \"scatter\", \"data\": [0.9537777777777778, 0.9580555555555555, 0.9705555555555556, 0.9705555555555556, 0.9705555555555556, 0.9705555555555556, 0.9705555555555556, 0.9705555555555556, 0.9705555555555556, 0.9721666666666667, 0.9721666666666667, 0.9721666666666667, 0.9721666666666667, 0.9721666666666667]}], \"log_loss\": [{\"categories\": [\"0\", \"1\", \"2\", \"3\", \"4\", \"5\", \"6\", \"7\", \"8\", \"9\", \"10\", \"11\", \"16\", \"17\"], \"mode\": \"markers\", \"name\": \"log_loss\", \"stepped\": false, \"type\": \"scatter\", \"data\": [0.21652783245217494, 0.19158209315260283, 0.5317192947568566, 0.13226771087363803, 0.11952588849407109, 0.12919403041060412, 0.5666308090209152, 0.15040613360458782, 0.33759558754982355, 0.29387480335260413, 0.14790377030887553, 0.19985131517178892, 0.16456550020878744, 0.10876373544564659]}, {\"categories\": [\"0\", \"1\", \"2\", \"3\", \"4\", \"5\", \"6\", \"7\", \"8\", \"9\", \"10\", \"11\", \"16\", \"17\"], \"mode\": \"lines\", \"name\": \"log_loss_min\", \"stepped\": true, \"type\": \"scatter\", \"data\": [0.21652783245217494, 0.19158209315260283, 0.19158209315260283, 0.13226771087363803, 0.11952588849407109, 0.11952588849407109, 0.11952588849407109, 0.11952588849407109, 0.11952588849407109, 0.11952588849407109, 0.11952588849407109, 0.11952588849407109, 0.11952588849407109, 0.10876373544564659]}], \"balanced_accuracy\": [{\"categories\": [\"0\", \"1\", \"2\", \"3\", \"4\", \"5\", \"6\", \"7\", \"8\", \"9\", \"10\", \"11\", \"16\", \"17\"], \"mode\": \"markers\", \"name\": \"balanced_accuracy\", \"stepped\": false, \"type\": \"scatter\", \"data\": [0.9501587301587302, 0.9513492063492063, 0.968015873015873, 0.9638492063492065, 0.955515873015873, 0.9457936507936507, 0.9382539682539683, 0.9638492063492065, 0.9446825396825398, 0.9652380952380952, 0.9638492063492065, 0.955515873015873, 0.9638492063492065, 0.9596825396825397]}, {\"categories\": [\"0\", \"1\", \"2\", \"3\", \"4\", \"5\", \"6\", \"7\", \"8\", \"9\", \"10\", \"11\", \"16\", \"17\"], \"mode\": \"lines\", \"name\": \"balanced_accuracy_max\", \"stepped\": true, \"type\": \"scatter\", \"data\": [0.9501587301587302, 0.9513492063492063, 0.968015873015873, 0.968015873015873, 0.968015873015873, 0.968015873015873, 0.968015873015873, 0.968015873015873, 0.968015873015873, 0.968015873015873, 0.968015873015873, 0.968015873015873, 0.968015873015873, 0.968015873015873]}], \"AUC_micro\": [{\"categories\": [\"0\", \"1\", \"2\", \"3\", \"4\", \"5\", \"6\", \"7\", \"8\", \"9\", \"10\", \"11\", \"16\", \"17\"], \"mode\": \"markers\", \"name\": \"AUC_micro\", \"stepped\": false, \"type\": \"scatter\", \"data\": [0.9891111111111112, 0.987111111111111, 0.987111111111111, 0.9968888888888889, 0.9955555555555555, 0.9926666666666666, 0.9852222222222222, 0.9968888888888889, 0.9944444444444447, 0.9927777777777779, 0.9973333333333334, 0.9948888888888889, 0.9977777777777778, 0.9971111111111112]}, {\"categories\": [\"0\", \"1\", \"2\", \"3\", \"4\", \"5\", \"6\", \"7\", \"8\", \"9\", \"10\", \"11\", \"16\", \"17\"], \"mode\": \"lines\", \"name\": \"AUC_micro_max\", \"stepped\": true, \"type\": \"scatter\", \"data\": [0.9891111111111112, 0.9891111111111112, 0.9891111111111112, 0.9968888888888889, 0.9968888888888889, 0.9968888888888889, 0.9968888888888889, 0.9968888888888889, 0.9968888888888889, 0.9968888888888889, 0.9973333333333334, 0.9973333333333334, 0.9977777777777778, 0.9977777777777778]}], \"matthews_correlation\": [{\"categories\": [\"0\", \"1\", \"2\", \"3\", \"4\", \"5\", \"6\", \"7\", \"8\", \"9\", \"10\", \"11\", \"16\", \"17\"], \"mode\": \"markers\", \"name\": \"matthews_correlation\", \"stepped\": false, \"type\": \"scatter\", \"data\": [0.913154186500714, 0.9221238703798921, 0.9505252706779945, 0.9403661457990085, 0.9304029029988256, 0.9126644109204326, 0.9032736694746525, 0.9416556793501055, 0.914702815983944, 0.942715306641861, 0.9403661457990085, 0.9304029029988256, 0.9403661457990085, 0.9333213740957543]}, {\"categories\": [\"0\", \"1\", \"2\", \"3\", \"4\", \"5\", \"6\", \"7\", \"8\", \"9\", \"10\", \"11\", \"16\", \"17\"], \"mode\": \"lines\", \"name\": \"matthews_correlation_max\", \"stepped\": true, \"type\": \"scatter\", \"data\": [0.913154186500714, 0.9221238703798921, 0.9505252706779945, 0.9505252706779945, 0.9505252706779945, 0.9505252706779945, 0.9505252706779945, 0.9505252706779945, 0.9505252706779945, 0.9505252706779945, 0.9505252706779945, 0.9505252706779945, 0.9505252706779945, 0.9505252706779945]}], \"average_precision_score_macro\": [{\"categories\": [\"0\", \"1\", \"2\", \"3\", \"4\", \"5\", \"6\", \"7\", \"8\", \"9\", \"10\", \"11\", \"16\", \"17\"], \"mode\": \"markers\", \"name\": \"average_precision_score_macro\", \"stepped\": false, \"type\": \"scatter\", \"data\": [0.9841662887377172, 0.9823911564625851, 0.9719744897959185, 0.9977380952380953, 0.994404761904762, 0.9912244897959184, 0.9707870370370371, 0.9955158730158731, 0.9938492063492064, 0.9853231292517007, 0.9955158730158731, 0.9955158730158731, 0.9977380952380953, 0.9977380952380953]}, {\"categories\": [\"0\", \"1\", \"2\", \"3\", \"4\", \"5\", \"6\", \"7\", \"8\", \"9\", \"10\", \"11\", \"16\", \"17\"], \"mode\": \"lines\", \"name\": \"average_precision_score_macro_max\", \"stepped\": true, \"type\": \"scatter\", \"data\": [0.9841662887377172, 0.9841662887377172, 0.9841662887377172, 0.9977380952380953, 0.9977380952380953, 0.9977380952380953, 0.9977380952380953, 0.9977380952380953, 0.9977380952380953, 0.9977380952380953, 0.9977380952380953, 0.9977380952380953, 0.9977380952380953, 0.9977380952380953]}], \"AUC_weighted\": [{\"categories\": [\"0\", \"1\", \"2\", \"3\", \"4\", \"5\", \"6\", \"7\", \"8\", \"9\", \"10\", \"11\", \"16\", \"17\"], \"mode\": \"markers\", \"name\": \"AUC_weighted\", \"stepped\": false, \"type\": \"scatter\", \"data\": [0.988154882154882, 0.9871212121212121, 0.9863510101010101, 0.9985606060606061, 0.996560606060606, 0.993909090909091, 0.9868829966329967, 0.9972272727272727, 0.9966212121212121, 0.9918080808080807, 0.9972272727272727, 0.9972272727272727, 0.9985606060606061, 0.9985606060606061]}, {\"categories\": [\"0\", \"1\", \"2\", \"3\", \"4\", \"5\", \"6\", \"7\", \"8\", \"9\", \"10\", \"11\", \"16\", \"17\"], \"mode\": \"lines\", \"name\": \"AUC_weighted_max\", \"stepped\": true, \"type\": \"scatter\", \"data\": [0.988154882154882, 0.988154882154882, 0.988154882154882, 0.9985606060606061, 0.9985606060606061, 0.9985606060606061, 0.9985606060606061, 0.9985606060606061, 0.9985606060606061, 0.9985606060606061, 0.9985606060606061, 0.9985606060606061, 0.9985606060606061, 0.9985606060606061]}], \"accuracy\": [{\"categories\": [\"0\", \"1\", \"2\", \"3\", \"4\", \"5\", \"6\", \"7\", \"8\", \"9\", \"10\", \"11\", \"16\", \"17\"], \"mode\": \"markers\", \"name\": \"accuracy\", \"stepped\": false, \"type\": \"scatter\", \"data\": [0.9400000000000001, 0.9466666666666667, 0.9666666666666668, 0.96, 0.9533333333333334, 0.9400000000000001, 0.9333333333333333, 0.96, 0.9400000000000001, 0.96, 0.96, 0.9533333333333334, 0.96, 0.9533333333333334]}, {\"categories\": [\"0\", \"1\", \"2\", \"3\", \"4\", \"5\", \"6\", \"7\", \"8\", \"9\", \"10\", \"11\", \"16\", \"17\"], \"mode\": \"lines\", \"name\": \"accuracy_max\", \"stepped\": true, \"type\": \"scatter\", \"data\": [0.9400000000000001, 0.9466666666666667, 0.9666666666666668, 0.9666666666666668, 0.9666666666666668, 0.9666666666666668, 0.9666666666666668, 0.9666666666666668, 0.9666666666666668, 0.9666666666666668, 0.9666666666666668, 0.9666666666666668, 0.9666666666666668, 0.9666666666666668]}], \"weighted_accuracy\": [{\"categories\": [\"0\", \"1\", \"2\", \"3\", \"4\", \"5\", \"6\", \"7\", \"8\", \"9\", \"10\", \"11\", \"16\", \"17\"], \"mode\": \"markers\", \"name\": \"weighted_accuracy\", \"stepped\": false, \"type\": \"scatter\", \"data\": [0.9316567709183333, 0.9437942095617962, 0.9659367822420032, 0.9573346317043688, 0.9523963600994305, 0.9360020017695883, 0.9304222030170987, 0.9573346317043688, 0.9373007030682896, 0.9569060895009851, 0.9573346317043688, 0.9523963600994305, 0.9573346317043688, 0.9489407215356171]}, {\"categories\": [\"0\", \"1\", \"2\", \"3\", \"4\", \"5\", \"6\", \"7\", \"8\", \"9\", \"10\", \"11\", \"16\", \"17\"], \"mode\": \"lines\", \"name\": \"weighted_accuracy_max\", \"stepped\": true, \"type\": \"scatter\", \"data\": [0.9316567709183333, 0.9437942095617962, 0.9659367822420032, 0.9659367822420032, 0.9659367822420032, 0.9659367822420032, 0.9659367822420032, 0.9659367822420032, 0.9659367822420032, 0.9659367822420032, 0.9659367822420032, 0.9659367822420032, 0.9659367822420032, 0.9659367822420032]}], \"precision_score_micro\": [{\"categories\": [\"0\", \"1\", \"2\", \"3\", \"4\", \"5\", \"6\", \"7\", \"8\", \"9\", \"10\", \"11\", \"16\", \"17\"], \"mode\": \"markers\", \"name\": \"precision_score_micro\", \"stepped\": false, \"type\": \"scatter\", \"data\": [0.9400000000000001, 0.9466666666666667, 0.9666666666666668, 0.96, 0.9533333333333334, 0.9400000000000001, 0.9333333333333333, 0.96, 0.9400000000000001, 0.96, 0.96, 0.9533333333333334, 0.96, 0.9533333333333334]}, {\"categories\": [\"0\", \"1\", \"2\", \"3\", \"4\", \"5\", \"6\", \"7\", \"8\", \"9\", \"10\", \"11\", \"16\", \"17\"], \"mode\": \"lines\", \"name\": \"precision_score_micro_max\", \"stepped\": true, \"type\": \"scatter\", \"data\": [0.9400000000000001, 0.9466666666666667, 0.9666666666666668, 0.9666666666666668, 0.9666666666666668, 0.9666666666666668, 0.9666666666666668, 0.9666666666666668, 0.9666666666666668, 0.9666666666666668, 0.9666666666666668, 0.9666666666666668, 0.9666666666666668, 0.9666666666666668]}], \"f1_score_micro\": [{\"categories\": [\"0\", \"1\", \"2\", \"3\", \"4\", \"5\", \"6\", \"7\", \"8\", \"9\", \"10\", \"11\", \"16\", \"17\"], \"mode\": \"markers\", \"name\": \"f1_score_micro\", \"stepped\": false, \"type\": \"scatter\", \"data\": [0.9400000000000001, 0.9466666666666667, 0.9666666666666668, 0.96, 0.9533333333333334, 0.9400000000000001, 0.9333333333333333, 0.96, 0.9400000000000001, 0.96, 0.96, 0.9533333333333334, 0.96, 0.9533333333333334]}, {\"categories\": [\"0\", \"1\", \"2\", \"3\", \"4\", \"5\", \"6\", \"7\", \"8\", \"9\", \"10\", \"11\", \"16\", \"17\"], \"mode\": \"lines\", \"name\": \"f1_score_micro_max\", \"stepped\": true, \"type\": \"scatter\", \"data\": [0.9400000000000001, 0.9466666666666667, 0.9666666666666668, 0.9666666666666668, 0.9666666666666668, 0.9666666666666668, 0.9666666666666668, 0.9666666666666668, 0.9666666666666668, 0.9666666666666668, 0.9666666666666668, 0.9666666666666668, 0.9666666666666668, 0.9666666666666668]}], \"f1_score_weighted\": [{\"categories\": [\"0\", \"1\", \"2\", \"3\", \"4\", \"5\", \"6\", \"7\", \"8\", \"9\", \"10\", \"11\", \"16\", \"17\"], \"mode\": \"markers\", \"name\": \"f1_score_weighted\", \"stepped\": false, \"type\": \"scatter\", \"data\": [0.9418699818699819, 0.9477210197210197, 0.9667051467051466, 0.9604829244829245, 0.9535622895622897, 0.9410543530543531, 0.933472545972546, 0.9603429163429164, 0.9400333925333925, 0.9613414733414734, 0.9604829244829245, 0.9535622895622897, 0.9604829244829245, 0.9546074666074666]}, {\"categories\": [\"0\", \"1\", \"2\", \"3\", \"4\", \"5\", \"6\", \"7\", \"8\", \"9\", \"10\", \"11\", \"16\", \"17\"], \"mode\": \"lines\", \"name\": \"f1_score_weighted_max\", \"stepped\": true, \"type\": \"scatter\", \"data\": [0.9418699818699819, 0.9477210197210197, 0.9667051467051466, 0.9667051467051466, 0.9667051467051466, 0.9667051467051466, 0.9667051467051466, 0.9667051467051466, 0.9667051467051466, 0.9667051467051466, 0.9667051467051466, 0.9667051467051466, 0.9667051467051466, 0.9667051467051466]}], \"precision_score_macro\": [{\"categories\": [\"0\", \"1\", \"2\", \"3\", \"4\", \"5\", \"6\", \"7\", \"8\", \"9\", \"10\", \"11\", \"16\", \"17\"], \"mode\": \"markers\", \"name\": \"precision_score_macro\", \"stepped\": false, \"type\": \"scatter\", \"data\": [0.9366666666666668, 0.9466269841269842, 0.9674603174603174, 0.9563492063492063, 0.9521825396825397, 0.9410714285714287, 0.9350529100529101, 0.9586111111111112, 0.9431481481481482, 0.9558333333333333, 0.9563492063492063, 0.9521825396825397, 0.9563492063492063, 0.951388888888889]}, {\"categories\": [\"0\", \"1\", \"2\", \"3\", \"4\", \"5\", \"6\", \"7\", \"8\", \"9\", \"10\", \"11\", \"16\", \"17\"], \"mode\": \"lines\", \"name\": \"precision_score_macro_max\", \"stepped\": true, \"type\": \"scatter\", \"data\": [0.9366666666666668, 0.9466269841269842, 0.9674603174603174, 0.9674603174603174, 0.9674603174603174, 0.9674603174603174, 0.9674603174603174, 0.9674603174603174, 0.9674603174603174, 0.9674603174603174, 0.9674603174603174, 0.9674603174603174, 0.9674603174603174, 0.9674603174603174]}]}, \"metricName\": null, \"primaryMetricName\": \"AUC_weighted\", \"showLegend\": false}, \"run_metrics\": [{\"name\": \"experiment_status\", \"run_id\": \"AutoML_caf261ae-59c9-46ec-8f48-a0d74b5ddd7d\", \"categories\": [0, 1, 2, 3, 4, 5, 6, 7, 8, 9, 10, 11, 12, 13], \"series\": [{\"data\": [\"DatasetEvaluation\", \"FeaturesGeneration\", \"DatasetFeaturization\", \"DatasetFeaturizationCompleted\", \"DatasetCrossValidationSplit\", \"ModelSelection\", \"BestRunExplainModel\", \"ModelExplanationDataSetSetup\", \"PickSurrogateModel\", \"EngineeredFeatureExplanations\", \"EngineeredFeatureExplanations\", \"RawFeaturesExplanations\", \"RawFeaturesExplanations\", \"BestRunExplainModel\"]}]}, {\"name\": \"experiment_status_description\", \"run_id\": \"AutoML_caf261ae-59c9-46ec-8f48-a0d74b5ddd7d\", \"categories\": [0, 1, 2, 3, 4, 5, 6, 7, 8, 9, 10, 11, 12, 13], \"series\": [{\"data\": [\"Gathering dataset statistics.\", \"Generating features for the dataset.\", \"Beginning to fit featurizers and featurize the dataset.\", \"Completed fit featurizers and featurizing the dataset.\", \"Generating individually featurized CV splits.\", \"Beginning model selection.\", \"Best run model explanations started\", \"Model explanations data setup completed\", \"Choosing LightGBM as the surrogate model for explanations\", \"Computation of engineered features started\", \"Computation of engineered features completed\", \"Computation of raw features started\", \"Computation of raw features completed\", \"Best run model explanations completed\"]}]}], \"run_logs\": \"\\nRun is completed.\", \"graph\": {}, \"widget_settings\": {\"childWidgetDisplay\": \"popup\", \"send_telemetry\": false, \"log_level\": \"INFO\", \"sdk_version\": \"1.31.0\"}, \"loading\": false}"
     },
     "metadata": {},
     "output_type": "display_data"
    }
   ],
   "source": [
    "from azureml.widgets import RunDetails\n",
    "RunDetails(remote_run).show()"
   ]
  },
  {
   "cell_type": "code",
   "execution_count": 9,
   "metadata": {},
   "outputs": [
    {
     "data": {
      "text/plain": [
       "{'runId': 'AutoML_caf261ae-59c9-46ec-8f48-a0d74b5ddd7d',\n",
       " 'target': 'notebook153057',\n",
       " 'status': 'Completed',\n",
       " 'startTimeUtc': '2021-07-30T21:16:24.851073Z',\n",
       " 'endTimeUtc': '2021-07-30T21:57:31.402879Z',\n",
       " 'properties': {'num_iterations': '1000',\n",
       "  'training_type': 'TrainFull',\n",
       "  'acquisition_function': 'EI',\n",
       "  'primary_metric': 'AUC_weighted',\n",
       "  'train_split': '0',\n",
       "  'acquisition_parameter': '0',\n",
       "  'num_cross_validation': None,\n",
       "  'target': 'notebook153057',\n",
       "  'AMLSettingsJsonString': '{\"path\":null,\"name\":\"automl-model\",\"subscription_id\":\"61c5c3f0-6dc7-4ed9-a7f3-c704b20e3b30\",\"resource_group\":\"aml-quickstarts-153057\",\"workspace_name\":\"quick-starts-ws-153057\",\"region\":\"southcentralus\",\"compute_target\":\"notebook153057\",\"spark_service\":null,\"azure_service\":\"remote\",\"many_models\":false,\"pipeline_fetch_max_batch_size\":1,\"enable_batch_run\":false,\"enable_run_restructure\":false,\"start_auxiliary_runs_before_parent_complete\":false,\"enable_code_generation\":false,\"iterations\":1000,\"primary_metric\":\"AUC_weighted\",\"task_type\":\"classification\",\"data_script\":null,\"test_size\":0.0,\"validation_size\":0.0,\"n_cross_validations\":null,\"y_min\":null,\"y_max\":null,\"num_classes\":null,\"featurization\":\"auto\",\"_ignore_package_version_incompatibilities\":false,\"is_timeseries\":false,\"max_cores_per_iteration\":1,\"max_concurrent_iterations\":4,\"iteration_timeout_minutes\":null,\"mem_in_mb\":null,\"enforce_time_on_windows\":false,\"experiment_timeout_minutes\":20,\"experiment_exit_score\":null,\"whitelist_models\":null,\"blacklist_algos\":[\"TensorFlowLinearClassifier\",\"TensorFlowDNN\"],\"supported_models\":[\"BernoulliNaiveBayes\",\"DecisionTree\",\"LightGBM\",\"AveragedPerceptronClassifier\",\"XGBoostClassifier\",\"SGD\",\"SVM\",\"ExtremeRandomTrees\",\"GradientBoosting\",\"TensorFlowDNN\",\"RandomForest\",\"LinearSVM\",\"LogisticRegression\",\"KNN\",\"MultinomialNaiveBayes\",\"TensorFlowLinearClassifier\"],\"private_models\":[],\"auto_blacklist\":true,\"blacklist_samples_reached\":false,\"exclude_nan_labels\":true,\"verbosity\":20,\"_debug_log\":\"azureml_automl.log\",\"show_warnings\":false,\"model_explainability\":true,\"service_url\":null,\"sdk_url\":null,\"sdk_packages\":null,\"enable_onnx_compatible_models\":false,\"enable_split_onnx_featurizer_estimator_models\":false,\"vm_type\":\"STANDARD_DS3_V2\",\"telemetry_verbosity\":20,\"send_telemetry\":true,\"enable_dnn\":false,\"scenario\":\"SDK-1.13.0\",\"environment_label\":null,\"save_mlflow\":false,\"force_text_dnn\":false,\"enable_feature_sweeping\":true,\"enable_early_stopping\":true,\"early_stopping_n_iters\":10,\"metrics\":null,\"enable_metric_confidence\":false,\"enable_ensembling\":true,\"enable_stack_ensembling\":true,\"ensemble_iterations\":15,\"enable_tf\":false,\"enable_subsampling\":null,\"subsample_seed\":null,\"enable_nimbusml\":false,\"enable_streaming\":false,\"force_streaming\":false,\"track_child_runs\":true,\"allowed_private_models\":[],\"label_column_name\":\"Column5\",\"weight_column_name\":null,\"cv_split_column_names\":null,\"enable_local_managed\":false,\"_local_managed_run_id\":null,\"cost_mode\":1,\"lag_length\":0,\"metric_operation\":\"maximize\",\"preprocess\":true}',\n",
       "  'DataPrepJsonString': '{\\\\\"training_data\\\\\": {\\\\\"datasetId\\\\\": \\\\\"045ebe75-7207-493c-b435-bad6a7bf0b49\\\\\"}, \\\\\"datasets\\\\\": 0}',\n",
       "  'EnableSubsampling': None,\n",
       "  'runTemplate': 'AutoML',\n",
       "  'azureml.runsource': 'automl',\n",
       "  'display_task_type': 'classification',\n",
       "  'dependencies_versions': '{\"azureml-widgets\": \"1.31.0\", \"azureml-train\": \"1.31.0\", \"azureml-train-restclients-hyperdrive\": \"1.31.0\", \"azureml-train-core\": \"1.31.0\", \"azureml-train-automl\": \"1.31.0\", \"azureml-train-automl-runtime\": \"1.31.0\", \"azureml-train-automl-client\": \"1.31.0\", \"azureml-tensorboard\": \"1.31.0\", \"azureml-telemetry\": \"1.31.0\", \"azureml-sdk\": \"1.31.0\", \"azureml-samples\": \"0+unknown\", \"azureml-responsibleai\": \"1.31.0\", \"azureml-pipeline\": \"1.31.0\", \"azureml-pipeline-steps\": \"1.31.0\", \"azureml-pipeline-core\": \"1.31.0\", \"azureml-opendatasets\": \"1.31.0\", \"azureml-model-management-sdk\": \"1.0.1b6.post1\", \"azureml-mlflow\": \"1.31.0\", \"azureml-interpret\": \"1.31.0\", \"azureml-explain-model\": \"1.31.0\", \"azureml-defaults\": \"1.31.0\", \"azureml-dataset-runtime\": \"1.31.0\", \"azureml-dataprep\": \"2.18.0\", \"azureml-dataprep-rslex\": \"1.16.1\", \"azureml-dataprep-native\": \"36.0.0\", \"azureml-datadrift\": \"1.31.0\", \"azureml-core\": \"1.31.0\", \"azureml-contrib-services\": \"1.31.0\", \"azureml-contrib-server\": \"1.31.0\", \"azureml-contrib-reinforcementlearning\": \"1.31.0\", \"azureml-contrib-pipeline-steps\": \"1.31.0\", \"azureml-contrib-notebook\": \"1.31.0\", \"azureml-contrib-fairness\": \"1.31.0\", \"azureml-contrib-dataset\": \"1.31.0\", \"azureml-cli-common\": \"1.31.0\", \"azureml-automl-runtime\": \"1.31.0\", \"azureml-automl-dnn-nlp\": \"1.31.0\", \"azureml-automl-core\": \"1.31.0\", \"azureml-accel-models\": \"1.31.0\"}',\n",
       "  '_aml_system_scenario_identification': 'Remote.Parent',\n",
       "  'ClientType': 'SDK',\n",
       "  'environment_cpu_name': 'AzureML-AutoML',\n",
       "  'environment_cpu_label': 'prod',\n",
       "  'environment_gpu_name': 'AzureML-AutoML-GPU',\n",
       "  'environment_gpu_label': 'prod',\n",
       "  'root_attribution': 'automl',\n",
       "  'attribution': 'AutoML',\n",
       "  'Orchestrator': 'AutoML',\n",
       "  'CancelUri': 'https://southcentralus.api.azureml.ms/jasmine/v1.0/subscriptions/61c5c3f0-6dc7-4ed9-a7f3-c704b20e3b30/resourceGroups/aml-quickstarts-153057/providers/Microsoft.MachineLearningServices/workspaces/quick-starts-ws-153057/experimentids/ab7701ca-dc8f-4698-8371-6531260a01dc/cancel/AutoML_caf261ae-59c9-46ec-8f48-a0d74b5ddd7d',\n",
       "  'azureml.git.repository_uri': 'https://github.com/anand0427/Capstone-Azureml-Nanodegree-Udacity.git',\n",
       "  'mlflow.source.git.repoURL': 'https://github.com/anand0427/Capstone-Azureml-Nanodegree-Udacity.git',\n",
       "  'azureml.git.branch': 'master',\n",
       "  'mlflow.source.git.branch': 'master',\n",
       "  'azureml.git.commit': '2569d31c9c8e5bc21f8ffddeefd2b2255e6603ba',\n",
       "  'mlflow.source.git.commit': '2569d31c9c8e5bc21f8ffddeefd2b2255e6603ba',\n",
       "  'azureml.git.dirty': 'False',\n",
       "  'ClientSdkVersion': '1.32.0',\n",
       "  'snapshotId': '00000000-0000-0000-0000-000000000000',\n",
       "  'SetupRunId': 'AutoML_caf261ae-59c9-46ec-8f48-a0d74b5ddd7d_setup',\n",
       "  'SetupRunContainerId': 'dcid.AutoML_caf261ae-59c9-46ec-8f48-a0d74b5ddd7d_setup',\n",
       "  'FeaturizationRunJsonPath': 'featurizer_container.json',\n",
       "  'FeaturizationRunId': 'AutoML_caf261ae-59c9-46ec-8f48-a0d74b5ddd7d_featurize',\n",
       "  'ProblemInfoJsonString': '{\"dataset_num_categorical\": 0, \"is_sparse\": false, \"subsampling\": false, \"has_extra_col\": true, \"dataset_classes\": 3, \"dataset_features\": 4, \"dataset_samples\": 150, \"single_frequency_class_detected\": false}',\n",
       "  'ModelExplainRunId': 'AutoML_caf261ae-59c9-46ec-8f48-a0d74b5ddd7d_ModelExplain'},\n",
       " 'inputDatasets': [{'dataset': {'id': '045ebe75-7207-493c-b435-bad6a7bf0b49'}, 'consumptionDetails': {'type': 'RunInput', 'inputName': 'training_data', 'mechanism': 'Direct'}}],\n",
       " 'outputDatasets': [],\n",
       " 'logFiles': {},\n",
       " 'submittedBy': 'ODL_User 153057'}"
      ]
     },
     "execution_count": 9,
     "metadata": {},
     "output_type": "execute_result"
    }
   ],
   "source": [
    "remote_run.wait_for_completion()"
   ]
  },
  {
   "cell_type": "markdown",
   "metadata": {},
   "source": [
    "## Best Model\n",
    "\n",
    "TODO: In the cell below, get the best model from the automl experiments and display all the properties of the model.\n",
    "\n"
   ]
  },
  {
   "cell_type": "code",
   "execution_count": 10,
   "metadata": {
    "collapsed": false,
    "gather": {
     "logged": 1598431425670
    },
    "jupyter": {
     "outputs_hidden": false,
     "source_hidden": false
    },
    "nteract": {
     "transient": {
      "deleting": false
     }
    }
   },
   "outputs": [
    {
     "name": "stderr",
     "output_type": "stream",
     "text": [
      "WARNING:root:The version of the SDK does not match the version the model was trained on.\n",
      "WARNING:root:The consistency in the result may not be guaranteed.\n",
      "WARNING:root:Package:azureml-automl-core, training version:1.32.0, current version:1.31.0\n",
      "Package:azureml-automl-runtime, training version:1.32.0, current version:1.31.0\n",
      "Package:azureml-core, training version:1.32.0, current version:1.31.0\n",
      "Package:azureml-dataset-runtime, training version:1.32.0, current version:1.31.0\n",
      "Package:azureml-defaults, training version:1.32.0, current version:1.31.0\n",
      "Package:azureml-interpret, training version:1.32.0, current version:1.31.0\n",
      "Package:azureml-mlflow, training version:1.32.0, current version:1.31.0\n",
      "Package:azureml-pipeline-core, training version:1.32.0, current version:1.31.0\n",
      "Package:azureml-telemetry, training version:1.32.0, current version:1.31.0\n",
      "Package:azureml-train-automl-client, training version:1.32.0, current version:1.31.0\n",
      "Package:azureml-train-automl-runtime, training version:1.32.0, current version:1.31.0\n",
      "WARNING:root:Please ensure the version of your local conda dependencies match the version on which your model was trained in order to properly retrieve your model.\n"
     ]
    },
    {
     "name": "stdout",
     "output_type": "stream",
     "text": [
      "Run(Experiment: automl-model,\n",
      "Id: AutoML_caf261ae-59c9-46ec-8f48-a0d74b5ddd7d_3,\n",
      "Type: azureml.scriptrun,\n",
      "Status: Completed)\n",
      "Pipeline(memory=None,\n",
      "         steps=[('datatransformer',\n",
      "                 DataTransformer(enable_dnn=False, enable_feature_sweeping=True, feature_sweeping_config={}, feature_sweeping_timeout=86400, featurization_config=None, force_text_dnn=False, is_cross_validation=True, is_onnx_compatible=False, observer=None, task='classification', working_dir='/mnt/batch/tasks/shared/LS_root/mount...\n",
      "                                      class_weight=None, criterion='entropy',\n",
      "                                      max_depth=None, max_features='log2',\n",
      "                                      max_leaf_nodes=None, max_samples=None,\n",
      "                                      min_impurity_decrease=0.0,\n",
      "                                      min_impurity_split=None,\n",
      "                                      min_samples_leaf=0.01,\n",
      "                                      min_samples_split=0.10368421052631578,\n",
      "                                      min_weight_fraction_leaf=0.0,\n",
      "                                      n_estimators=50, n_jobs=1,\n",
      "                                      oob_score=False, random_state=None,\n",
      "                                      verbose=0, warm_start=False))],\n",
      "         verbose=False)\n",
      "Y_transformer(['LabelEncoder', LabelEncoder()])\n"
     ]
    }
   ],
   "source": [
    "#get the best model and display\n",
    "best_model, automl = remote_run.get_output()\n",
    "print(best_model)\n",
    "print(automl)"
   ]
  },
  {
   "cell_type": "code",
   "execution_count": 16,
   "metadata": {
    "collapsed": false,
    "gather": {
     "logged": 1598431426111
    },
    "jupyter": {
     "outputs_hidden": false,
     "source_hidden": false
    },
    "nteract": {
     "transient": {
      "deleting": false
     }
    }
   },
   "outputs": [
    {
     "data": {
      "text/plain": [
       "'output/aml_model/model.pkl'"
      ]
     },
     "execution_count": 16,
     "metadata": {},
     "output_type": "execute_result"
    }
   ],
   "source": [
    "#TODO: Save the best model\n",
    "registered_model = remote_run.register_model(model_name=\"best_amlmodel_iris\")\n",
    "registered_model.download(target_dir=\"./output/aml_model\")"
   ]
  },
  {
   "cell_type": "markdown",
   "metadata": {},
   "source": [
    "## Model Deployment\n",
    "\n",
    "Remember you have to deploy only one of the two models you trained.. Perform the steps in the rest of this notebook only if you wish to deploy this model.\n",
    "\n",
    "TODO: In the cell below, register the model, create an inference config and deploy the model as a web service."
   ]
  },
  {
   "cell_type": "code",
   "execution_count": 17,
   "metadata": {
    "collapsed": false,
    "gather": {
     "logged": 1598431435189
    },
    "jupyter": {
     "outputs_hidden": false,
     "source_hidden": false
    },
    "nteract": {
     "transient": {
      "deleting": false
     }
    }
   },
   "outputs": [],
   "source": [
    "# create ACI webservice config for deployment\n",
    "container_instance_config= AciWebservice.deploy_configuration(\n",
    "    description=\"Automl model deployment to Azure container instance\",\n",
    "    cpu_cores = 1,\n",
    "    memory_gb=4,\n",
    "    enable_app_insights=True\n",
    ")\n",
    "\n",
    "aml_model = Model(ws, \"best_amlmodel_iris\")"
   ]
  },
  {
   "cell_type": "code",
   "execution_count": 18,
   "metadata": {},
   "outputs": [],
   "source": [
    "# get env for Inference config\n",
    "env = Environment.get(workspace=ws, name=\"AzureML-AutoML\")"
   ]
  },
  {
   "cell_type": "code",
   "execution_count": 19,
   "metadata": {},
   "outputs": [],
   "source": [
    "# Inference config and final deployment\n",
    "\n",
    "inference_config = InferenceConfig(entry_script=\"score.py\", environment=env)\n",
    "\n",
    "service = Model.deploy(workspace=ws, \n",
    "                       name='best-amlmodel-iris', \n",
    "                       models=[aml_model], \n",
    "                       inference_config=inference_config, \n",
    "                       deployment_config=container_instance_config)"
   ]
  },
  {
   "cell_type": "code",
   "execution_count": 20,
   "metadata": {},
   "outputs": [
    {
     "name": "stdout",
     "output_type": "stream",
     "text": [
      "Tips: You can try get_logs(): https://aka.ms/debugimage#dockerlog or local deployment: https://aka.ms/debugimage#debug-locally to debug if deployment takes longer than 10 minutes.\n",
      "Running\n",
      "2021-07-30 22:16:35+00:00 Creating Container Registry if not exists.\n",
      "2021-07-30 22:16:35+00:00 Registering the environment.\n",
      "2021-07-30 22:16:37+00:00 Use the existing image.\n",
      "2021-07-30 22:16:37+00:00 Generating deployment configuration.\n",
      "2021-07-30 22:16:38+00:00 Submitting deployment to compute.\n",
      "2021-07-30 22:16:41+00:00 Checking the status of deployment best-amlmodel-iris..\n",
      "2021-07-30 22:20:50+00:00 Checking the status of inference endpoint best-amlmodel-iris.\n",
      "Succeeded\n",
      "ACI service creation operation finished, operation \"Succeeded\"\n"
     ]
    }
   ],
   "source": [
    "service.wait_for_deployment(show_output=True)"
   ]
  },
  {
   "cell_type": "markdown",
   "metadata": {
    "gather": {
     "logged": 1598431657736
    },
    "jupyter": {
     "outputs_hidden": false,
     "source_hidden": false
    },
    "nteract": {
     "transient": {
      "deleting": false
     }
    }
   },
   "source": [
    "TODO: In the cell below, send a request to the web service you deployed to test it."
   ]
  },
  {
   "cell_type": "code",
   "execution_count": 21,
   "metadata": {
    "collapsed": false,
    "gather": {
     "logged": 1598432707604
    },
    "jupyter": {
     "outputs_hidden": false,
     "source_hidden": false
    },
    "nteract": {
     "transient": {
      "deleting": false
     }
    }
   },
   "outputs": [
    {
     "name": "stdout",
     "output_type": "stream",
     "text": [
      "URI to which we will send requests http://58a355a5-a4af-4e15-96d7-242488d229de.southcentralus.azurecontainer.io/score\n",
      "{\"data\": [{\"Column1\": 2.3, \"Column2\": 3.4, \"Column3\": 2.9, \"Column4\": 5.6}]}\n",
      "[\"Iris-virginica\"]\n"
     ]
    }
   ],
   "source": [
    "# data to test the endpoint after deployment\n",
    "data = {\n",
    "    \"data\":\n",
    "    [\n",
    "        { \n",
    "            \"Column1\":2.3,\n",
    "            \"Column2\":3.4,\n",
    "            \"Column3\":2.9,\n",
    "            \"Column4\":5.6\n",
    "        }\n",
    "    ]\n",
    "    \n",
    "}\n",
    "\n",
    "print(\"URI to which we will send requests\", service.scoring_uri)\n",
    "\n",
    "# Convert to JSON string\n",
    "input_data = json.dumps(data)\n",
    "print(input_data)\n",
    "# Set the content type\n",
    "headers = {'Content-Type': 'application/json'}\n",
    "\n",
    "# Make the request and display the response\n",
    "resp = requests.post(service.scoring_uri, input_data, headers=headers)\n",
    "print(resp.text)"
   ]
  },
  {
   "cell_type": "markdown",
   "metadata": {
    "gather": {
     "logged": 1598432765711
    },
    "jupyter": {
     "outputs_hidden": false,
     "source_hidden": false
    },
    "nteract": {
     "transient": {
      "deleting": false
     }
    }
   },
   "source": [
    "TODO: In the cell below, print the logs of the web service and delete the service"
   ]
  },
  {
   "cell_type": "code",
   "execution_count": 22,
   "metadata": {},
   "outputs": [
    {
     "name": "stdout",
     "output_type": "stream",
     "text": [
      "2021-07-30T22:20:41,012471100+00:00 - gunicorn/run \n",
      "Dynamic Python package installation is disabled.\n",
      "Starting HTTP server\n",
      "2021-07-30T22:20:41,021881900+00:00 - iot-server/run \n",
      "2021-07-30T22:20:41,021899700+00:00 - rsyslog/run \n",
      "2021-07-30T22:20:41,050599500+00:00 - nginx/run \n",
      "rsyslogd: /azureml-envs/azureml_2381ca41b26ae71cb9e5e93b8c3d0e43/lib/libuuid.so.1: no version information available (required by rsyslogd)\n",
      "EdgeHubConnectionString and IOTEDGE_IOTHUBHOSTNAME are not set. Exiting...\n",
      "2021-07-30T22:20:41,380560000+00:00 - iot-server/finish 1 0\n",
      "2021-07-30T22:20:41,382310800+00:00 - Exit code 1 is normal. Not restarting iot-server.\n",
      "Starting gunicorn 20.1.0\n",
      "Listening at: http://127.0.0.1:31311 (60)\n",
      "Using worker: sync\n",
      "worker timeout is set to 300\n",
      "Booting worker with pid: 88\n",
      "SPARK_HOME not set. Skipping PySpark Initialization.\n",
      "Generating new fontManager, this may take some time...\n",
      "Initializing logger\n",
      "2021-07-30 22:20:46,560 | root | INFO | Starting up app insights client\n",
      "logging socket was found. logging is available.\n",
      "logging socket was found. logging is available.\n",
      "2021-07-30 22:20:46,566 | root | INFO | Starting up request id generator\n",
      "2021-07-30 22:20:46,567 | root | INFO | Starting up app insight hooks\n",
      "2021-07-30 22:20:46,567 | root | INFO | Invoking user's init function\n",
      "2021-07-30 22:20:49,684 | root | INFO | Users's init has completed successfully\n",
      "2021-07-30 22:20:49,692 | root | INFO | Skipping middleware: dbg_model_info as it's not enabled.\n",
      "2021-07-30 22:20:49,692 | root | INFO | Skipping middleware: dbg_resource_usage as it's not enabled.\n",
      "2021-07-30 22:20:49,694 | root | INFO | Scoring timeout is found from os.environ: 60000 ms\n",
      "2021-07-30 22:20:50,213 | root | INFO | Swagger file not present\n",
      "2021-07-30 22:20:50,213 | root | INFO | 404\n",
      "127.0.0.1 - - [30/Jul/2021:22:20:50 +0000] \"GET /swagger.json HTTP/1.0\" 404 19 \"-\" \"Go-http-client/1.1\"\n",
      "2021-07-30 22:20:54,725 | root | INFO | Swagger file not present\n",
      "2021-07-30 22:20:54,726 | root | INFO | 404\n",
      "127.0.0.1 - - [30/Jul/2021:22:20:54 +0000] \"GET /swagger.json HTTP/1.0\" 404 19 \"-\" \"Go-http-client/1.1\"\n",
      "127.0.0.1 - - [30/Jul/2021:22:25:04 +0000] \"POST /HNAP1/ HTTP/1.0\" 404 232 \"-\" \"Go-http-client/1.1\"\n",
      "2021-07-30 22:31:00,256 | root | INFO | Scoring Timer is set to 60.0 seconds\n",
      "2021-07-30 22:31:00,300 | root | INFO | 200\n",
      "127.0.0.1 - - [30/Jul/2021:22:31:00 +0000] \"POST /score HTTP/1.0\" 200 18 \"-\" \"python-requests/2.25.1\"\n",
      "\n"
     ]
    }
   ],
   "source": [
    "print(service.get_logs())"
   ]
  },
  {
   "cell_type": "code",
   "execution_count": 23,
   "metadata": {
    "collapsed": false,
    "jupyter": {
     "outputs_hidden": false,
     "source_hidden": false
    },
    "nteract": {
     "transient": {
      "deleting": false
     }
    }
   },
   "outputs": [],
   "source": [
    "service.delete()"
   ]
  },
  {
   "cell_type": "code",
   "execution_count": null,
   "metadata": {},
   "outputs": [],
   "source": [
    "compute_target.delete()"
   ]
  }
 ],
 "metadata": {
  "kernel_info": {
   "name": "python3-azureml"
  },
  "kernelspec": {
   "display_name": "Python 3",
   "language": "python",
   "name": "python3"
  },
  "language_info": {
   "codemirror_mode": {
    "name": "ipython",
    "version": 3
   },
   "file_extension": ".py",
   "mimetype": "text/x-python",
   "name": "python",
   "nbconvert_exporter": "python",
   "pygments_lexer": "ipython3",
   "version": "3.6.9"
  },
  "nteract": {
   "version": "nteract-front-end@1.0.0"
  }
 },
 "nbformat": 4,
 "nbformat_minor": 4
}
